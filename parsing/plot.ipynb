{
 "cells": [
  {
   "cell_type": "code",
   "execution_count": 1,
   "metadata": {},
   "outputs": [],
   "source": [
    "import matplotlib.pyplot as plt\n",
    "import seaborn as sns\n",
    "\n",
    "sns.reset_defaults()\n",
    "sns.set_theme(style='whitegrid')"
   ]
  },
  {
   "cell_type": "code",
   "execution_count": 56,
   "metadata": {},
   "outputs": [
    {
     "name": "stdout",
     "output_type": "stream",
     "text": [
      "90401790 188.8 42.484248424842484\n"
     ]
    }
   ],
   "source": [
    "def benchmark(source, input_file='input.txt', n=10**6, cc='g++', flags='-Wall'):\n",
    "    !{cc} -std=c++17 -O3 -funroll-loops -march=native {flags} {source}.cc -o {source}\n",
    "    res = !./{source} {n} < {input_file}\n",
    "    check = res[0]\n",
    "    ns = float(res[1].split()[1])\n",
    "    cycles = 2 * ns / 8.888\n",
    "    print(check, ns, cycles)\n",
    "\n",
    "benchmark('scanf', 'input.txt')"
   ]
  },
  {
   "cell_type": "code",
   "execution_count": 20,
   "metadata": {},
   "outputs": [
    {
     "name": "stdout",
     "output_type": "stream",
     "text": [
      "76629179 439.7581 98.95546804680468\n"
     ]
    }
   ],
   "source": [
    "benchmark('iostream','input.txt', n=10**7)"
   ]
  },
  {
   "cell_type": "code",
   "execution_count": 37,
   "metadata": {},
   "outputs": [
    {
     "name": "stdout",
     "output_type": "stream",
     "text": [
      "58888569 24.025 5.406165616561656\n"
     ]
    }
   ],
   "source": [
    "benchmark('burunduk','large.txt', n=10**8)"
   ]
  },
  {
   "cell_type": "code",
   "execution_count": 35,
   "metadata": {},
   "outputs": [
    {
     "name": "stdout",
     "output_type": "stream",
     "text": [
      "58888569 12.4709 2.806233123312331\n"
     ]
    }
   ],
   "source": [
    "benchmark('buffered', 'large.txt', n=10**8)"
   ]
  },
  {
   "cell_type": "code",
   "execution_count": 72,
   "metadata": {},
   "outputs": [
    {
     "name": "stdout",
     "output_type": "stream",
     "text": [
      "76629179 441.3871 99.3220297029703\n"
     ]
    }
   ],
   "source": [
    "benchmark('iostream','input.txt', n=10**7, cc='clang++')"
   ]
  },
  {
   "cell_type": "code",
   "execution_count": 71,
   "metadata": {},
   "outputs": [
    {
     "name": "stdout",
     "output_type": "stream",
     "text": [
      "76629179 178.392 40.142214221422144\n"
     ]
    }
   ],
   "source": [
    "benchmark('scanf','input.txt', n=10**7, cc='clang++')"
   ]
  },
  {
   "cell_type": "code",
   "execution_count": 46,
   "metadata": {},
   "outputs": [
    {
     "data": {
      "text/plain": [
       "16.7998"
      ]
     },
     "execution_count": 46,
     "metadata": {},
     "output_type": "execute_result"
    }
   ],
   "source": [
    "184.7978/11"
   ]
  },
  {
   "cell_type": "code",
   "execution_count": 36,
   "metadata": {},
   "outputs": [
    {
     "name": "stdout",
     "output_type": "stream",
     "text": [
      "58888569 11.2546 2.5325382538253827\n"
     ]
    }
   ],
   "source": [
    "benchmark('mmaped','large.txt', n=10**8)"
   ]
  },
  {
   "cell_type": "code",
   "execution_count": 42,
   "metadata": {},
   "outputs": [
    {
     "name": "stdout",
     "output_type": "stream",
     "text": [
      "58888569 4.9376 1.111071107110711\n"
     ]
    }
   ],
   "source": [
    "benchmark('transpose','large.txt', n=10**8)"
   ]
  },
  {
   "cell_type": "code",
   "execution_count": 43,
   "metadata": {},
   "outputs": [
    {
     "name": "stdout",
     "output_type": "stream",
     "text": [
      "58888569 3.9774 0.895004500450045\n"
     ]
    }
   ],
   "source": [
    "benchmark('transpose-wide', 'large.txt', n=10**8)"
   ]
  },
  {
   "cell_type": "code",
   "execution_count": 73,
   "metadata": {},
   "outputs": [
    {
     "name": "stdout",
     "output_type": "stream",
     "text": [
      "58888569 3.8017 0.8554680468046805\n"
     ]
    }
   ],
   "source": [
    "benchmark('transpose-wide', 'large.txt', n=10**8)"
   ]
  },
  {
   "cell_type": "code",
   "execution_count": 89,
   "metadata": {},
   "outputs": [
    {
     "name": "stdout",
     "output_type": "stream",
     "text": [
      "58888569 3.6863 0.8295004500450045\n"
     ]
    }
   ],
   "source": [
    "benchmark('transpose-mmap', 'large.txt', n=10**8)"
   ]
  },
  {
   "cell_type": "code",
   "execution_count": 88,
   "metadata": {},
   "outputs": [
    {
     "name": "stdout",
     "output_type": "stream",
     "text": [
      "58888569 3.6969 0.8318856885688568\n"
     ]
    }
   ],
   "source": [
    "benchmark('transpose-mmap-wide', 'large.txt', n=10**8)"
   ]
  },
  {
   "cell_type": "markdown",
   "metadata": {},
   "source": [
    "0.22 transpose only\n",
    "0.64 update only\n",
    "0.84 combined\n",
    "\n",
    "10xxxxxx first sep   dump, x = c & low\n",
    "11xxxxxx second sep  x = x *10 + c & low, dump, x = 0\n",
    "111xxxxx both sep    do nothing (ignore for now)\n",
    "0xxxxxxx none sep    x = x * 100 + c\n",
    "\n",
    "m10 = x * 10\n",
    "m100 = x * 100\n",
    "clow = c & low\n",
    "\n",
    "chigh = c & high\n",
    "mfirst = (chigh == 10)\n",
    "msecond = (chigh == 11)\n",
    "mnone = mfirst | msecond\n",
    "\n",
    "dumpval = \n",
    "    0           if mnone\n",
    "    x           if mfirst\n",
    "    m10 + clow  if msecond\n",
    "\n",
    "x =\n",
    "    m100 + c    if mnone\n",
    "    clow        if mfirst\n",
    "    0           if msecond\n",
    "\n",
    "need special mark to support zeros"
   ]
  },
  {
   "cell_type": "markdown",
   "metadata": {},
   "source": [
    "clow = c & low\n",
    "chigh = c & high2\n",
    "\n",
    "mfirst = (chigh == 10)\n",
    "msecond = (chigh == 11)\n",
    "\n",
    "dumpval = x if mfirst else 0\n",
    "dumpval = x * 10 + clow if msecond else dumpval\n",
    "\n",
    "x = clow if mfirst else x * 100 + c\n",
    "x = 0 if msecond else x"
   ]
  },
  {
   "cell_type": "code",
   "execution_count": 53,
   "metadata": {},
   "outputs": [
    {
     "data": {
      "text/plain": [
       "-375"
      ]
     },
     "execution_count": 53,
     "metadata": {},
     "output_type": "execute_result"
    }
   ],
   "source": [
    "-38 * 10 + 5"
   ]
  },
  {
   "cell_type": "code",
   "execution_count": null,
   "metadata": {},
   "outputs": [],
   "source": [
    "m = z > c\n",
    "\n",
    "y = x * 10 + c\n",
    "s = s ^ (m & x)\n",
    "x = blend(y, z, m)"
   ]
  },
  {
   "cell_type": "code",
   "execution_count": 21,
   "metadata": {},
   "outputs": [
    {
     "data": {
      "text/plain": [
       "39.58218721872187"
      ]
     },
     "execution_count": 21,
     "metadata": {},
     "output_type": "execute_result"
    }
   ],
   "source": [
    "98.95546804680468/2.5"
   ]
  },
  {
   "cell_type": "code",
   "execution_count": 23,
   "metadata": {},
   "outputs": [
    {
     "data": {
      "text/plain": [
       "103.23919891989199"
      ]
     },
     "execution_count": 23,
     "metadata": {},
     "output_type": "execute_result"
    }
   ],
   "source": [
    "41.295679567956796/0.4"
   ]
  },
  {
   "cell_type": "code",
   "execution_count": 19,
   "metadata": {},
   "outputs": [
    {
     "data": {
      "text/plain": [
       "16.51827182718272"
      ]
     },
     "execution_count": 19,
     "metadata": {},
     "output_type": "execute_result"
    }
   ],
   "source": [
    "41.295679567956796/2.5"
   ]
  },
  {
   "cell_type": "code",
   "execution_count": 8,
   "metadata": {},
   "outputs": [
    {
     "name": "stdout",
     "output_type": "stream",
     "text": [
      "76629179 42.0781 9.468519351935193\n"
     ]
    }
   ],
   "source": [
    "benchmark('getchar_unlocked', n=10**7)"
   ]
  },
  {
   "cell_type": "code",
   "execution_count": 20,
   "metadata": {},
   "outputs": [
    {
     "name": "stdout",
     "output_type": "stream",
     "text": [
      "90401790 24.537 5.521377137713771\n"
     ]
    }
   ],
   "source": [
    "benchmark('burunduk')"
   ]
  },
  {
   "cell_type": "code",
   "execution_count": 30,
   "metadata": {},
   "outputs": [
    {
     "name": "stdout",
     "output_type": "stream",
     "text": [
      "76629179 12.4377 2.7987623762376237\n"
     ]
    }
   ],
   "source": [
    "benchmark('simd16', n=10**7)"
   ]
  },
  {
   "cell_type": "code",
   "execution_count": 35,
   "metadata": {},
   "outputs": [
    {
     "name": "stdout",
     "output_type": "stream",
     "text": [
      "58888569 10.9939 2.473874887488749\n"
     ]
    }
   ],
   "source": [
    "benchmark('simd16', 'large.txt', n=10**8)"
   ]
  },
  {
   "cell_type": "code",
   "execution_count": 39,
   "metadata": {},
   "outputs": [
    {
     "name": "stdout",
     "output_type": "stream",
     "text": [
      "58888569 3.8739 0.8717146714671467\n"
     ]
    }
   ],
   "source": [
    "benchmark('transpose-wide', 'large.txt', n=10**8)"
   ]
  },
  {
   "cell_type": "code",
   "execution_count": 49,
   "metadata": {},
   "outputs": [
    {
     "name": "stdout",
     "output_type": "stream",
     "text": [
      "56652457 1.7859 0.4018676867686769\n"
     ]
    }
   ],
   "source": [
    "benchmark('transpose', 'large.txt', n=10**8)"
   ]
  },
  {
   "cell_type": "markdown",
   "metadata": {},
   "source": [
    "0.30 is reading\n",
    "0.40 is transposition\n",
    "1.15 total\n",
    "\n",
    "0.38 read\n",
    "0.06 transpose\n",
    "0.24 twice \n",
    "0.5  filter (0.25 if we use original char array?)\n",
    "\n",
    "dissect later in the article"
   ]
  },
  {
   "cell_type": "code",
   "execution_count": 46,
   "metadata": {},
   "outputs": [
    {
     "data": {
      "text/plain": [
       "0.1813953488372093"
      ]
     },
     "execution_count": 46,
     "metadata": {},
     "output_type": "execute_result"
    }
   ],
   "source": [
    "2 * 0.0078 * 10**9 / (86 * 10**6)"
   ]
  },
  {
   "cell_type": "code",
   "execution_count": 5,
   "metadata": {},
   "outputs": [
    {
     "name": "stdout",
     "output_type": "stream",
     "text": [
      "\u001b[01m\u001b[Kmmap.cc:\u001b[m\u001b[K In function ‘\u001b[01m\u001b[Kint read(int)\u001b[m\u001b[K’:\n",
      "\u001b[01m\u001b[Kmmap.cc:6:11:\u001b[m\u001b[K \u001b[01;35m\u001b[Kwarning: \u001b[m\u001b[Kunused variable ‘\u001b[01m\u001b[Kbuffer\u001b[m\u001b[K’ [\u001b[01;35m\u001b[K\u001b]8;;https://gcc.gnu.org/onlinedocs/gcc/Warning-Options.html#index-Wunused-variable\u0007-Wunused-variable\u001b]8;;\u0007\u001b[m\u001b[K]\n",
      "    6 |     char* \u001b[01;35m\u001b[Kbuffer\u001b[m\u001b[K = (char*) mmap(0, fsize, PROT_READ, MAP_PRIVATE | MAP_POPULATE, 0, 0);\n",
      "      |           \u001b[01;35m\u001b[K^~~~~~\u001b[m\u001b[K\n",
      "888893772 4.7109 1.060058505850585\n"
     ]
    }
   ],
   "source": [
    "benchmark('mmap', 'large.txt', n=10**8)"
   ]
  },
  {
   "cell_type": "code",
   "execution_count": 37,
   "metadata": {},
   "outputs": [
    {
     "name": "stdout",
     "output_type": "stream",
     "text": [
      "98343609 4.228 0.9513951395139514\n"
     ]
    }
   ],
   "source": [
    "benchmark('simd16-parallel', 'large.txt', n=10**8)"
   ]
  },
  {
   "cell_type": "code",
   "execution_count": null,
   "metadata": {},
   "outputs": [],
   "source": [
    "0.1182 1.1817 0.2656\n",
    "0.1483 1.4825 0.3332\n",
    "0.4283 4.2835 0.9626\n",
    "\n",
    "\n",
    "0.0676 x4 = 0.2704\n",
    "0.5\n",
    "\n",
    "0.5\n",
    "\n",
    "2.1"
   ]
  },
  {
   "cell_type": "code",
   "execution_count": 4,
   "metadata": {},
   "outputs": [],
   "source": [
    "results = [\n",
    "    ('iostream', 430.7935),\n",
    "    ('scanf', 166.3727),\n",
    "    ('iostream_nosync', 109.7011),\n",
    "    ('getchar', 44.8829),\n",
    "    ('getchar_unlocked', 26.8387),\n",
    "    ('buffered', 14.2771),\n",
    "    ('simd_serial', 10.0660),\n",
    "    ('simd_transpose', 5.3479),\n",
    "]"
   ]
  },
  {
   "cell_type": "code",
   "execution_count": 23,
   "metadata": {},
   "outputs": [
    {
     "data": {
      "image/png": "[encoded data removed]",
      "text/plain": [
       "<Figure size 1200x800 with 1 Axes>"
      ]
     },
     "metadata": {},
     "output_type": "display_data"
    }
   ],
   "source": [
    "plt.title(\"Decimal integers parsing\", fontsize=18, pad=20)\n",
    "plt.ylabel(\"Numbers per second\")\n",
    "\n",
    "plt.tick_params(axis='x', labelsize=10)\n",
    "\n",
    "for i, (x, y) in enumerate(results):\n",
    "    plt.bar(x, 10**6 / y)\n",
    "\n",
    "fig = plt.gcf()\n",
    "fig.set_size_inches(12, 8)\n",
    "#fig.savefig(filename)\n",
    "\n",
    "plt.show()"
   ]
  }
 ],
 "metadata": {
  "interpreter": {
   "hash": "e7370f93d1d0cde622a1f8e1c04877d8463912d04d973331ad4851f04de6915a"
  },
  "kernelspec": {
   "display_name": "Python 3.8.10 64-bit",
   "language": "python",
   "name": "python3"
  },
  "language_info": {
   "codemirror_mode": {
    "name": "ipython",
    "version": 3
   },
   "file_extension": ".py",
   "mimetype": "text/x-python",
   "name": "python",
   "nbconvert_exporter": "python",
   "pygments_lexer": "ipython3",
   "version": "3.10.6"
  },
  "orig_nbformat": 4
 },
 "nbformat": 4,
 "nbformat_minor": 2
}
