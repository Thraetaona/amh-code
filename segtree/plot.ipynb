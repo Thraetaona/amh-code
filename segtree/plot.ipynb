{
 "cells": [
  {
   "cell_type": "code",
   "execution_count": null,
   "metadata": {},
   "outputs": [],
   "source": [
    "import matplotlib.pyplot as plt\n",
    "import seaborn as sns\n",
    "\n",
    "sns.reset_defaults()"
   ]
  },
  {
   "cell_type": "code",
   "execution_count": 5,
   "metadata": {},
   "outputs": [
    {
     "name": "stdout",
     "output_type": "stream",
     "text": [
      "['1064.8584', '1093.5402', '8237739']\n"
     ]
    }
   ],
   "source": [
    "def bench(n=2**20, q=2**20, source='pointers'):\n",
    "    res = !g++ -O3 -march=native -D N={n} -D Q={q} {source}.cc -o run && ./run\n",
    "    print(source, res)\n",
    "    add = float(res[0])\n",
    "    upd = float(res[1])\n",
    "    check = int(res[2])\n",
    "    #check = int(res[1])\n",
    "    #print(f'{source:>18} {n:<7} {q:<7} {check:10} {duration}')\n",
    "    return add, upd, check\n",
    "\n",
    "#ns = list(int(1.17**k) for k in range(50, 100))\n",
    "\n",
    "#l = [bench(n) for n in ns]\n",
    "\n",
    "baseline = bench()"
   ]
  },
  {
   "cell_type": "code",
   "execution_count": null,
   "metadata": {},
   "outputs": [],
   "source": [
    "plt.xlabel('Array size')\n",
    "plt.ylabel('GFLOPS')\n",
    "\n",
    "plt.plot(ns, l, color='darkred')\n",
    "\n",
    "lines = [\n",
    "    (2**13, \"32KB\"),\n",
    "    (2**17, \"512KB\"),\n",
    "    (2**21, \"8MB\"),\n",
    "]\n",
    "\n",
    "for x, t in lines:\n",
    "    plt.text(x * 1.2, 10, t)\n",
    "    plt.axvline(x=x, color='black', linestyle='--')\n",
    "\n",
    "plt.xscale('log', basex=2)\n",
    "\n",
    "#plt.title(\"for(int i = 0; i < n; i++) a[i]++\")\n",
    "\n",
    "#plt.show()\n",
    "plt.savefig(\"inc.svg\")"
   ]
  }
 ],
 "metadata": {
  "interpreter": {
   "hash": "e7370f93d1d0cde622a1f8e1c04877d8463912d04d973331ad4851f04de6915a"
  },
  "kernelspec": {
   "display_name": "Python 3.8.10 64-bit",
   "language": "python",
   "name": "python3"
  },
  "language_info": {
   "codemirror_mode": {
    "name": "ipython",
    "version": 3
   },
   "file_extension": ".py",
   "mimetype": "text/x-python",
   "name": "python",
   "nbconvert_exporter": "python",
   "pygments_lexer": "ipython3",
   "version": "3.8.10"
  },
  "orig_nbformat": 4
 },
 "nbformat": 4,
 "nbformat_minor": 2
}
