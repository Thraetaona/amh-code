{
 "cells": [
  {
   "cell_type": "code",
   "execution_count": null,
   "metadata": {},
   "outputs": [],
   "source": [
    "# enable huge pages\n",
    "# echo always >/sys/kernel/mm/transparent_hugepage/enabled"
   ]
  },
  {
   "cell_type": "code",
   "execution_count": 2,
   "metadata": {},
   "outputs": [],
   "source": [
    "import matplotlib.pyplot as plt\n",
    "import seaborn as sns\n",
    "\n",
    "sns.reset_defaults()\n",
    "sns.set_theme(style='whitegrid')"
   ]
  },
  {
   "cell_type": "code",
   "execution_count": 3,
   "metadata": {},
   "outputs": [],
   "source": [
    "def bench(source='pointers', n=2**20, q=2**20, cc='clang++'):\n",
    "    !{cc} -std=c++17 -O3 -march=native -D N={n} -D Q={q} {source}.cc -o run\n",
    "    res = !./run\n",
    "    update, query, check = map(float, res)\n",
    "    check = int(check)\n",
    "    print(f'{source:>18} {cc:<7} {n:<7} {q:<7} {check:10} {update} {query}')\n",
    "    return update, query"
   ]
  },
  {
   "cell_type": "code",
   "execution_count": 36,
   "metadata": {},
   "outputs": [
    {
     "name": "stdout",
     "output_type": "stream",
     "text": [
      "          pointers clang++ 1048576 1048576    8237739 1126.16 1286.1\n"
     ]
    },
    {
     "data": {
      "text/plain": [
       "(1126.16, 1286.1)"
      ]
     },
     "execution_count": 36,
     "metadata": {},
     "output_type": "execute_result"
    }
   ],
   "source": [
    "bench('pointers')"
   ]
  },
  {
   "cell_type": "code",
   "execution_count": 57,
   "metadata": {},
   "outputs": [
    {
     "name": "stdout",
     "output_type": "stream",
     "text": [
      "         recursive clang++ 1048576 1048576    8237739 219.38 325.59\n"
     ]
    },
    {
     "data": {
      "text/plain": [
       "(219.38, 325.59)"
      ]
     },
     "execution_count": 57,
     "metadata": {},
     "output_type": "execute_result"
    }
   ],
   "source": [
    "bench('recursive')"
   ]
  },
  {
   "cell_type": "code",
   "execution_count": 38,
   "metadata": {},
   "outputs": [
    {
     "name": "stdout",
     "output_type": "stream",
     "text": [
      "        recursive2 clang++ 1048576 1048576    8237739 215.75 197.86\n"
     ]
    },
    {
     "data": {
      "text/plain": [
       "(215.75, 197.86)"
      ]
     },
     "execution_count": 38,
     "metadata": {},
     "output_type": "execute_result"
    }
   ],
   "source": [
    "bench('recursive2')"
   ]
  },
  {
   "cell_type": "code",
   "execution_count": 58,
   "metadata": {},
   "outputs": [
    {
     "name": "stdout",
     "output_type": "stream",
     "text": [
      "             while clang++ 1048576 1048576    8237739 193.98 139.37\n"
     ]
    },
    {
     "data": {
      "text/plain": [
       "(193.98, 139.37)"
      ]
     },
     "execution_count": 58,
     "metadata": {},
     "output_type": "execute_result"
    }
   ],
   "source": [
    "bench('while')"
   ]
  },
  {
   "cell_type": "code",
   "execution_count": 77,
   "metadata": {},
   "outputs": [
    {
     "name": "stdout",
     "output_type": "stream",
     "text": [
      "         iterative clang++ 1048576 4194304   32388439 85.28 170.9\n"
     ]
    },
    {
     "data": {
      "text/plain": [
       "(85.28, 170.9)"
      ]
     },
     "execution_count": 77,
     "metadata": {},
     "output_type": "execute_result"
    }
   ],
   "source": [
    "bench('iterative', q=2**22)"
   ]
  },
  {
   "cell_type": "code",
   "execution_count": 3,
   "metadata": {},
   "outputs": [
    {
     "name": "stdout",
     "output_type": "stream",
     "text": [
      "iterative-branchless clang++ 1048576 1048576    8237739 84.88 183.72\n"
     ]
    },
    {
     "data": {
      "text/plain": [
       "(84.88, 183.72)"
      ]
     },
     "execution_count": 3,
     "metadata": {},
     "output_type": "execute_result"
    }
   ],
   "source": [
    "bench('iterative-branchless')\n",
    "# todo: top-down branchless"
   ]
  },
  {
   "cell_type": "code",
   "execution_count": 76,
   "metadata": {},
   "outputs": [
    {
     "name": "stdout",
     "output_type": "stream",
     "text": [
      "iterative-unrolled clang++ 1048576 4194304   32388439 90.82 158.56\n"
     ]
    },
    {
     "data": {
      "text/plain": [
       "(90.82, 158.56)"
      ]
     },
     "execution_count": 76,
     "metadata": {},
     "output_type": "execute_result"
    }
   ],
   "source": [
    "bench('iterative-unrolled', q=2**22)"
   ]
  },
  {
   "cell_type": "code",
   "execution_count": 9,
   "metadata": {},
   "outputs": [
    {
     "name": "stdout",
     "output_type": "stream",
     "text": [
      "         iterative clang++ 1048576 1048576    8237739 83.69 168.08\n",
      " iterative-general clang++ 1048576 1048576    8237739 84.03 171.86\n"
     ]
    },
    {
     "data": {
      "text/plain": [
       "(84.03, 171.86)"
      ]
     },
     "execution_count": 9,
     "metadata": {},
     "output_type": "execute_result"
    }
   ],
   "source": [
    "bench('iterative')\n",
    "bench('iterative-general')"
   ]
  },
  {
   "cell_type": "code",
   "execution_count": 21,
   "metadata": {},
   "outputs": [
    {
     "name": "stdout",
     "output_type": "stream",
     "text": [
      " iterative-twoends clang++ 1048576 1048576    8237739 89.52 153.3\n",
      "         iterative clang++ 1048576 1048576    8237739 87.5 148.76\n",
      "             while clang++ 1048576 1048576    8237739 189.52 140.87\n",
      " iterative-general clang++ 1048576 1048576    8237739 84.88 145.63\n"
     ]
    },
    {
     "data": {
      "text/plain": [
       "(84.88, 145.63)"
      ]
     },
     "execution_count": 21,
     "metadata": {},
     "output_type": "execute_result"
    }
   ],
   "source": [
    "n = 2**20\n",
    "bench('iterative-twoends', n=n)\n",
    "bench('iterative', n=n)\n",
    "bench('while', n=n)\n",
    "bench('iterative-general', n=n)"
   ]
  },
  {
   "cell_type": "code",
   "execution_count": 24,
   "metadata": {},
   "outputs": [
    {
     "name": "stdout",
     "output_type": "stream",
     "text": [
      "iterative-branchless clang++ 1048576 1048576    8237739 85.03 122.8\n"
     ]
    },
    {
     "data": {
      "text/plain": [
       "(85.03, 122.8)"
      ]
     },
     "execution_count": 24,
     "metadata": {},
     "output_type": "execute_result"
    }
   ],
   "source": [
    "bench('iterative-branchless')"
   ]
  },
  {
   "cell_type": "code",
   "execution_count": 7,
   "metadata": {},
   "outputs": [
    {
     "name": "stdout",
     "output_type": "stream",
     "text": [
      "           fenwick clang++ 1048576 1048576    8237739 79.96 43.79\n",
      "          fenwick2 clang++ 1048576 1048576    8237739 84.39 46.48\n",
      "     fenwick-holes clang++ 1048576 1048576    8237739 70.56 45.78\n"
     ]
    },
    {
     "data": {
      "text/plain": [
       "(70.56, 45.78)"
      ]
     },
     "execution_count": 7,
     "metadata": {},
     "output_type": "execute_result"
    }
   ],
   "source": [
    "bench('fenwick')\n",
    "bench('fenwick2')\n",
    "bench('fenwick-holes')"
   ]
  },
  {
   "cell_type": "code",
   "execution_count": 34,
   "metadata": {},
   "outputs": [
    {
     "name": "stdout",
     "output_type": "stream",
     "text": [
      "           fenwick clang++ 10000000 8388608   27577432 159.09 74.32\n",
      "              simd clang++ 10000000 8388608   27577432 87.62 31.52\n"
     ]
    },
    {
     "data": {
      "text/plain": [
       "(87.62, 31.52)"
      ]
     },
     "execution_count": 34,
     "metadata": {},
     "output_type": "execute_result"
    }
   ],
   "source": [
    "n = 10**7\n",
    "q = 2**23\n",
    "bench('fenwick', n=n, q=q)\n",
    "bench('simd', n=n, q=q)"
   ]
  },
  {
   "cell_type": "code",
   "execution_count": 33,
   "metadata": {},
   "outputs": [
    {
     "name": "stdout",
     "output_type": "stream",
     "text": [
      "              simd clang++ 10000000 8388608   27577432 90.9 30.72\n"
     ]
    },
    {
     "data": {
      "text/plain": [
       "(90.9, 30.72)"
      ]
     },
     "execution_count": 33,
     "metadata": {},
     "output_type": "execute_result"
    }
   ],
   "source": [
    "bench('simd', n=n, q=q)"
   ]
  },
  {
   "cell_type": "code",
   "execution_count": 70,
   "metadata": {},
   "outputs": [
    {
     "name": "stdout",
     "output_type": "stream",
     "text": [
      "         iterative clang++ 8388608 1048576    7228362 144.5 202.48\n",
      "iterative-branchless clang++ 8388608 1048576    7228362 138.98 224.31\n"
     ]
    },
    {
     "data": {
      "text/plain": [
       "(138.98, 224.31)"
      ]
     },
     "execution_count": 70,
     "metadata": {},
     "output_type": "execute_result"
    }
   ],
   "source": [
    "n = 2**23\n",
    "bench('iterative', n=n)\n",
    "bench('iterative-branchless', n=n)"
   ]
  },
  {
   "cell_type": "code",
   "execution_count": 14,
   "metadata": {},
   "outputs": [
    {
     "name": "stdout",
     "output_type": "stream",
     "text": [
      "             while clang++ 16384   1048576    1686941 45.77 88.35\n",
      " iterative-general clang++ 16384   1048576    1686941 15.52 115.19\n"
     ]
    },
    {
     "data": {
      "text/plain": [
       "(15.52, 115.19)"
      ]
     },
     "execution_count": 14,
     "metadata": {},
     "output_type": "execute_result"
    }
   ],
   "source": [
    "n = 2**14\n",
    "bench('while', n=n)\n",
    "bench('iterative-general', n=n)"
   ]
  },
  {
   "cell_type": "code",
   "execution_count": 22,
   "metadata": {},
   "outputs": [
    {
     "name": "stdout",
     "output_type": "stream",
     "text": [
      "         refactor2 clang++ 131072  1048576     829530 6.7463 2.0523\n"
     ]
    },
    {
     "data": {
      "text/plain": [
       "(6.7463, 2.0523)"
      ]
     },
     "execution_count": 22,
     "metadata": {},
     "output_type": "execute_result"
    }
   ],
   "source": [
    "bench('refactor2', n=2**17)"
   ]
  },
  {
   "cell_type": "code",
   "execution_count": 23,
   "metadata": {},
   "outputs": [
    {
     "name": "stdout",
     "output_type": "stream",
     "text": [
      "         recursive clang++ 131072  1048576     829530 46.073 122.2992\n"
     ]
    },
    {
     "data": {
      "text/plain": [
       "(46.073, 122.2992)"
      ]
     },
     "execution_count": 23,
     "metadata": {},
     "output_type": "execute_result"
    }
   ],
   "source": [
    "bench('recursive', n=2**17)"
   ]
  },
  {
   "cell_type": "code",
   "execution_count": 18,
   "metadata": {},
   "outputs": [
    {
     "name": "stdout",
     "output_type": "stream",
     "text": [
      "             while clang++ 1048576 1048576    8237739 156.4913 123.1298\n"
     ]
    },
    {
     "data": {
      "text/plain": [
       "(156.4913, 123.1298)"
      ]
     },
     "execution_count": 18,
     "metadata": {},
     "output_type": "execute_result"
    }
   ],
   "source": [
    "bench('while', n=2**20)"
   ]
  },
  {
   "cell_type": "code",
   "execution_count": 15,
   "metadata": {},
   "outputs": [
    {
     "name": "stdout",
     "output_type": "stream",
     "text": [
      "         iterative clang++ 4096    1048576    8000795 4.6673 39.772\n"
     ]
    },
    {
     "data": {
      "text/plain": [
       "(4.6673, 39.772)"
      ]
     },
     "execution_count": 15,
     "metadata": {},
     "output_type": "execute_result"
    }
   ],
   "source": [
    "bench('iterative', n=2**12)"
   ]
  },
  {
   "cell_type": "code",
   "execution_count": 8,
   "metadata": {},
   "outputs": [],
   "source": [
    "def plot(title=None, ylabel=None, path=None, ch=None, legend=True, ylim=None):\n",
    "    if ch:\n",
    "        lines = [\n",
    "            (2**13, \"32K\"),\n",
    "            (2**17, \"512K\"),\n",
    "            (2**20, \"4M\"),\n",
    "        ]\n",
    "\n",
    "        for x, t in lines:\n",
    "            plt.text(x * 1.2, ch, t)\n",
    "            plt.axvline(x=x, color='black', linestyle='--')\n",
    "\n",
    "    plt.xscale('log', basex=2)\n",
    "    plt.xlabel('Array size')\n",
    "\n",
    "    if ylabel:\n",
    "        plt.ylabel(ylabel)\n",
    "\n",
    "    if title:\n",
    "        plt.title(title, pad=12)\n",
    "\n",
    "    if legend:\n",
    "        plt.legend(loc='best')\n",
    "\n",
    "    plt.ylim(bottom=0, top=ylim)\n",
    "    plt.margins(0)\n",
    "\n",
    "    if path:\n",
    "        fig = plt.gcf()\n",
    "        fig.savefig(path)\n",
    "    \n",
    "    plt.show()"
   ]
  },
  {
   "cell_type": "code",
   "execution_count": null,
   "metadata": {},
   "outputs": [],
   "source": [
    "ns = list(int(1.17**k) for k in range(30, 110))"
   ]
  }
 ],
 "metadata": {
  "interpreter": {
   "hash": "e7370f93d1d0cde622a1f8e1c04877d8463912d04d973331ad4851f04de6915a"
  },
  "kernelspec": {
   "display_name": "Python 3.8.10 64-bit",
   "language": "python",
   "name": "python3"
  },
  "language_info": {
   "codemirror_mode": {
    "name": "ipython",
    "version": 3
   },
   "file_extension": ".py",
   "mimetype": "text/x-python",
   "name": "python",
   "nbconvert_exporter": "python",
   "pygments_lexer": "ipython3",
   "version": "3.8.10"
  },
  "orig_nbformat": 4
 },
 "nbformat": 4,
 "nbformat_minor": 2
}
