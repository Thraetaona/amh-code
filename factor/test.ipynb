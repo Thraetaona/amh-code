{
 "cells": [
  {
   "cell_type": "code",
   "execution_count": 2,
   "metadata": {},
   "outputs": [],
   "source": [
    "import numpy\n",
    "\n",
    "numpy.array([1, 2, 3, 4]).tofile('semiprimes.in')"
   ]
  },
  {
   "cell_type": "code",
   "execution_count": 261,
   "metadata": {},
   "outputs": [
    {
     "ename": "TypeError",
     "evalue": "randint() takes 2 positional arguments but 3 were given",
     "output_type": "error",
     "traceback": [
      "\u001b[1;31m---------------------------------------------------------------------------\u001b[0m",
      "\u001b[1;31mTypeError\u001b[0m                                 Traceback (most recent call last)",
      "\u001b[1;32m/home/sereja/Projects/amh-code/factor/test.ipynb Cell 2'\u001b[0m in \u001b[0;36m<cell line: 1>\u001b[1;34m()\u001b[0m\n\u001b[1;32m----> <a href='vscode-notebook-cell:/home/sereja/Projects/amh-code/factor/test.ipynb#ch0000041?line=0'>1</a>\u001b[0m randint(Integer(\u001b[39m0\u001b[39;49m), Integer(\u001b[39m10\u001b[39;49m), Integer(\u001b[39m5\u001b[39;49m))\n",
      "\u001b[1;31mTypeError\u001b[0m: randint() takes 2 positional arguments but 3 were given"
     ]
    }
   ],
   "source": [
    "randint(0, 10, 5)"
   ]
  },
  {
   "cell_type": "code",
   "execution_count": 313,
   "metadata": {},
   "outputs": [
    {
     "data": {
      "text/plain": [
       "59 * 61"
      ]
     },
     "execution_count": 313,
     "metadata": {},
     "output_type": "execute_result"
    }
   ],
   "source": [
    "k = 5\n",
    "p = random_prime(2^(k+1), lbound=2^k)\n",
    "q = random_prime(2^(k+1), lbound=2^k)\n",
    "factor(p * q)"
   ]
  },
  {
   "cell_type": "code",
   "execution_count": 318,
   "metadata": {},
   "outputs": [
    {
     "data": {
      "text/plain": [
       "[(2, 2)]"
      ]
     },
     "execution_count": 318,
     "metadata": {},
     "output_type": "execute_result"
    }
   ],
   "source": [
    "list(factor(4))"
   ]
  },
  {
   "cell_type": "code",
   "execution_count": 3,
   "metadata": {},
   "outputs": [
    {
     "ename": "NameError",
     "evalue": "name 'find_factor' is not defined",
     "output_type": "error",
     "traceback": [
      "\u001b[1;31m---------------------------------------------------------------------------\u001b[0m",
      "\u001b[1;31mNameError\u001b[0m                                 Traceback (most recent call last)",
      "\u001b[1;32m/home/sereja/Projects/amh-code/factor/test.ipynb Cell 5'\u001b[0m in \u001b[0;36m<cell line: 11>\u001b[1;34m()\u001b[0m\n\u001b[0;32m      <a href='vscode-notebook-cell:/home/sereja/Projects/amh-code/factor/test.ipynb#ch0000004?line=7'>8</a>\u001b[0m         \u001b[39mif\u001b[39;00m (g \u001b[39m:=\u001b[39m gcd(randint(Integer(\u001b[39m2\u001b[39m), n \u001b[39m-\u001b[39m Integer(\u001b[39m1\u001b[39m)), n)) \u001b[39m!=\u001b[39m Integer(\u001b[39m1\u001b[39m):\n\u001b[0;32m      <a href='vscode-notebook-cell:/home/sereja/Projects/amh-code/factor/test.ipynb#ch0000004?line=8'>9</a>\u001b[0m             \u001b[39mreturn\u001b[39;00m g\n\u001b[1;32m---> <a href='vscode-notebook-cell:/home/sereja/Projects/amh-code/factor/test.ipynb#ch0000004?line=10'>11</a>\u001b[0m \u001b[39mprint\u001b[39m(find_factor(p \u001b[39m*\u001b[39m q))\n\u001b[0;32m     <a href='vscode-notebook-cell:/home/sereja/Projects/amh-code/factor/test.ipynb#ch0000004?line=12'>13</a>\u001b[0m \u001b[39mdef\u001b[39;00m \u001b[39mfind_factor\u001b[39m(n):\n\u001b[0;32m     <a href='vscode-notebook-cell:/home/sereja/Projects/amh-code/factor/test.ipynb#ch0000004?line=13'>14</a>\u001b[0m     \u001b[39mwhile\u001b[39;00m \u001b[39mTrue\u001b[39;00m:\n",
      "\u001b[1;31mNameError\u001b[0m: name 'find_factor' is not defined"
     ]
    }
   ],
   "source": [
    "k = 15\n",
    "p = random_prime(2^(k+1), lbound=2^k)\n",
    "q = random_prime(2^(k+1), lbound=2^k)\n",
    "#p * q\n",
    "\n",
    "def f(n):\n",
    "    while True:\n",
    "        if (g := gcd(randint(2, n - 1), n)) != 1:\n",
    "            return g\n",
    "\n",
    "print(find_factor(p * q))\n",
    "\n",
    "def find_factor(n):\n",
    "    while True:\n",
    "        p = 1\n",
    "        for _ in range(ceil(log(n))):\n",
    "            p = p * randint(2, n - 1) % n\n",
    "        if (g := gcd(p, n)) != 1:\n",
    "            return g\n",
    "\n",
    "print(find_factor(p * q))"
   ]
  },
  {
   "cell_type": "code",
   "execution_count": 4,
   "metadata": {},
   "outputs": [],
   "source": [
    "def gen(k, n, filename):\n",
    "    with open(filename, 'w+') as f:\n",
    "        for _ in range(n):\n",
    "            p = random_prime(2^(k+1), lbound=2^k)\n",
    "            q = random_prime(2^(k+1), lbound=2^k)\n",
    "            f.write(str(p * q) + '\\n')\n",
    "    \n",
    "gen(2, 5, 'test.in')"
   ]
  },
  {
   "cell_type": "code",
   "execution_count": 14,
   "metadata": {},
   "outputs": [
    {
     "name": "stdout",
     "output_type": "stream",
     "text": [
      "\u001b[1mdacin21.cc:10:67: \u001b[0m\u001b[0;1;31merror: \u001b[0m\u001b[1mno template named 'is_integral'\u001b[0m\n",
      "    template<typename T> struct bigger_type<T, typename enable_if<is_integral<T>::value && is_signed<T>::value && sizeof(T) == 4>::type>{using type = long long;};\n",
      "\u001b[0;1;32m                                                                  ^\n",
      "\u001b[0m\u001b[1mdacin21.cc:10:92: \u001b[0m\u001b[0;1;31merror: \u001b[0m\u001b[1mno template named 'is_signed'\u001b[0m\n",
      "    template<typename T> struct bigger_type<T, typename enable_if<is_integral<T>::value && is_signed<T>::value && sizeof(T) == 4>::type>{using type = long long;};\n",
      "\u001b[0;1;32m                                                                                           ^\n",
      "\u001b[0m\u001b[1mdacin21.cc:11:67: \u001b[0m\u001b[0;1;31merror: \u001b[0m\u001b[1mno template named 'is_integral'\u001b[0m\n",
      "    template<typename T> struct bigger_type<T, typename enable_if<is_integral<T>::value && !is_signed<T>::value && sizeof(T) == 4>::type>{using type = unsigned long long;};\n",
      "\u001b[0;1;32m                                                                  ^\n",
      "\u001b[0m\u001b[1mdacin21.cc:11:93: \u001b[0m\u001b[0;1;31merror: \u001b[0m\u001b[1mno template named 'is_signed'\u001b[0m\n",
      "    template<typename T> struct bigger_type<T, typename enable_if<is_integral<T>::value && !is_signed<T>::value && sizeof(T) == 4>::type>{using type = unsigned long long;};\n",
      "\u001b[0;1;32m                                                                                            ^\n",
      "\u001b[0m\u001b[1mdacin21.cc:12:67: \u001b[0m\u001b[0;1;31merror: \u001b[0m\u001b[1mno template named 'is_integral'\u001b[0m\n",
      "    template<typename T> struct bigger_type<T, typename enable_if<is_integral<T>::value && is_signed<T>::value && sizeof(T) == 8>::type>{using type = __int128;};\n",
      "\u001b[0;1;32m                                                                  ^\n",
      "\u001b[0m\u001b[1mdacin21.cc:12:92: \u001b[0m\u001b[0;1;31merror: \u001b[0m\u001b[1mno template named 'is_signed'\u001b[0m\n",
      "    template<typename T> struct bigger_type<T, typename enable_if<is_integral<T>::value && is_signed<T>::value && sizeof(T) == 8>::type>{using type = __int128;};\n",
      "\u001b[0;1;32m                                                                                           ^\n",
      "\u001b[0m\u001b[1mdacin21.cc:13:67: \u001b[0m\u001b[0;1;31merror: \u001b[0m\u001b[1mno template named 'is_integral'\u001b[0m\n",
      "    template<typename T> struct bigger_type<T, typename enable_if<is_integral<T>::value && !is_signed<T>::value && sizeof(T) == 8>::type>{using type = unsigned __int128;};\n",
      "\u001b[0;1;32m                                                                  ^\n",
      "\u001b[0m\u001b[1mdacin21.cc:13:93: \u001b[0m\u001b[0;1;31merror: \u001b[0m\u001b[1mno template named 'is_signed'\u001b[0m\n",
      "    template<typename T> struct bigger_type<T, typename enable_if<is_integral<T>::value && !is_signed<T>::value && sizeof(T) == 8>::type>{using type = unsigned __int128;};\n",
      "\u001b[0;1;32m                                                                                            ^\n",
      "\u001b[0m\u001b[1mdacin21.cc:41:23: \u001b[0m\u001b[0;1;31merror: \u001b[0m\u001b[1mno template named 'is_integral'\u001b[0m\n",
      "        static_assert(is_integral<T>::value);\n",
      "\u001b[0;1;32m                      ^\n",
      "\u001b[0m\u001b[1mdacin21.cc:51:23: \u001b[0m\u001b[0;1;31merror: \u001b[0m\u001b[1mno template named 'is_integral'\u001b[0m\n",
      "        static_assert(is_integral<T>::value);\n",
      "\u001b[0;1;32m                      ^\n",
      "\u001b[0m\u001b[1mdacin21.cc:78:23: \u001b[0m\u001b[0;1;31merror: \u001b[0m\u001b[1mno template named 'is_integral'\u001b[0m\n",
      "        static_assert(is_integral<T>::value);\n",
      "\u001b[0;1;32m                      ^\n",
      "\u001b[0m\u001b[1mdacin21.cc:85:23: \u001b[0m\u001b[0;1;31merror: \u001b[0m\u001b[1mno template named 'is_integral'\u001b[0m\n",
      "        static_assert(is_integral<T>::value);\n",
      "\u001b[0;1;32m                      ^\n",
      "\u001b[0m\u001b[1mdacin21.cc:93:23: \u001b[0m\u001b[0;1;31merror: \u001b[0m\u001b[1mno template named 'is_integral'\u001b[0m\n",
      "        static_assert(is_integral<T>::value);\n",
      "\u001b[0;1;32m                      ^\n",
      "\u001b[0m\u001b[1mdacin21.cc:103:23: \u001b[0m\u001b[0;1;31merror: \u001b[0m\u001b[1mno template named 'is_integral'\u001b[0m\n",
      "        static_assert(is_integral<T>::value);\n",
      "\u001b[0;1;32m                      ^\n",
      "\u001b[0m\u001b[1mdacin21.cc:111:5: \u001b[0m\u001b[0;1;31merror: \u001b[0m\u001b[1munknown type name 'uint64_t'\u001b[0m\n",
      "    uint64_t isqrt(unsigned __int128 const&x){\n",
      "\u001b[0;1;32m    ^\n",
      "\u001b[0m\u001b[1mdacin21.cc:112:33: \u001b[0m\u001b[0;1;31merror: \u001b[0m\u001b[1muse of undeclared identifier 'sqrtl'\u001b[0m\n",
      "        unsigned __int128 ret = sqrtl(x);\n",
      "\u001b[0;1;32m                                ^\n",
      "\u001b[0m\u001b[1mdacin21.cc:118:12: \u001b[0m\u001b[0;1;31merror: \u001b[0m\u001b[1muse of undeclared identifier 'uint16_t'\u001b[0m\n",
      "    vector<uint16_t> saved;\n",
      "\u001b[0;1;32m           ^\n",
      "\u001b[0m\u001b[1mdacin21.cc:121:5: \u001b[0m\u001b[0;1;31merror: \u001b[0m\u001b[1munknown type name 'uint64_t'\u001b[0m\n",
      "    uint64_t squfof_iter_better(uint64_t const&x, uint64_t const&k, uint64_t const&it_max, uint32_t cutoff_div){\n",
      "\u001b[0;1;32m    ^\n",
      "\u001b[0m\u001b[1mdacin21.cc:121:33: \u001b[0m\u001b[0;1;31merror: \u001b[0m\u001b[1munknown type name 'uint64_t'\u001b[0m\n",
      "    uint64_t squfof_iter_better(uint64_t const&x, uint64_t const&k, uint64_t const&it_max, uint32_t cutoff_div){\n",
      "\u001b[0;1;32m                                ^\n",
      "\u001b[0m\u001b[0;1;31mfatal error: \u001b[0m\u001b[1mtoo many errors emitted, stopping now [-ferror-limit=]\u001b[0m\n",
      "20 errors generated.\n",
      "dacin21 64516.128906 10/10\n"
     ]
    },
    {
     "data": {
      "text/plain": [
       "64516.128906"
      ]
     },
     "execution_count": 14,
     "metadata": {},
     "output_type": "execute_result"
    }
   ],
   "source": [
    "def bench(source, k=15, n=1):\n",
    "    gen(k, n, 'test.in')\n",
    "\n",
    "    if source == 'sage':\n",
    "        res = !sage factor.sage\n",
    "    else:\n",
    "        !g++ -std=c++17 -O3 -march=native -funroll-loops {source}.cc -o run\n",
    "        res = !./run < test.in\n",
    "\n",
    "    print(source, res[0])\n",
    "\n",
    "    return float(res[0].split()[0])\n",
    "\n",
    "bench('dacin21', 15, 10)"
   ]
  },
  {
   "cell_type": "code",
   "execution_count": 12,
   "metadata": {},
   "outputs": [
    {
     "name": "stdout",
     "output_type": "stream",
     "text": [
      "\u001b[01m\u001b[Kdacin21.cc:10:136:\u001b[m\u001b[K \u001b[01;31m\u001b[Kerror: \u001b[m\u001b[Ktemplate argument 2 is invalid\n",
      "   10 | al<T>::value && is_signed<T>::value && sizeof(T) == 4>::type\u001b[01;31m\u001b[K>\u001b[m\u001b[K{using type = long long;};\n",
      "      |                                                             \u001b[01;31m\u001b[K^\u001b[m\u001b[K\n",
      "\n",
      "\u001b[01m\u001b[Kdacin21.cc:11:137:\u001b[m\u001b[K \u001b[01;31m\u001b[Kerror: \u001b[m\u001b[Ktemplate argument 2 is invalid\n",
      "   11 | l<T>::value && !is_signed<T>::value && sizeof(T) == 4>::type\u001b[01;31m\u001b[K>\u001b[m\u001b[K{using type = unsigned long long;};\n",
      "      |                                                             \u001b[01;31m\u001b[K^\u001b[m\u001b[K\n",
      "\n",
      "\u001b[01m\u001b[Kdacin21.cc:12:136:\u001b[m\u001b[K \u001b[01;31m\u001b[Kerror: \u001b[m\u001b[Ktemplate argument 2 is invalid\n",
      "   12 | al<T>::value && is_signed<T>::value && sizeof(T) == 8>::type\u001b[01;31m\u001b[K>\u001b[m\u001b[K{using type = __int128;};\n",
      "      |                                                             \u001b[01;31m\u001b[K^\u001b[m\u001b[K\n",
      "\n",
      "\u001b[01m\u001b[Kdacin21.cc:13:137:\u001b[m\u001b[K \u001b[01;31m\u001b[Kerror: \u001b[m\u001b[Ktemplate argument 2 is invalid\n",
      "   13 | l<T>::value && !is_signed<T>::value && sizeof(T) == 8>::type\u001b[01;31m\u001b[K>\u001b[m\u001b[K{using type = unsigned __int128;};\n",
      "      |                                                             \u001b[01;31m\u001b[K^\u001b[m\u001b[K\n",
      "\n",
      "\u001b[01m\u001b[Kdacin21.cc:\u001b[m\u001b[K In function ‘\u001b[01m\u001b[Kbool Factor::is_prime(T)\u001b[m\u001b[K’:\n",
      "\u001b[01m\u001b[Kdacin21.cc:41:23:\u001b[m\u001b[K \u001b[01;31m\u001b[Kerror: \u001b[m\u001b[K‘\u001b[01m\u001b[Kis_integral\u001b[m\u001b[K’ was not declared in this scope\n",
      "   41 |         static_assert(\u001b[01;31m\u001b[Kis_integral\u001b[m\u001b[K<T>::value);\n",
      "      |                       \u001b[01;31m\u001b[K^~~~~~~~~~~\u001b[m\u001b[K\n",
      "\u001b[01m\u001b[Kdacin21.cc:41:36:\u001b[m\u001b[K \u001b[01;31m\u001b[Kerror: \u001b[m\u001b[Kexpected primary-expression before ‘\u001b[01m\u001b[K>\u001b[m\u001b[K’ token\n",
      "   41 |         static_assert(is_integral<T\u001b[01;31m\u001b[K>\u001b[m\u001b[K::value);\n",
      "      |                                    \u001b[01;31m\u001b[K^\u001b[m\u001b[K\n",
      "\u001b[01m\u001b[Kdacin21.cc:41:39:\u001b[m\u001b[K \u001b[01;31m\u001b[Kerror: \u001b[m\u001b[K‘\u001b[01m\u001b[K::value\u001b[m\u001b[K’ has not been declared\n",
      "   41 |         static_assert(is_integral<T>::\u001b[01;31m\u001b[Kvalue\u001b[m\u001b[K);\n",
      "      |                                       \u001b[01;31m\u001b[K^~~~~\u001b[m\u001b[K\n",
      "\u001b[01m\u001b[Kdacin21.cc:\u001b[m\u001b[K In function ‘\u001b[01m\u001b[Kbool Factor::miller_rabin_single(const T&, T)\u001b[m\u001b[K’:\n",
      "\u001b[01m\u001b[Kdacin21.cc:51:23:\u001b[m\u001b[K \u001b[01;31m\u001b[Kerror: \u001b[m\u001b[K‘\u001b[01m\u001b[Kis_integral\u001b[m\u001b[K’ was not declared in this scope\n",
      "   51 |         static_assert(\u001b[01;31m\u001b[Kis_integral\u001b[m\u001b[K<T>::value);\n",
      "      |                       \u001b[01;31m\u001b[K^~~~~~~~~~~\u001b[m\u001b[K\n",
      "\u001b[01m\u001b[Kdacin21.cc:51:36:\u001b[m\u001b[K \u001b[01;31m\u001b[Kerror: \u001b[m\u001b[Kexpected primary-expression before ‘\u001b[01m\u001b[K>\u001b[m\u001b[K’ token\n",
      "   51 |         static_assert(is_integral<T\u001b[01;31m\u001b[K>\u001b[m\u001b[K::value);\n",
      "      |                                    \u001b[01;31m\u001b[K^\u001b[m\u001b[K\n",
      "\u001b[01m\u001b[Kdacin21.cc:51:39:\u001b[m\u001b[K \u001b[01;31m\u001b[Kerror: \u001b[m\u001b[K‘\u001b[01m\u001b[K::value\u001b[m\u001b[K’ has not been declared\n",
      "   51 |         static_assert(is_integral<T>::\u001b[01;31m\u001b[Kvalue\u001b[m\u001b[K);\n",
      "      |                                       \u001b[01;31m\u001b[K^~~~~\u001b[m\u001b[K\n",
      "\u001b[01m\u001b[Kdacin21.cc:\u001b[m\u001b[K In function ‘\u001b[01m\u001b[Kbool Factor::miller_rabin_multi(const T&, const T&, const S& ...)\u001b[m\u001b[K’:\n",
      "\u001b[01m\u001b[Kdacin21.cc:78:23:\u001b[m\u001b[K \u001b[01;31m\u001b[Kerror: \u001b[m\u001b[K‘\u001b[01m\u001b[Kis_integral\u001b[m\u001b[K’ was not declared in this scope\n",
      "   78 |         static_assert(\u001b[01;31m\u001b[Kis_integral\u001b[m\u001b[K<T>::value);\n",
      "      |                       \u001b[01;31m\u001b[K^~~~~~~~~~~\u001b[m\u001b[K\n",
      "\u001b[01m\u001b[Kdacin21.cc:78:36:\u001b[m\u001b[K \u001b[01;31m\u001b[Kerror: \u001b[m\u001b[Kexpected primary-expression before ‘\u001b[01m\u001b[K>\u001b[m\u001b[K’ token\n",
      "   78 |         static_assert(is_integral<T\u001b[01;31m\u001b[K>\u001b[m\u001b[K::value);\n",
      "      |                                    \u001b[01;31m\u001b[K^\u001b[m\u001b[K\n",
      "\u001b[01m\u001b[Kdacin21.cc:78:39:\u001b[m\u001b[K \u001b[01;31m\u001b[Kerror: \u001b[m\u001b[K‘\u001b[01m\u001b[K::value\u001b[m\u001b[K’ has not been declared\n",
      "   78 |         static_assert(is_integral<T>::\u001b[01;31m\u001b[Kvalue\u001b[m\u001b[K);\n",
      "      |                                       \u001b[01;31m\u001b[K^~~~~\u001b[m\u001b[K\n",
      "\u001b[01m\u001b[Kdacin21.cc:\u001b[m\u001b[K In function ‘\u001b[01m\u001b[Kbool Factor::miller_rabin(const T&)\u001b[m\u001b[K’:\n",
      "\u001b[01m\u001b[Kdacin21.cc:85:23:\u001b[m\u001b[K \u001b[01;31m\u001b[Kerror: \u001b[m\u001b[K‘\u001b[01m\u001b[Kis_integral\u001b[m\u001b[K’ was not declared in this scope\n",
      "   85 |         static_assert(\u001b[01;31m\u001b[Kis_integral\u001b[m\u001b[K<T>::value);\n",
      "      |                       \u001b[01;31m\u001b[K^~~~~~~~~~~\u001b[m\u001b[K\n",
      "\u001b[01m\u001b[Kdacin21.cc:85:36:\u001b[m\u001b[K \u001b[01;31m\u001b[Kerror: \u001b[m\u001b[Kexpected primary-expression before ‘\u001b[01m\u001b[K>\u001b[m\u001b[K’ token\n",
      "   85 |         static_assert(is_integral<T\u001b[01;31m\u001b[K>\u001b[m\u001b[K::value);\n",
      "      |                                    \u001b[01;31m\u001b[K^\u001b[m\u001b[K\n",
      "\u001b[01m\u001b[Kdacin21.cc:85:39:\u001b[m\u001b[K \u001b[01;31m\u001b[Kerror: \u001b[m\u001b[K‘\u001b[01m\u001b[K::value\u001b[m\u001b[K’ has not been declared\n",
      "   85 |         static_assert(is_integral<T>::\u001b[01;31m\u001b[Kvalue\u001b[m\u001b[K);\n",
      "      |                                       \u001b[01;31m\u001b[K^~~~~\u001b[m\u001b[K\n",
      "\u001b[01m\u001b[Kdacin21.cc:\u001b[m\u001b[K In function ‘\u001b[01m\u001b[KT Factor::isqrt(const T&)\u001b[m\u001b[K’:\n",
      "\u001b[01m\u001b[Kdacin21.cc:93:23:\u001b[m\u001b[K \u001b[01;31m\u001b[Kerror: \u001b[m\u001b[K‘\u001b[01m\u001b[Kis_integral\u001b[m\u001b[K’ was not declared in this scope\n",
      "   93 |         static_assert(\u001b[01;31m\u001b[Kis_integral\u001b[m\u001b[K<T>::value);\n",
      "      |                       \u001b[01;31m\u001b[K^~~~~~~~~~~\u001b[m\u001b[K\n",
      "\u001b[01m\u001b[Kdacin21.cc:93:36:\u001b[m\u001b[K \u001b[01;31m\u001b[Kerror: \u001b[m\u001b[Kexpected primary-expression before ‘\u001b[01m\u001b[K>\u001b[m\u001b[K’ token\n",
      "   93 |         static_assert(is_integral<T\u001b[01;31m\u001b[K>\u001b[m\u001b[K::value);\n",
      "      |                                    \u001b[01;31m\u001b[K^\u001b[m\u001b[K\n",
      "\u001b[01m\u001b[Kdacin21.cc:93:39:\u001b[m\u001b[K \u001b[01;31m\u001b[Kerror: \u001b[m\u001b[K‘\u001b[01m\u001b[K::value\u001b[m\u001b[K’ has not been declared\n",
      "   93 |         static_assert(is_integral<T>::\u001b[01;31m\u001b[Kvalue\u001b[m\u001b[K);\n",
      "      |                                       \u001b[01;31m\u001b[K^~~~~\u001b[m\u001b[K\n",
      "\u001b[01m\u001b[Kdacin21.cc:\u001b[m\u001b[K In function ‘\u001b[01m\u001b[KT Factor::icbrt(const T&)\u001b[m\u001b[K’:\n",
      "\u001b[01m\u001b[Kdacin21.cc:103:23:\u001b[m\u001b[K \u001b[01;31m\u001b[Kerror: \u001b[m\u001b[K‘\u001b[01m\u001b[Kis_integral\u001b[m\u001b[K’ was not declared in this scope\n",
      "  103 |         static_assert(\u001b[01;31m\u001b[Kis_integral\u001b[m\u001b[K<T>::value);\n",
      "      |                       \u001b[01;31m\u001b[K^~~~~~~~~~~\u001b[m\u001b[K\n",
      "\u001b[01m\u001b[Kdacin21.cc:103:36:\u001b[m\u001b[K \u001b[01;31m\u001b[Kerror: \u001b[m\u001b[Kexpected primary-expression before ‘\u001b[01m\u001b[K>\u001b[m\u001b[K’ token\n",
      "  103 |         static_assert(is_integral<T\u001b[01;31m\u001b[K>\u001b[m\u001b[K::value);\n",
      "      |                                    \u001b[01;31m\u001b[K^\u001b[m\u001b[K\n",
      "\u001b[01m\u001b[Kdacin21.cc:103:39:\u001b[m\u001b[K \u001b[01;31m\u001b[Kerror: \u001b[m\u001b[K‘\u001b[01m\u001b[K::value\u001b[m\u001b[K’ has not been declared\n",
      "  103 |         static_assert(is_integral<T>::\u001b[01;31m\u001b[Kvalue\u001b[m\u001b[K);\n",
      "      |                                       \u001b[01;31m\u001b[K^~~~~\u001b[m\u001b[K\n",
      "\u001b[01m\u001b[Kdacin21.cc:\u001b[m\u001b[K At global scope:\n",
      "\u001b[01m\u001b[Kdacin21.cc:111:5:\u001b[m\u001b[K \u001b[01;31m\u001b[Kerror: \u001b[m\u001b[K‘\u001b[01m\u001b[Kuint64_t\u001b[m\u001b[K’ does not name a type\n",
      "  111 |     \u001b[01;31m\u001b[Kuint64_t\u001b[m\u001b[K isqrt(unsigned __int128 const&x){\n",
      "      |     \u001b[01;31m\u001b[K^~~~~~~~\u001b[m\u001b[K\n",
      "\u001b[01m\u001b[Kdacin21.cc:1:1:\u001b[m\u001b[K \u001b[01;36m\u001b[Knote: \u001b[m\u001b[K‘\u001b[01m\u001b[Kuint64_t\u001b[m\u001b[K’ is defined in header ‘\u001b[01m\u001b[K<cstdint>\u001b[m\u001b[K’; did you forget to ‘\u001b[01m\u001b[K#include <cstdint>\u001b[m\u001b[K’?\n",
      "  +++ |+\u001b[32m\u001b[K#include <cstdint>\u001b[m\u001b[K\n",
      "    1 | // Integer factorization in O(N^{1/4}\n",
      "\u001b[01m\u001b[Kdacin21.cc:118:5:\u001b[m\u001b[K \u001b[01;31m\u001b[Kerror: \u001b[m\u001b[K‘\u001b[01m\u001b[Kvector\u001b[m\u001b[K’ does not name a type\n",
      "  118 |     \u001b[01;31m\u001b[Kvector\u001b[m\u001b[K<uint16_t> saved;\n",
      "      |     \u001b[01;31m\u001b[K^~~~~~\u001b[m\u001b[K\n",
      "\u001b[01m\u001b[Kdacin21.cc:121:5:\u001b[m\u001b[K \u001b[01;31m\u001b[Kerror: \u001b[m\u001b[K‘\u001b[01m\u001b[Kuint64_t\u001b[m\u001b[K’ does not name a type\n",
      "  121 |     \u001b[01;31m\u001b[Kuint64_t\u001b[m\u001b[K squfof_iter_better(uint64_t const&x, uint64_t const&k, uint64_t const&it_max, uint32_t cutoff_div){\n",
      "      |     \u001b[01;31m\u001b[K^~~~~~~~\u001b[m\u001b[K\n",
      "\u001b[01m\u001b[Kdacin21.cc:121:5:\u001b[m\u001b[K \u001b[01;36m\u001b[Knote: \u001b[m\u001b[K‘\u001b[01m\u001b[Kuint64_t\u001b[m\u001b[K’ is defined in header ‘\u001b[01m\u001b[K<cstdint>\u001b[m\u001b[K’; did you forget to ‘\u001b[01m\u001b[K#include <cstdint>\u001b[m\u001b[K’?\n",
      "\u001b[01m\u001b[Kdacin21.cc:240:5:\u001b[m\u001b[K \u001b[01;31m\u001b[Kerror: \u001b[m\u001b[K‘\u001b[01m\u001b[Kuint64_t\u001b[m\u001b[K’ does not name a type\n",
      "  240 |     \u001b[01;31m\u001b[Kuint64_t\u001b[m\u001b[K squfof(uint64_t const&x){\n",
      "      |     \u001b[01;31m\u001b[K^~~~~~~~\u001b[m\u001b[K\n",
      "\u001b[01m\u001b[Kdacin21.cc:240:5:\u001b[m\u001b[K \u001b[01;36m\u001b[Knote: \u001b[m\u001b[K‘\u001b[01m\u001b[Kuint64_t\u001b[m\u001b[K’ is defined in header ‘\u001b[01m\u001b[K<cstdint>\u001b[m\u001b[K’; did you forget to ‘\u001b[01m\u001b[K#include <cstdint>\u001b[m\u001b[K’?\n",
      "\u001b[01m\u001b[Kdacin21.cc:263:5:\u001b[m\u001b[K \u001b[01;31m\u001b[Kerror: \u001b[m\u001b[K‘\u001b[01m\u001b[Kvector\u001b[m\u001b[K’ does not name a type\n",
      "  263 |     \u001b[01;31m\u001b[Kvector\u001b[m\u001b[K<T> factorize(T x){\n",
      "      |     \u001b[01;31m\u001b[K^~~~~~\u001b[m\u001b[K\n",
      "\u001b[01m\u001b[Kdacin21.cc:291:5:\u001b[m\u001b[K \u001b[01;31m\u001b[Kerror: \u001b[m\u001b[K‘\u001b[01m\u001b[Kint64_t\u001b[m\u001b[K’ does not name a type\n",
      "  291 |     \u001b[01;31m\u001b[Kint64_t\u001b[m\u001b[K euclid_invert(int64_t a, int64_t mod){\n",
      "      |     \u001b[01;31m\u001b[K^~~~~~~\u001b[m\u001b[K\n",
      "\u001b[01m\u001b[Kdacin21.cc:291:5:\u001b[m\u001b[K \u001b[01;36m\u001b[Knote: \u001b[m\u001b[K‘\u001b[01m\u001b[Kint64_t\u001b[m\u001b[K’ is defined in header ‘\u001b[01m\u001b[K<cstdint>\u001b[m\u001b[K’; did you forget to ‘\u001b[01m\u001b[K#include <cstdint>\u001b[m\u001b[K’?\n",
      "\u001b[01m\u001b[Kdacin21.cc:312:5:\u001b[m\u001b[K \u001b[01;31m\u001b[Kerror: \u001b[m\u001b[K‘\u001b[01m\u001b[Kint64_t\u001b[m\u001b[K’ does not name a type\n",
      "  312 |     \u001b[01;31m\u001b[Kint64_t\u001b[m\u001b[K disc_log(int64_t base, int64_t x, int64_t p, int64_t limit){\n",
      "      |     \u001b[01;31m\u001b[K^~~~~~~\u001b[m\u001b[K\n",
      "\u001b[01m\u001b[Kdacin21.cc:312:5:\u001b[m\u001b[K \u001b[01;36m\u001b[Knote: \u001b[m\u001b[K‘\u001b[01m\u001b[Kint64_t\u001b[m\u001b[K’ is defined in header ‘\u001b[01m\u001b[K<cstdint>\u001b[m\u001b[K’; did you forget to ‘\u001b[01m\u001b[K#include <cstdint>\u001b[m\u001b[K’?\n",
      "\u001b[01m\u001b[Kdacin21.cc:336:5:\u001b[m\u001b[K \u001b[01;31m\u001b[Kerror: \u001b[m\u001b[K‘\u001b[01m\u001b[Kint64_t\u001b[m\u001b[K’ does not name a type\n",
      "  336 |     \u001b[01;31m\u001b[Kint64_t\u001b[m\u001b[K root_extraction(int64_t a, int64_t exp, int64_t p){\n",
      "      |     \u001b[01;31m\u001b[K^~~~~~~\u001b[m\u001b[K\n",
      "\u001b[01m\u001b[Kdacin21.cc:336:5:\u001b[m\u001b[K \u001b[01;36m\u001b[Knote: \u001b[m\u001b[K‘\u001b[01m\u001b[Kint64_t\u001b[m\u001b[K’ is defined in header ‘\u001b[01m\u001b[K<cstdint>\u001b[m\u001b[K’; did you forget to ‘\u001b[01m\u001b[K#include <cstdint>\u001b[m\u001b[K’?\n",
      "\u001b[01m\u001b[Kdacin21.cc:381:1:\u001b[m\u001b[K \u001b[01;31m\u001b[Kerror: \u001b[m\u001b[K‘\u001b[01m\u001b[Ku64\u001b[m\u001b[K’ does not name a type\n",
      "  381 | \u001b[01;31m\u001b[Ku64\u001b[m\u001b[K find_factor(u64 x) {\n",
      "      | \u001b[01;31m\u001b[K^~~\u001b[m\u001b[K\n",
      "dacin21 23255.814453 1/1\n"
     ]
    },
    {
     "data": {
      "text/plain": [
       "23255.814453"
      ]
     },
     "execution_count": 12,
     "metadata": {},
     "output_type": "execute_result"
    }
   ],
   "source": [
    "bench('dacin21', 10, 1)"
   ]
  },
  {
   "cell_type": "code",
   "execution_count": 9,
   "metadata": {},
   "outputs": [
    {
     "name": "stdout",
     "output_type": "stream",
     "text": [
      "brent-montgomery 79531.085938 9751/10000\n"
     ]
    },
    {
     "data": {
      "text/plain": [
       "79531.085938"
      ]
     },
     "execution_count": 9,
     "metadata": {},
     "output_type": "execute_result"
    }
   ],
   "source": [
    "bench('brent-montgomery', 15, 10000)"
   ]
  },
  {
   "cell_type": "code",
   "execution_count": 10,
   "metadata": {},
   "outputs": [
    {
     "name": "stdout",
     "output_type": "stream",
     "text": [
      "sage 798.180144156034 0/10000\n"
     ]
    },
    {
     "data": {
      "text/plain": [
       "798.180144156034"
      ]
     },
     "execution_count": 10,
     "metadata": {},
     "output_type": "execute_result"
    }
   ],
   "source": [
    "bench('sage', 30, 10000)"
   ]
  },
  {
   "cell_type": "code",
   "execution_count": 41,
   "metadata": {},
   "outputs": [
    {
     "data": {
      "text/plain": [
       "2594.841309"
      ]
     },
     "execution_count": 41,
     "metadata": {},
     "output_type": "execute_result"
    }
   ],
   "source": [
    "bench('montgomery', 28, 100)"
   ]
  },
  {
   "cell_type": "code",
   "execution_count": null,
   "metadata": {},
   "outputs": [],
   "source": [
    "bench('trial', 15, 1)"
   ]
  },
  {
   "cell_type": "code",
   "execution_count": 173,
   "metadata": {},
   "outputs": [
    {
     "name": "stdout",
     "output_type": "stream",
     "text": [
      "trial 2043.968140 0/5000\n"
     ]
    },
    {
     "data": {
      "text/plain": [
       "2043.96814"
      ]
     },
     "execution_count": 173,
     "metadata": {},
     "output_type": "execute_result"
    }
   ],
   "source": [
    "bench('trial', 15, 5000)"
   ]
  },
  {
   "cell_type": "code",
   "execution_count": 175,
   "metadata": {},
   "outputs": [
    {
     "name": "stdout",
     "output_type": "stream",
     "text": [
      "wheel3 0.087907 0/1\n"
     ]
    },
    {
     "data": {
      "text/plain": [
       "0.087907"
      ]
     },
     "execution_count": 175,
     "metadata": {},
     "output_type": "execute_result"
    }
   ],
   "source": [
    "bench('wheel3', 30, 1)"
   ]
  },
  {
   "cell_type": "code",
   "execution_count": 177,
   "metadata": {},
   "outputs": [
    {
     "name": "stdout",
     "output_type": "stream",
     "text": [
      "wheel7 0.199740 0/2\n"
     ]
    },
    {
     "data": {
      "text/plain": [
       "0.19974"
      ]
     },
     "execution_count": 177,
     "metadata": {},
     "output_type": "execute_result"
    }
   ],
   "source": [
    "bench('wheel7', 30, 2)"
   ]
  },
  {
   "cell_type": "code",
   "execution_count": 1,
   "metadata": {},
   "outputs": [
    {
     "ename": "NameError",
     "evalue": "name 'bench' is not defined",
     "output_type": "error",
     "traceback": [
      "\u001b[1;31m---------------------------------------------------------------------------\u001b[0m",
      "\u001b[1;31mNameError\u001b[0m                                 Traceback (most recent call last)",
      "\u001b[1;32m/home/sereja/Projects/amh-code/factor/test.ipynb Cell 14'\u001b[0m in \u001b[0;36m<cell line: 1>\u001b[1;34m()\u001b[0m\n\u001b[1;32m----> <a href='vscode-notebook-cell:/home/sereja/Projects/amh-code/factor/test.ipynb#ch0000026?line=0'>1</a>\u001b[0m bench(\u001b[39m'\u001b[39m\u001b[39mpollard-montgomery\u001b[39m\u001b[39m'\u001b[39m, Integer(\u001b[39m30\u001b[39m), Integer(\u001b[39m100000\u001b[39m))\n",
      "\u001b[1;31mNameError\u001b[0m: name 'bench' is not defined"
     ]
    }
   ],
   "source": [
    "bench('pollard-montgomery', 30, 100000)"
   ]
  },
  {
   "cell_type": "code",
   "execution_count": 180,
   "metadata": {},
   "outputs": [
    {
     "name": "stdout",
     "output_type": "stream",
     "text": [
      "primes 19430.058594 0/100000\n"
     ]
    },
    {
     "data": {
      "text/plain": [
       "19430.058594"
      ]
     },
     "execution_count": 180,
     "metadata": {},
     "output_type": "execute_result"
    }
   ],
   "source": [
    "bench('primes', 15, 100000)"
   ]
  },
  {
   "cell_type": "code",
   "execution_count": 182,
   "metadata": {},
   "outputs": [
    {
     "name": "stdout",
     "output_type": "stream",
     "text": [
      "fastcheck 353026.312500 0/100000\n"
     ]
    },
    {
     "data": {
      "text/plain": [
       "353026.3125"
      ]
     },
     "execution_count": 182,
     "metadata": {},
     "output_type": "execute_result"
    }
   ],
   "source": [
    "bench('fastcheck', 15, 100000)"
   ]
  },
  {
   "cell_type": "code",
   "execution_count": 354,
   "metadata": {},
   "outputs": [
    {
     "name": "stdout",
     "output_type": "stream",
     "text": [
      "pollard 102.668350 0/100\n"
     ]
    },
    {
     "data": {
      "text/plain": [
       "102.66835"
      ]
     },
     "execution_count": 354,
     "metadata": {},
     "output_type": "execute_result"
    }
   ],
   "source": [
    "bench('pollard', 30, 100)"
   ]
  },
  {
   "cell_type": "code",
   "execution_count": 355,
   "metadata": {},
   "outputs": [
    {
     "name": "stdout",
     "output_type": "stream",
     "text": [
      "brent 52.796276 0/100\n"
     ]
    },
    {
     "data": {
      "text/plain": [
       "52.796276"
      ]
     },
     "execution_count": 355,
     "metadata": {},
     "output_type": "execute_result"
    }
   ],
   "source": [
    "bench('brent', 30, 100)"
   ]
  },
  {
   "cell_type": "code",
   "execution_count": 352,
   "metadata": {},
   "outputs": [
    {
     "name": "stdout",
     "output_type": "stream",
     "text": [
      "brent-amortized 425.502106 74/10000\n"
     ]
    },
    {
     "data": {
      "text/plain": [
       "425.502106"
      ]
     },
     "execution_count": 352,
     "metadata": {},
     "output_type": "execute_result"
    }
   ],
   "source": [
    "bench('brent-amortized', 30, 10000)"
   ]
  },
  {
   "cell_type": "code",
   "execution_count": 341,
   "metadata": {},
   "outputs": [
    {
     "name": "stdout",
     "output_type": "stream",
     "text": [
      "brent-montgomery 2936.261719 69/10000\n"
     ]
    },
    {
     "data": {
      "text/plain": [
       "2936.261719"
      ]
     },
     "execution_count": 341,
     "metadata": {},
     "output_type": "execute_result"
    }
   ],
   "source": [
    "bench('brent-montgomery', 30, 10000)"
   ]
  },
  {
   "cell_type": "code",
   "execution_count": 265,
   "metadata": {},
   "outputs": [
    {
     "name": "stdout",
     "output_type": "stream",
     "text": [
      "sage 1318.818576386023\n"
     ]
    },
    {
     "data": {
      "text/plain": [
       "1318.818576386023"
      ]
     },
     "execution_count": 265,
     "metadata": {},
     "output_type": "execute_result"
    }
   ],
   "source": [
    "bench('sage', 28, 10000)"
   ]
  },
  {
   "cell_type": "code",
   "execution_count": 327,
   "metadata": {},
   "outputs": [
    {
     "name": "stdout",
     "output_type": "stream",
     "text": [
      "sage 814.884929645984 0/1000\n"
     ]
    },
    {
     "data": {
      "text/plain": [
       "814.884929645984"
      ]
     },
     "execution_count": 327,
     "metadata": {},
     "output_type": "execute_result"
    }
   ],
   "source": [
    "bench('sage', 30, 1000)"
   ]
  },
  {
   "cell_type": "code",
   "execution_count": 334,
   "metadata": {},
   "outputs": [
    {
     "name": "stdout",
     "output_type": "stream",
     "text": [
      "wheel3 4090.198730 0/10000\n"
     ]
    },
    {
     "data": {
      "text/plain": [
       "4090.19873"
      ]
     },
     "execution_count": 334,
     "metadata": {},
     "output_type": "execute_result"
    }
   ],
   "source": [
    "bench('wheel3', 15, 10000)"
   ]
  },
  {
   "cell_type": "code",
   "execution_count": 333,
   "metadata": {},
   "outputs": [
    {
     "name": "stdout",
     "output_type": "stream",
     "text": [
      "wheel7 7641.643555 0/10000\n"
     ]
    },
    {
     "data": {
      "text/plain": [
       "7641.643555"
      ]
     },
     "execution_count": 333,
     "metadata": {},
     "output_type": "execute_result"
    }
   ],
   "source": [
    "bench('wheel7', 15, 10000)"
   ]
  },
  {
   "cell_type": "code",
   "execution_count": 326,
   "metadata": {},
   "outputs": [
    {
     "name": "stdout",
     "output_type": "stream",
     "text": [
      "sage 17902.69162441407 0/100000\n"
     ]
    },
    {
     "data": {
      "text/plain": [
       "17902.69162441407"
      ]
     },
     "execution_count": 326,
     "metadata": {},
     "output_type": "execute_result"
    }
   ],
   "source": [
    "bench('sage', 15, 100000)"
   ]
  },
  {
   "cell_type": "code",
   "execution_count": 270,
   "metadata": {},
   "outputs": [
    {
     "ename": "IndexError",
     "evalue": "list index out of range",
     "output_type": "error",
     "traceback": [
      "\u001b[1;31m---------------------------------------------------------------------------\u001b[0m",
      "\u001b[1;31mIndexError\u001b[0m                                Traceback (most recent call last)",
      "\u001b[1;32m/home/sereja/Projects/amh-code/factor/test.ipynb Cell 19'\u001b[0m in \u001b[0;36m<cell line: 1>\u001b[1;34m()\u001b[0m\n\u001b[1;32m----> <a href='vscode-notebook-cell:/home/sereja/Projects/amh-code/factor/test.ipynb#ch0000017?line=0'>1</a>\u001b[0m bench(\u001b[39m'\u001b[39;49m\u001b[39mlookup\u001b[39;49m\u001b[39m'\u001b[39;49m, Integer(\u001b[39m8\u001b[39;49m), Integer(\u001b[39m100000\u001b[39;49m))\n",
      "\u001b[1;32m/home/sereja/Projects/amh-code/factor/test.ipynb Cell 5'\u001b[0m in \u001b[0;36mbench\u001b[1;34m(source, k, n)\u001b[0m\n\u001b[0;32m      <a href='vscode-notebook-cell:/home/sereja/Projects/amh-code/factor/test.ipynb#ch0000000?line=6'>7</a>\u001b[0m     get_ipython()\u001b[39m.\u001b[39msystem(\u001b[39m'\u001b[39m\u001b[39mg++ -std=c++17 -O3 -march=native -funroll-loops \u001b[39m\u001b[39m{source}\u001b[39;00m\u001b[39m.cc -o run\u001b[39m\u001b[39m'\u001b[39m)\n\u001b[0;32m      <a href='vscode-notebook-cell:/home/sereja/Projects/amh-code/factor/test.ipynb#ch0000000?line=7'>8</a>\u001b[0m     res \u001b[39m=\u001b[39m get_ipython()\u001b[39m.\u001b[39mgetoutput(\u001b[39m'\u001b[39m\u001b[39m./run < test.in\u001b[39m\u001b[39m'\u001b[39m)\n\u001b[1;32m---> <a href='vscode-notebook-cell:/home/sereja/Projects/amh-code/factor/test.ipynb#ch0000000?line=9'>10</a>\u001b[0m \u001b[39mprint\u001b[39m(source, res[Integer(\u001b[39m0\u001b[39;49m)])\n\u001b[0;32m     <a href='vscode-notebook-cell:/home/sereja/Projects/amh-code/factor/test.ipynb#ch0000000?line=11'>12</a>\u001b[0m \u001b[39mreturn\u001b[39;00m \u001b[39mfloat\u001b[39m(res[Integer(\u001b[39m0\u001b[39m)]\u001b[39m.\u001b[39msplit()[Integer(\u001b[39m0\u001b[39m)])\n",
      "\u001b[1;31mIndexError\u001b[0m: list index out of range"
     ]
    }
   ],
   "source": [
    "bench('lookup', 7, 100000)"
   ]
  },
  {
   "cell_type": "code",
   "execution_count": 32,
   "metadata": {},
   "outputs": [
    {
     "data": {
      "text/plain": [
       "433.380707"
      ]
     },
     "execution_count": 32,
     "metadata": {},
     "output_type": "execute_result"
    }
   ],
   "source": [
    "bench('brent2', 30, 100)"
   ]
  }
 ],
 "metadata": {
  "kernelspec": {
   "display_name": "SageMath 9.5",
   "language": "sage",
   "name": "sagemath"
  },
  "language_info": {
   "codemirror_mode": {
    "name": "ipython",
    "version": 3
   },
   "file_extension": ".py",
   "mimetype": "text/x-python",
   "name": "python",
   "nbconvert_exporter": "python",
   "pygments_lexer": "ipython3",
   "version": "3.10.4"
  },
  "orig_nbformat": 2
 },
 "nbformat": 4,
 "nbformat_minor": 2
}
