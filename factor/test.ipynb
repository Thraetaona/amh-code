{
 "cells": [
  {
   "cell_type": "code",
   "execution_count": 8,
   "metadata": {},
   "outputs": [],
   "source": [
    "import numpy\n",
    "\n",
    "numpy.array([1, 2, 3, 4]).tofile('semiprimes.in')"
   ]
  },
  {
   "cell_type": "code",
   "execution_count": 261,
   "metadata": {},
   "outputs": [
    {
     "ename": "TypeError",
     "evalue": "randint() takes 2 positional arguments but 3 were given",
     "output_type": "error",
     "traceback": [
      "\u001b[1;31m---------------------------------------------------------------------------\u001b[0m",
      "\u001b[1;31mTypeError\u001b[0m                                 Traceback (most recent call last)",
      "\u001b[1;32m/home/sereja/Projects/amh-code/factor/test.ipynb Cell 2'\u001b[0m in \u001b[0;36m<cell line: 1>\u001b[1;34m()\u001b[0m\n\u001b[1;32m----> <a href='vscode-notebook-cell:/home/sereja/Projects/amh-code/factor/test.ipynb#ch0000041?line=0'>1</a>\u001b[0m randint(Integer(\u001b[39m0\u001b[39;49m), Integer(\u001b[39m10\u001b[39;49m), Integer(\u001b[39m5\u001b[39;49m))\n",
      "\u001b[1;31mTypeError\u001b[0m: randint() takes 2 positional arguments but 3 were given"
     ]
    }
   ],
   "source": [
    "randint(0, 10, 5)"
   ]
  },
  {
   "cell_type": "code",
   "execution_count": 313,
   "metadata": {},
   "outputs": [
    {
     "data": {
      "text/plain": [
       "59 * 61"
      ]
     },
     "execution_count": 313,
     "metadata": {},
     "output_type": "execute_result"
    }
   ],
   "source": [
    "k = 5\n",
    "p = random_prime(2^(k+1), lbound=2^k)\n",
    "q = random_prime(2^(k+1), lbound=2^k)\n",
    "factor(p * q)"
   ]
  },
  {
   "cell_type": "code",
   "execution_count": 318,
   "metadata": {},
   "outputs": [
    {
     "data": {
      "text/plain": [
       "[(2, 2)]"
      ]
     },
     "execution_count": 318,
     "metadata": {},
     "output_type": "execute_result"
    }
   ],
   "source": [
    "list(factor(4))"
   ]
  },
  {
   "cell_type": "code",
   "execution_count": 260,
   "metadata": {},
   "outputs": [
    {
     "name": "stdout",
     "output_type": "stream",
     "text": [
      "37783\n",
      "37783\n"
     ]
    }
   ],
   "source": [
    "k = 15\n",
    "p = random_prime(2^(k+1), lbound=2^k)\n",
    "q = random_prime(2^(k+1), lbound=2^k)\n",
    "#p * q\n",
    "\n",
    "def f(n):\n",
    "    while True:\n",
    "        if (g := gcd(randint(2, n - 1), n)) != 1:\n",
    "            return g\n",
    "\n",
    "print(find_factor(p * q))\n",
    "\n",
    "def find_factor(n):\n",
    "    while True:\n",
    "        p = 1\n",
    "        for _ in range(ceil(log(n))):\n",
    "            p = p * randint(2, n - 1) % n\n",
    "        if (g := gcd(p, n)) != 1:\n",
    "            return g\n",
    "\n",
    "print(find_factor(p * q))"
   ]
  },
  {
   "cell_type": "code",
   "execution_count": 14,
   "metadata": {},
   "outputs": [],
   "source": [
    "def gen(k, n, filename):\n",
    "    with open(filename, 'w+') as f:\n",
    "        for _ in range(n):\n",
    "            p = random_prime(2^(k+1), lbound=2^k)\n",
    "            q = random_prime(2^(k+1), lbound=2^k)\n",
    "            f.write(str(p * q) + '\\n')\n",
    "    \n",
    "gen(2, 5, 'test.in')"
   ]
  },
  {
   "cell_type": "code",
   "execution_count": 142,
   "metadata": {},
   "outputs": [
    {
     "name": "stdout",
     "output_type": "stream",
     "text": [
      "trial 1833.853027 0/10\n"
     ]
    },
    {
     "data": {
      "text/plain": [
       "1833.853027"
      ]
     },
     "execution_count": 142,
     "metadata": {},
     "output_type": "execute_result"
    }
   ],
   "source": [
    "def bench(source, k=15, n=1):\n",
    "    gen(k, n, 'test.in')\n",
    "\n",
    "    if source == 'sage':\n",
    "        res = !sage factor.sage\n",
    "    else:\n",
    "        !g++ -std=c++17 -O3 -march=native -funroll-loops {source}.cc -o run\n",
    "        res = !./run < test.in\n",
    "\n",
    "    print(source, res[0])\n",
    "\n",
    "    return float(res[0].split()[0])\n",
    "\n",
    "bench('trial', 15, 10)"
   ]
  },
  {
   "cell_type": "code",
   "execution_count": 40,
   "metadata": {},
   "outputs": [
    {
     "data": {
      "text/plain": [
       "1187.9659893617625"
      ]
     },
     "execution_count": 40,
     "metadata": {},
     "output_type": "execute_result"
    }
   ],
   "source": [
    "bench('sage', 28, 100)"
   ]
  },
  {
   "cell_type": "code",
   "execution_count": 41,
   "metadata": {},
   "outputs": [
    {
     "data": {
      "text/plain": [
       "2594.841309"
      ]
     },
     "execution_count": 41,
     "metadata": {},
     "output_type": "execute_result"
    }
   ],
   "source": [
    "bench('montgomery', 28, 100)"
   ]
  },
  {
   "cell_type": "code",
   "execution_count": null,
   "metadata": {},
   "outputs": [],
   "source": [
    "bench('trial', 15, 1)"
   ]
  },
  {
   "cell_type": "code",
   "execution_count": 173,
   "metadata": {},
   "outputs": [
    {
     "name": "stdout",
     "output_type": "stream",
     "text": [
      "trial 2043.968140 0/5000\n"
     ]
    },
    {
     "data": {
      "text/plain": [
       "2043.96814"
      ]
     },
     "execution_count": 173,
     "metadata": {},
     "output_type": "execute_result"
    }
   ],
   "source": [
    "bench('trial', 15, 5000)"
   ]
  },
  {
   "cell_type": "code",
   "execution_count": 175,
   "metadata": {},
   "outputs": [
    {
     "name": "stdout",
     "output_type": "stream",
     "text": [
      "wheel3 0.087907 0/1\n"
     ]
    },
    {
     "data": {
      "text/plain": [
       "0.087907"
      ]
     },
     "execution_count": 175,
     "metadata": {},
     "output_type": "execute_result"
    }
   ],
   "source": [
    "bench('wheel3', 30, 1)"
   ]
  },
  {
   "cell_type": "code",
   "execution_count": 177,
   "metadata": {},
   "outputs": [
    {
     "name": "stdout",
     "output_type": "stream",
     "text": [
      "wheel7 0.199740 0/2\n"
     ]
    },
    {
     "data": {
      "text/plain": [
       "0.19974"
      ]
     },
     "execution_count": 177,
     "metadata": {},
     "output_type": "execute_result"
    }
   ],
   "source": [
    "bench('wheel7', 30, 2)"
   ]
  },
  {
   "cell_type": "code",
   "execution_count": 180,
   "metadata": {},
   "outputs": [
    {
     "name": "stdout",
     "output_type": "stream",
     "text": [
      "primes 19430.058594 0/100000\n"
     ]
    },
    {
     "data": {
      "text/plain": [
       "19430.058594"
      ]
     },
     "execution_count": 180,
     "metadata": {},
     "output_type": "execute_result"
    }
   ],
   "source": [
    "bench('primes', 15, 100000)"
   ]
  },
  {
   "cell_type": "code",
   "execution_count": 182,
   "metadata": {},
   "outputs": [
    {
     "name": "stdout",
     "output_type": "stream",
     "text": [
      "fastcheck 353026.312500 0/100000\n"
     ]
    },
    {
     "data": {
      "text/plain": [
       "353026.3125"
      ]
     },
     "execution_count": 182,
     "metadata": {},
     "output_type": "execute_result"
    }
   ],
   "source": [
    "bench('fastcheck', 15, 100000)"
   ]
  },
  {
   "cell_type": "code",
   "execution_count": 193,
   "metadata": {},
   "outputs": [
    {
     "name": "stdout",
     "output_type": "stream",
     "text": [
      "pollard 89.980003 0/100\n"
     ]
    },
    {
     "data": {
      "text/plain": [
       "89.980003"
      ]
     },
     "execution_count": 193,
     "metadata": {},
     "output_type": "execute_result"
    }
   ],
   "source": [
    "bench('pollard', 30, 100)"
   ]
  },
  {
   "cell_type": "code",
   "execution_count": 199,
   "metadata": {},
   "outputs": [
    {
     "name": "stdout",
     "output_type": "stream",
     "text": [
      "brent 57.874924 0/100\n"
     ]
    },
    {
     "data": {
      "text/plain": [
       "57.874924"
      ]
     },
     "execution_count": 199,
     "metadata": {},
     "output_type": "execute_result"
    }
   ],
   "source": [
    "bench('brent', 30, 100)"
   ]
  },
  {
   "cell_type": "code",
   "execution_count": 244,
   "metadata": {},
   "outputs": [
    {
     "name": "stdout",
     "output_type": "stream",
     "text": [
      "brent-amortized 427.405579 67/10000\n"
     ]
    },
    {
     "data": {
      "text/plain": [
       "427.405579"
      ]
     },
     "execution_count": 244,
     "metadata": {},
     "output_type": "execute_result"
    }
   ],
   "source": [
    "bench('brent-amortized', 30, 10000)"
   ]
  },
  {
   "cell_type": "code",
   "execution_count": 264,
   "metadata": {},
   "outputs": [
    {
     "name": "stdout",
     "output_type": "stream",
     "text": [
      "brent-montgomery 5883.024414 144/10000\n"
     ]
    },
    {
     "data": {
      "text/plain": [
       "5883.024414"
      ]
     },
     "execution_count": 264,
     "metadata": {},
     "output_type": "execute_result"
    }
   ],
   "source": [
    "bench('brent-montgomery', 28, 10000)"
   ]
  },
  {
   "cell_type": "code",
   "execution_count": 265,
   "metadata": {},
   "outputs": [
    {
     "name": "stdout",
     "output_type": "stream",
     "text": [
      "sage 1318.818576386023\n"
     ]
    },
    {
     "data": {
      "text/plain": [
       "1318.818576386023"
      ]
     },
     "execution_count": 265,
     "metadata": {},
     "output_type": "execute_result"
    }
   ],
   "source": [
    "bench('sage', 28, 10000)"
   ]
  },
  {
   "cell_type": "code",
   "execution_count": 327,
   "metadata": {},
   "outputs": [
    {
     "name": "stdout",
     "output_type": "stream",
     "text": [
      "sage 814.884929645984 0/1000\n"
     ]
    },
    {
     "data": {
      "text/plain": [
       "814.884929645984"
      ]
     },
     "execution_count": 327,
     "metadata": {},
     "output_type": "execute_result"
    }
   ],
   "source": [
    "bench('sage', 30, 1000)"
   ]
  },
  {
   "cell_type": "code",
   "execution_count": 334,
   "metadata": {},
   "outputs": [
    {
     "name": "stdout",
     "output_type": "stream",
     "text": [
      "wheel3 4090.198730 0/10000\n"
     ]
    },
    {
     "data": {
      "text/plain": [
       "4090.19873"
      ]
     },
     "execution_count": 334,
     "metadata": {},
     "output_type": "execute_result"
    }
   ],
   "source": [
    "bench('wheel3', 15, 10000)"
   ]
  },
  {
   "cell_type": "code",
   "execution_count": 333,
   "metadata": {},
   "outputs": [
    {
     "name": "stdout",
     "output_type": "stream",
     "text": [
      "wheel7 7641.643555 0/10000\n"
     ]
    },
    {
     "data": {
      "text/plain": [
       "7641.643555"
      ]
     },
     "execution_count": 333,
     "metadata": {},
     "output_type": "execute_result"
    }
   ],
   "source": [
    "bench('wheel7', 15, 10000)"
   ]
  },
  {
   "cell_type": "code",
   "execution_count": 326,
   "metadata": {},
   "outputs": [
    {
     "name": "stdout",
     "output_type": "stream",
     "text": [
      "sage 17902.69162441407 0/100000\n"
     ]
    },
    {
     "data": {
      "text/plain": [
       "17902.69162441407"
      ]
     },
     "execution_count": 326,
     "metadata": {},
     "output_type": "execute_result"
    }
   ],
   "source": [
    "bench('sage', 15, 100000)"
   ]
  },
  {
   "cell_type": "code",
   "execution_count": 270,
   "metadata": {},
   "outputs": [
    {
     "ename": "IndexError",
     "evalue": "list index out of range",
     "output_type": "error",
     "traceback": [
      "\u001b[1;31m---------------------------------------------------------------------------\u001b[0m",
      "\u001b[1;31mIndexError\u001b[0m                                Traceback (most recent call last)",
      "\u001b[1;32m/home/sereja/Projects/amh-code/factor/test.ipynb Cell 19'\u001b[0m in \u001b[0;36m<cell line: 1>\u001b[1;34m()\u001b[0m\n\u001b[1;32m----> <a href='vscode-notebook-cell:/home/sereja/Projects/amh-code/factor/test.ipynb#ch0000017?line=0'>1</a>\u001b[0m bench(\u001b[39m'\u001b[39;49m\u001b[39mlookup\u001b[39;49m\u001b[39m'\u001b[39;49m, Integer(\u001b[39m8\u001b[39;49m), Integer(\u001b[39m100000\u001b[39;49m))\n",
      "\u001b[1;32m/home/sereja/Projects/amh-code/factor/test.ipynb Cell 5'\u001b[0m in \u001b[0;36mbench\u001b[1;34m(source, k, n)\u001b[0m\n\u001b[0;32m      <a href='vscode-notebook-cell:/home/sereja/Projects/amh-code/factor/test.ipynb#ch0000000?line=6'>7</a>\u001b[0m     get_ipython()\u001b[39m.\u001b[39msystem(\u001b[39m'\u001b[39m\u001b[39mg++ -std=c++17 -O3 -march=native -funroll-loops \u001b[39m\u001b[39m{source}\u001b[39;00m\u001b[39m.cc -o run\u001b[39m\u001b[39m'\u001b[39m)\n\u001b[0;32m      <a href='vscode-notebook-cell:/home/sereja/Projects/amh-code/factor/test.ipynb#ch0000000?line=7'>8</a>\u001b[0m     res \u001b[39m=\u001b[39m get_ipython()\u001b[39m.\u001b[39mgetoutput(\u001b[39m'\u001b[39m\u001b[39m./run < test.in\u001b[39m\u001b[39m'\u001b[39m)\n\u001b[1;32m---> <a href='vscode-notebook-cell:/home/sereja/Projects/amh-code/factor/test.ipynb#ch0000000?line=9'>10</a>\u001b[0m \u001b[39mprint\u001b[39m(source, res[Integer(\u001b[39m0\u001b[39;49m)])\n\u001b[0;32m     <a href='vscode-notebook-cell:/home/sereja/Projects/amh-code/factor/test.ipynb#ch0000000?line=11'>12</a>\u001b[0m \u001b[39mreturn\u001b[39;00m \u001b[39mfloat\u001b[39m(res[Integer(\u001b[39m0\u001b[39m)]\u001b[39m.\u001b[39msplit()[Integer(\u001b[39m0\u001b[39m)])\n",
      "\u001b[1;31mIndexError\u001b[0m: list index out of range"
     ]
    }
   ],
   "source": [
    "bench('lookup', 7, 100000)"
   ]
  },
  {
   "cell_type": "code",
   "execution_count": 32,
   "metadata": {},
   "outputs": [
    {
     "data": {
      "text/plain": [
       "433.380707"
      ]
     },
     "execution_count": 32,
     "metadata": {},
     "output_type": "execute_result"
    }
   ],
   "source": [
    "bench('brent2', 30, 100)"
   ]
  }
 ],
 "metadata": {
  "kernelspec": {
   "display_name": "SageMath 9.5",
   "language": "sage",
   "name": "sagemath"
  },
  "language_info": {
   "codemirror_mode": {
    "name": "ipython",
    "version": 3
   },
   "file_extension": ".py",
   "mimetype": "text/x-python",
   "name": "python",
   "nbconvert_exporter": "python",
   "pygments_lexer": "ipython3",
   "version": "3.10.4"
  },
  "orig_nbformat": 2
 },
 "nbformat": 4,
 "nbformat_minor": 2
}
