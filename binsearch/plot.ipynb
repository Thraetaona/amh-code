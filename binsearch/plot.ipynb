{
 "cells": [
  {
   "cell_type": "code",
   "execution_count": 1,
   "metadata": {},
   "outputs": [],
   "source": [
    "import matplotlib.pyplot as plt\n",
    "import seaborn as sns\n",
    "\n",
    "sns.reset_defaults()"
   ]
  },
  {
   "cell_type": "code",
   "execution_count": 174,
   "metadata": {},
   "outputs": [
    {
     "name": "stdout",
     "output_type": "stream",
     "text": [
      "               std 4194304 4194304  305940602 705.6\n",
      "eytzinger-prefetch 4194304 4194304  305940602 199.78\n",
      "             btree 4194304 4194304  305940602 153.36\n",
      "3.531885073580939\n",
      "4.60093896713615\n"
     ]
    }
   ],
   "source": [
    "def bench(n=2**22, q=2**22, source='std'):\n",
    "    !make -s {source}\n",
    "    if _exit_code != 0:\n",
    "        raise Exception(\"Compilation failed\")\n",
    "    res = !./{source} {n} {q}\n",
    "    #res = !g++ -O3 -march=native -D N={n} -D Q={q} {source} -o run && ./run\n",
    "    duration = float(res[0].split()[0])\n",
    "    check = int(res[1])\n",
    "    print(f'{source:>18} {n:<7} {q:<7} {check:10} {duration}')\n",
    "    return duration\n",
    "\n",
    "#ns = list(int(1.17**k) for k in range(50, 100))\n",
    "\n",
    "#l = [bench(n) for n in ns]\n",
    "\n",
    "baseline = bench()\n",
    "#bench(n=2**22, source='textbook')\n",
    "#bench(n=2**22, source='branchless')\n",
    "#bench(n=2**22, source='textbook-prefetch')\n",
    "#bench(n=2**22, source='eytzinger')\n",
    "x = bench(source='eytzinger-prefetch')\n",
    "#x = bench(n=2**22, source='eytzinger-prefetch2')\n",
    "y = bench(source='btree')\n",
    "print(baseline / x)\n",
    "print(baseline / y)"
   ]
  },
  {
   "cell_type": "code",
   "execution_count": 165,
   "metadata": {},
   "outputs": [
    {
     "data": {
      "text/plain": [
       "0.847249408"
      ]
     },
     "execution_count": 165,
     "metadata": {},
     "output_type": "execute_result"
    }
   ],
   "source": [
    "202 * 2**22 / 10**9"
   ]
  }
 ],
 "metadata": {
  "interpreter": {
   "hash": "e7370f93d1d0cde622a1f8e1c04877d8463912d04d973331ad4851f04de6915a"
  },
  "kernelspec": {
   "display_name": "Python 3.8.10 64-bit",
   "language": "python",
   "name": "python3"
  },
  "language_info": {
   "codemirror_mode": {
    "name": "ipython",
    "version": 3
   },
   "file_extension": ".py",
   "mimetype": "text/x-python",
   "name": "python",
   "nbconvert_exporter": "python",
   "pygments_lexer": "ipython3",
   "version": "3.8.10"
  },
  "orig_nbformat": 4
 },
 "nbformat": 4,
 "nbformat_minor": 2
}
