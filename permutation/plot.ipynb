{
 "cells": [
  {
   "cell_type": "code",
   "execution_count": 1,
   "metadata": {},
   "outputs": [],
   "source": [
    "import matplotlib.pyplot as plt\n",
    "import seaborn as sns\n",
    "\n",
    "sns.reset_defaults()\n",
    "sns.set_theme(style='whitegrid')"
   ]
  },
  {
   "cell_type": "code",
   "execution_count": 40,
   "metadata": {},
   "outputs": [
    {
     "name": "stdout",
     "output_type": "stream",
     "text": [
      "compiling reverse-std\n",
      "reverse-std 1048576 ['77125909', '4.6262 seconds', '0.9284 GFLOPS']\n",
      "compiling reverse-simd\n",
      "reverse-simd 1048576 ['77125909', '0.1518 seconds', '28.3011 GFLOPS']\n",
      "compiling reverse-simd-aligned\n",
      "reverse-simd-aligned 1048576 ['77125909', '0.1491 seconds', '28.8141 GFLOPS']\n"
     ]
    },
    {
     "data": {
      "text/plain": [
       "0.1491"
      ]
     },
     "execution_count": 40,
     "metadata": {},
     "output_type": "execute_result"
    }
   ],
   "source": [
    "def benchmark(source, n=2**20, k=2**32, cc='clang++'):\n",
    "    print(f\"compiling {source}\")\n",
    "    !{cc} -std=c++17 -O3 -funroll-loops -march=native {source}.cc -o {source}\n",
    "    result = !./{source} {n} {k}\n",
    "    print(source, n, result)\n",
    "    return float(result[1].split()[0])\n",
    "\n",
    "benchmark('reverse-std')\n",
    "#benchmark('reverse-naive')\n",
    "benchmark('reverse-simd')\n",
    "benchmark('reverse-simd-aligned')"
   ]
  },
  {
   "cell_type": "code",
   "execution_count": null,
   "metadata": {},
   "outputs": [
    {
     "name": "stdout",
     "output_type": "stream",
     "text": [
      "compiling shuffle-std\n",
      "\u001b[1mshuffle-std.cc:4:10: \u001b[0m\u001b[0;1;35mwarning: \u001b[0m\u001b[1m'random_shuffle<char *>' is deprecated: use 'std::shuffle' instead [-Wdeprecated-declarations]\u001b[0m\n",
      "    std::random_shuffle(a, a + n);\n",
      "\u001b[0;1;32m         ^\n",
      "\u001b[0m\u001b[1m/bin/../lib64/gcc/x86_64-pc-linux-gnu/12.1.0/../../../../include/c++/12.1.0/bits/stl_algo.h:4539:5: \u001b[0m\u001b[0;1;30mnote: \u001b[0m'random_shuffle<char *>' has been explicitly marked deprecated here\u001b[0m\n",
      "    _GLIBCXX14_DEPRECATED_SUGGEST(\"std::shuffle\")\n",
      "\u001b[0;1;32m    ^\n",
      "\u001b[0m\u001b[1m/bin/../lib64/gcc/x86_64-pc-linux-gnu/12.1.0/../../../../include/c++/12.1.0/x86_64-pc-linux-gnu/bits/c++config.h:112:45: \u001b[0m\u001b[0;1;30mnote: \u001b[0mexpanded from macro '_GLIBCXX14_DEPRECATED_SUGGEST'\u001b[0m\n",
      "# define _GLIBCXX14_DEPRECATED_SUGGEST(ALT) _GLIBCXX_DEPRECATED_SUGGEST(ALT)\n",
      "\u001b[0;1;32m                                            ^\n",
      "\u001b[0m\u001b[1m/bin/../lib64/gcc/x86_64-pc-linux-gnu/12.1.0/../../../../include/c++/12.1.0/x86_64-pc-linux-gnu/bits/c++config.h:96:19: \u001b[0m\u001b[0;1;30mnote: \u001b[0mexpanded from macro '_GLIBCXX_DEPRECATED_SUGGEST'\u001b[0m\n",
      "  __attribute__ ((__deprecated__ (\"use '\" ALT \"' instead\")))\n",
      "\u001b[0;1;32m                  ^\n",
      "\u001b[0m1 warning generated.\n",
      "shuffle-std 1048576 ['23780947', '0.3998 seconds', '0.0420 GFLOPS']\n"
     ]
    },
    {
     "data": {
      "text/plain": [
       "0.3998"
      ]
     },
     "execution_count": 49,
     "metadata": {},
     "output_type": "execute_result"
    }
   ],
   "source": [
    "benchmark('shuffle-std', n=2**20, k=2**24)"
   ]
  },
  {
   "cell_type": "code",
   "execution_count": 66,
   "metadata": {},
   "outputs": [
    {
     "name": "stdout",
     "output_type": "stream",
     "text": [
      "compiling shuffle-fisher-yates-rand\n",
      "shuffle-fisher-yates-rand 1048576 ['85129352', '1.6524 seconds', '0.0406 B/s', '49.2448 c/B']\n"
     ]
    },
    {
     "data": {
      "text/plain": [
       "1.6524"
      ]
     },
     "execution_count": 66,
     "metadata": {},
     "output_type": "execute_result"
    }
   ],
   "source": [
    "benchmark('shuffle-fisher-yates-rand', n=2**20, k=2**26)"
   ]
  },
  {
   "cell_type": "code",
   "execution_count": 76,
   "metadata": {},
   "outputs": [
    {
     "name": "stdout",
     "output_type": "stream",
     "text": [
      "compiling shuffle-fisher-yates-precalc\n",
      "shuffle-fisher-yates-precalc 4096 ['-146652', '0.1523 seconds', '0.4407 B/s', '4.5384 c/B']\n"
     ]
    },
    {
     "data": {
      "text/plain": [
       "0.1523"
      ]
     },
     "execution_count": 76,
     "metadata": {},
     "output_type": "execute_result"
    }
   ],
   "source": [
    "benchmark('shuffle-fisher-yates-precalc', n=2**12, k=2**26)"
   ]
  },
  {
   "cell_type": "code",
   "execution_count": 70,
   "metadata": {},
   "outputs": [
    {
     "name": "stdout",
     "output_type": "stream",
     "text": [
      "compiling shuffle-permutation-precalc\n",
      "shuffle-permutation-precalc 1048576 ['64340491', '0.1921 seconds', '0.3494 B/s', '5.7239 c/B']\n"
     ]
    },
    {
     "data": {
      "text/plain": [
       "0.1921"
      ]
     },
     "execution_count": 70,
     "metadata": {},
     "output_type": "execute_result"
    }
   ],
   "source": [
    "benchmark('shuffle-permutation-precalc', n=2**20, k=2**26)"
   ]
  },
  {
   "cell_type": "code",
   "execution_count": 128,
   "metadata": {},
   "outputs": [
    {
     "name": "stdout",
     "output_type": "stream",
     "text": [
      "compiling shuffle-permutation-precalc\n",
      "shuffle-permutation-precalc 4096 ['362725', '0.3380 seconds', '0.7943 B/s', '2.5180 c/B']\n"
     ]
    },
    {
     "data": {
      "text/plain": [
       "0.338"
      ]
     },
     "execution_count": 128,
     "metadata": {},
     "output_type": "execute_result"
    }
   ],
   "source": [
    "benchmark('shuffle-permutation-precalc', n=2**12, k=2**28)"
   ]
  },
  {
   "cell_type": "code",
   "execution_count": 127,
   "metadata": {},
   "outputs": [
    {
     "name": "stdout",
     "output_type": "stream",
     "text": [
      "compiling shuffle-permutation-blocked\n",
      "shuffle-permutation-blocked 4096 ['362725', '0.1916 seconds', '1.4011 B/s', '1.4275 c/B']\n"
     ]
    },
    {
     "data": {
      "text/plain": [
       "0.1916"
      ]
     },
     "execution_count": 127,
     "metadata": {},
     "output_type": "execute_result"
    }
   ],
   "source": [
    "benchmark('shuffle-permutation-blocked', n=2**12, k=2**28, cc='g++')\n",
    "# 1.5\n",
    "# read, read, shift, or\n",
    "# write every 8, maybe update base"
   ]
  },
  {
   "cell_type": "code",
   "execution_count": 126,
   "metadata": {},
   "outputs": [
    {
     "name": "stdout",
     "output_type": "stream",
     "text": [
      "compiling shuffle-permutation-blocked-ilp\n",
      "shuffle-permutation-blocked-ilp 4096 ['362725', '0.1818 seconds', '1.4764 B/s', '1.3547 c/B']\n"
     ]
    },
    {
     "data": {
      "text/plain": [
       "0.1818"
      ]
     },
     "execution_count": 126,
     "metadata": {},
     "output_type": "execute_result"
    }
   ],
   "source": [
    "benchmark('shuffle-permutation-blocked-ilp', n=2**12, k=2**28, cc='g++')"
   ]
  },
  {
   "cell_type": "code",
   "execution_count": 65,
   "metadata": {},
   "outputs": [
    {
     "name": "stdout",
     "output_type": "stream",
     "text": [
      "0 1\n",
      "1 6\n",
      "2 31\n",
      "3 28\n",
      "4 13\n",
      "5 2\n",
      "6 11\n",
      "7 24\n",
      "8 25\n",
      "9 30\n",
      "10 23\n",
      "11 20\n",
      "12 5\n",
      "13 26\n",
      "14 3\n",
      "15 16\n",
      "16 17\n",
      "17 22\n",
      "18 15\n",
      "19 12\n",
      "20 29\n",
      "21 18\n",
      "22 27\n",
      "23 8\n",
      "24 9\n",
      "25 14\n",
      "26 7\n",
      "27 4\n",
      "28 21\n",
      "29 10\n",
      "30 19\n",
      "31 0\n"
     ]
    }
   ],
   "source": [
    "n = 2**5\n",
    "\n",
    "k = 1  # staring seed\n",
    "a = 5\n",
    "c = 1\n",
    "\n",
    "for i in range(n):\n",
    "    print(i, k)\n",
    "    k = (k * a + c) % n"
   ]
  }
 ],
 "metadata": {
  "interpreter": {
   "hash": "e7370f93d1d0cde622a1f8e1c04877d8463912d04d973331ad4851f04de6915a"
  },
  "kernelspec": {
   "display_name": "Python 3.8.10 64-bit",
   "language": "python",
   "name": "python3"
  },
  "language_info": {
   "codemirror_mode": {
    "name": "ipython",
    "version": 3
   },
   "file_extension": ".py",
   "mimetype": "text/x-python",
   "name": "python",
   "nbconvert_exporter": "python",
   "pygments_lexer": "ipython3",
   "version": "3.10.5"
  },
  "orig_nbformat": 4
 },
 "nbformat": 4,
 "nbformat_minor": 2
}
