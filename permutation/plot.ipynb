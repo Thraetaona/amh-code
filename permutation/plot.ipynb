{
 "cells": [
  {
   "cell_type": "code",
   "execution_count": 1,
   "metadata": {},
   "outputs": [],
   "source": [
    "import matplotlib.pyplot as plt\n",
    "import seaborn as sns\n",
    "\n",
    "sns.reset_defaults()\n",
    "sns.set_theme(style='whitegrid')"
   ]
  },
  {
   "cell_type": "code",
   "execution_count": 40,
   "metadata": {},
   "outputs": [
    {
     "name": "stdout",
     "output_type": "stream",
     "text": [
      "compiling reverse-std\n",
      "reverse-std 1048576 ['77125909', '4.6262 seconds', '0.9284 GFLOPS']\n",
      "compiling reverse-simd\n",
      "reverse-simd 1048576 ['77125909', '0.1518 seconds', '28.3011 GFLOPS']\n",
      "compiling reverse-simd-aligned\n",
      "reverse-simd-aligned 1048576 ['77125909', '0.1491 seconds', '28.8141 GFLOPS']\n"
     ]
    },
    {
     "data": {
      "text/plain": [
       "0.1491"
      ]
     },
     "execution_count": 40,
     "metadata": {},
     "output_type": "execute_result"
    }
   ],
   "source": [
    "def benchmark(source, n=2**20, k=2**32, cc='clang++'):\n",
    "    print(f\"compiling {source}\")\n",
    "    !{cc} -std=c++17 -O3 -funroll-loops -march=native {source}.cc -o {source}\n",
    "    result = !./{source} {n} {k}\n",
    "    print(source, n, result)\n",
    "    return float(result[1].split()[0])\n",
    "\n",
    "benchmark('reverse-std')\n",
    "#benchmark('reverse-naive')\n",
    "benchmark('reverse-simd')\n",
    "benchmark('reverse-simd-aligned')"
   ]
  },
  {
   "cell_type": "code",
   "execution_count": 54,
   "metadata": {},
   "outputs": [
    {
     "name": "stdout",
     "output_type": "stream",
     "text": [
      "compiling shuffle-fisher-yates\n",
      "shuffle-fisher-yates 8388608 ['-25651799', '0.5333 seconds', '0.1258 B/s', '15.8938 c/B']\n"
     ]
    },
    {
     "data": {
      "text/plain": [
       "0.5333"
      ]
     },
     "execution_count": 54,
     "metadata": {},
     "output_type": "execute_result"
    }
   ],
   "source": [
    "benchmark('shuffle-fisher-yates', n=2**20, k=2**26)"
   ]
  },
  {
   "cell_type": "code",
   "execution_count": 49,
   "metadata": {},
   "outputs": [
    {
     "name": "stdout",
     "output_type": "stream",
     "text": [
      "compiling shuffle-std\n",
      "\u001b[1mshuffle-std.cc:4:10: \u001b[0m\u001b[0;1;35mwarning: \u001b[0m\u001b[1m'random_shuffle<char *>' is deprecated: use 'std::shuffle' instead [-Wdeprecated-declarations]\u001b[0m\n",
      "    std::random_shuffle(a, a + n);\n",
      "\u001b[0;1;32m         ^\n",
      "\u001b[0m\u001b[1m/bin/../lib64/gcc/x86_64-pc-linux-gnu/12.1.0/../../../../include/c++/12.1.0/bits/stl_algo.h:4539:5: \u001b[0m\u001b[0;1;30mnote: \u001b[0m'random_shuffle<char *>' has been explicitly marked deprecated here\u001b[0m\n",
      "    _GLIBCXX14_DEPRECATED_SUGGEST(\"std::shuffle\")\n",
      "\u001b[0;1;32m    ^\n",
      "\u001b[0m\u001b[1m/bin/../lib64/gcc/x86_64-pc-linux-gnu/12.1.0/../../../../include/c++/12.1.0/x86_64-pc-linux-gnu/bits/c++config.h:112:45: \u001b[0m\u001b[0;1;30mnote: \u001b[0mexpanded from macro '_GLIBCXX14_DEPRECATED_SUGGEST'\u001b[0m\n",
      "# define _GLIBCXX14_DEPRECATED_SUGGEST(ALT) _GLIBCXX_DEPRECATED_SUGGEST(ALT)\n",
      "\u001b[0;1;32m                                            ^\n",
      "\u001b[0m\u001b[1m/bin/../lib64/gcc/x86_64-pc-linux-gnu/12.1.0/../../../../include/c++/12.1.0/x86_64-pc-linux-gnu/bits/c++config.h:96:19: \u001b[0m\u001b[0;1;30mnote: \u001b[0mexpanded from macro '_GLIBCXX_DEPRECATED_SUGGEST'\u001b[0m\n",
      "  __attribute__ ((__deprecated__ (\"use '\" ALT \"' instead\")))\n",
      "\u001b[0;1;32m                  ^\n",
      "\u001b[0m1 warning generated.\n",
      "shuffle-std 1048576 ['23780947', '0.3998 seconds', '0.0420 GFLOPS']\n"
     ]
    },
    {
     "data": {
      "text/plain": [
       "0.3998"
      ]
     },
     "execution_count": 49,
     "metadata": {},
     "output_type": "execute_result"
    }
   ],
   "source": [
    "benchmark('shuffle-std', n=2**20, k=2**24)"
   ]
  }
 ],
 "metadata": {
  "interpreter": {
   "hash": "e7370f93d1d0cde622a1f8e1c04877d8463912d04d973331ad4851f04de6915a"
  },
  "kernelspec": {
   "display_name": "Python 3.8.10 64-bit",
   "language": "python",
   "name": "python3"
  },
  "language_info": {
   "codemirror_mode": {
    "name": "ipython",
    "version": 3
   },
   "file_extension": ".py",
   "mimetype": "text/x-python",
   "name": "python",
   "nbconvert_exporter": "python",
   "pygments_lexer": "ipython3",
   "version": "3.10.5"
  },
  "orig_nbformat": 4
 },
 "nbformat": 4,
 "nbformat_minor": 2
}
