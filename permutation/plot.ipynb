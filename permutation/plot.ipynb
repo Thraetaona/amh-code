{
 "cells": [
  {
   "cell_type": "code",
   "execution_count": 1,
   "metadata": {},
   "outputs": [],
   "source": [
    "import matplotlib.pyplot as plt\n",
    "import seaborn as sns\n",
    "\n",
    "sns.reset_defaults()\n",
    "sns.set_theme(style='whitegrid')"
   ]
  },
  {
   "cell_type": "code",
   "execution_count": 38,
   "metadata": {},
   "outputs": [
    {
     "name": "stdout",
     "output_type": "stream",
     "text": [
      "compiling reverse-std\n",
      "reverse-std 1024 ['-28541', '0.5952 seconds', '0.9020 GFLOPS']\n",
      "compiling reverse-simd\n",
      "reverse-simd 1024 ['-28541', '0.0467 seconds', '11.5045 GFLOPS']\n",
      "compiling reverse-simd-aligned\n",
      "reverse-simd-aligned 1024 ['-28541', '0.0473 seconds', '11.3465 GFLOPS']\n"
     ]
    },
    {
     "data": {
      "text/plain": [
       "0.0473"
      ]
     },
     "execution_count": 38,
     "metadata": {},
     "output_type": "execute_result"
    }
   ],
   "source": [
    "def benchmark(source, n=2**20, k=2**32, cc='clang++'):\n",
    "    print(f\"compiling {source}\")\n",
    "    !{cc} -std=c++17 -O3 -funroll-loops -march=native {source}.cc -o {source}\n",
    "    result = !./{source} {n} {k}\n",
    "    print(source, n, result)\n",
    "    return float(result[1].split()[0])\n",
    "\n",
    "benchmark('reverse-std')\n",
    "#benchmark('reverse-naive')\n",
    "benchmark('reverse-simd')\n",
    "benchmark('reverse-simd-aligned')"
   ]
  }
 ],
 "metadata": {
  "interpreter": {
   "hash": "e7370f93d1d0cde622a1f8e1c04877d8463912d04d973331ad4851f04de6915a"
  },
  "kernelspec": {
   "display_name": "Python 3.8.10 64-bit",
   "language": "python",
   "name": "python3"
  },
  "language_info": {
   "codemirror_mode": {
    "name": "ipython",
    "version": 3
   },
   "file_extension": ".py",
   "mimetype": "text/x-python",
   "name": "python",
   "nbconvert_exporter": "python",
   "pygments_lexer": "ipython3",
   "version": "3.10.5"
  },
  "orig_nbformat": 4
 },
 "nbformat": 4,
 "nbformat_minor": 2
}
