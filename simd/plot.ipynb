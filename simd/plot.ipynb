{
 "cells": [
  {
   "cell_type": "code",
   "execution_count": 2,
   "metadata": {},
   "outputs": [],
   "source": [
    "import matplotlib.pyplot as plt\n",
    "import seaborn as sns\n",
    "\n",
    "sns.reset_defaults()\n",
    "sns.set_theme(style='whitegrid')"
   ]
  },
  {
   "cell_type": "code",
   "execution_count": 128,
   "metadata": {},
   "outputs": [],
   "source": [
    "def bench(source, n=2**20, p=50, cc='g++'):\n",
    "    res = !{cc} -std=c++17 -O3 -funroll-loops -march=native -D N={n} -D P={p} {source}.cc -o run && ./run\n",
    "    print(source, n, res)\n",
    "    return float(res[0].split()[0])\n",
    "\n",
    "ns = list(int(1.17**k) for k in range(50, 100))"
   ]
  },
  {
   "cell_type": "code",
   "execution_count": 42,
   "metadata": {},
   "outputs": [
    {
     "name": "stdout",
     "output_type": "stream",
     "text": [
      "blend-autovec 4096 ['12.98 GFLOPS', '1508481368']\n"
     ]
    },
    {
     "data": {
      "text/plain": [
       "12.98"
      ]
     },
     "execution_count": 42,
     "metadata": {},
     "output_type": "execute_result"
    }
   ],
   "source": [
    "bench('blend-autovec', n=2**12)"
   ]
  },
  {
   "cell_type": "code",
   "execution_count": 23,
   "metadata": {},
   "outputs": [
    {
     "name": "stdout",
     "output_type": "stream",
     "text": [
      "blend-simd 4096 ['8.95 GFLOPS', '1508481368']\n"
     ]
    },
    {
     "data": {
      "text/plain": [
       "8.95"
      ]
     },
     "execution_count": 23,
     "metadata": {},
     "output_type": "execute_result"
    }
   ],
   "source": [
    "bench('blend-simd', n=2**12)"
   ]
  },
  {
   "cell_type": "code",
   "execution_count": 41,
   "metadata": {},
   "outputs": [
    {
     "name": "stdout",
     "output_type": "stream",
     "text": [
      "blend-simd-and 4096 ['12.35 GFLOPS', '1404258952']\n"
     ]
    },
    {
     "data": {
      "text/plain": [
       "12.35"
      ]
     },
     "execution_count": 41,
     "metadata": {},
     "output_type": "execute_result"
    }
   ],
   "source": [
    "bench('blend-simd-and', n=2**12)"
   ]
  },
  {
   "cell_type": "code",
   "execution_count": 32,
   "metadata": {},
   "outputs": [
    {
     "name": "stdout",
     "output_type": "stream",
     "text": [
      "blend-extensions 4096 ['13.21 GFLOPS', '1508481368']\n"
     ]
    },
    {
     "data": {
      "text/plain": [
       "13.21"
      ]
     },
     "execution_count": 32,
     "metadata": {},
     "output_type": "execute_result"
    }
   ],
   "source": [
    "bench('blend-extensions', n=2**12)"
   ]
  },
  {
   "cell_type": "markdown",
   "metadata": {},
   "source": [
    "No idea why it doesn't vectorize optimally."
   ]
  },
  {
   "cell_type": "code",
   "execution_count": 28,
   "metadata": {},
   "outputs": [
    {
     "name": "stdout",
     "output_type": "stream",
     "text": [
      "find-simple 4096 ['4.41 GFLOPS', '891']\n"
     ]
    },
    {
     "data": {
      "text/plain": [
       "4.41"
      ]
     },
     "execution_count": 28,
     "metadata": {},
     "output_type": "execute_result"
    }
   ],
   "source": [
    "bench('find-simple', n=2**12)"
   ]
  },
  {
   "cell_type": "code",
   "execution_count": 29,
   "metadata": {},
   "outputs": [
    {
     "name": "stdout",
     "output_type": "stream",
     "text": [
      "find-simd 4096 ['19.62 GFLOPS', '891']\n"
     ]
    },
    {
     "data": {
      "text/plain": [
       "19.62"
      ]
     },
     "execution_count": 29,
     "metadata": {},
     "output_type": "execute_result"
    }
   ],
   "source": [
    "bench('find-simd', n=2**12)"
   ]
  },
  {
   "cell_type": "code",
   "execution_count": 32,
   "metadata": {},
   "outputs": [
    {
     "name": "stdout",
     "output_type": "stream",
     "text": [
      "find-testz 4096 ['14.36 GFLOPS', '-2390']\n"
     ]
    },
    {
     "data": {
      "text/plain": [
       "14.36"
      ]
     },
     "execution_count": 32,
     "metadata": {},
     "output_type": "execute_result"
    }
   ],
   "source": [
    "bench('find-testz', n=2**12)"
   ]
  },
  {
   "cell_type": "code",
   "execution_count": 43,
   "metadata": {},
   "outputs": [
    {
     "name": "stdout",
     "output_type": "stream",
     "text": [
      "count-simple 4096 ['15.89 GFLOPS', '100002149']\n"
     ]
    },
    {
     "data": {
      "text/plain": [
       "15.89"
      ]
     },
     "execution_count": 43,
     "metadata": {},
     "output_type": "execute_result"
    }
   ],
   "source": [
    "bench('count-simple', n=2**12)"
   ]
  },
  {
   "cell_type": "code",
   "execution_count": 53,
   "metadata": {},
   "outputs": [
    {
     "name": "stdout",
     "output_type": "stream",
     "text": [
      "count-simd 8192 ['14.94 GFLOPS', '99995586']\n"
     ]
    },
    {
     "data": {
      "text/plain": [
       "14.94"
      ]
     },
     "execution_count": 53,
     "metadata": {},
     "output_type": "execute_result"
    }
   ],
   "source": [
    "bench('count-simd', n=2**13)"
   ]
  },
  {
   "cell_type": "code",
   "execution_count": 54,
   "metadata": {},
   "outputs": [
    {
     "name": "stdout",
     "output_type": "stream",
     "text": [
      "count-minus 8192 ['21.89 GFLOPS', '99995586']\n"
     ]
    },
    {
     "data": {
      "text/plain": [
       "21.89"
      ]
     },
     "execution_count": 54,
     "metadata": {},
     "output_type": "execute_result"
    }
   ],
   "source": [
    "bench('count-minus', n=2**13)"
   ]
  },
  {
   "cell_type": "code",
   "execution_count": 71,
   "metadata": {},
   "outputs": [
    {
     "name": "stdout",
     "output_type": "stream",
     "text": [
      "queries-simple 32768 ['0.84 GFLOPS', '-1758958565']\n"
     ]
    },
    {
     "data": {
      "text/plain": [
       "0.84"
      ]
     },
     "execution_count": 71,
     "metadata": {},
     "output_type": "execute_result"
    }
   ],
   "source": [
    "bench('queries-simple', n=2**15)"
   ]
  },
  {
   "cell_type": "code",
   "execution_count": 72,
   "metadata": {},
   "outputs": [
    {
     "name": "stdout",
     "output_type": "stream",
     "text": [
      "queries-gather 32768 ['0.96 GFLOPS', '-1758958565']\n"
     ]
    },
    {
     "data": {
      "text/plain": [
       "0.96"
      ]
     },
     "execution_count": 72,
     "metadata": {},
     "output_type": "execute_result"
    }
   ],
   "source": [
    "bench('queries-gather', n=2**15)"
   ]
  },
  {
   "cell_type": "code",
   "execution_count": 114,
   "metadata": {},
   "outputs": [
    {
     "name": "stdout",
     "output_type": "stream",
     "text": [
      "popcnt-builtin 32768 ['1.98 GFLOPS', '938445458']\n"
     ]
    },
    {
     "data": {
      "text/plain": [
       "1.98"
      ]
     },
     "execution_count": 114,
     "metadata": {},
     "output_type": "execute_result"
    }
   ],
   "source": [
    "bench('popcnt-builtin', n=2**15)"
   ]
  },
  {
   "cell_type": "code",
   "execution_count": 115,
   "metadata": {},
   "outputs": [
    {
     "name": "stdout",
     "output_type": "stream",
     "text": [
      "popcnt-builtin2 32768 ['3.92 GFLOPS', '938445458']\n"
     ]
    },
    {
     "data": {
      "text/plain": [
       "3.92"
      ]
     },
     "execution_count": 115,
     "metadata": {},
     "output_type": "execute_result"
    }
   ],
   "source": [
    "bench('popcnt-builtin2', n=2**15)"
   ]
  },
  {
   "cell_type": "code",
   "execution_count": 100,
   "metadata": {},
   "outputs": [
    {
     "name": "stdout",
     "output_type": "stream",
     "text": [
      "popcnt-lookup 32768 ['0.49 GFLOPS', '938445458']\n"
     ]
    },
    {
     "data": {
      "text/plain": [
       "0.49"
      ]
     },
     "execution_count": 100,
     "metadata": {},
     "output_type": "execute_result"
    }
   ],
   "source": [
    "bench('popcnt-lookup', n=2**15)"
   ]
  },
  {
   "cell_type": "code",
   "execution_count": 98,
   "metadata": {},
   "outputs": [
    {
     "name": "stdout",
     "output_type": "stream",
     "text": [
      "popcnt-lookup-16 32768 ['0.66 GFLOPS', '938445458']\n"
     ]
    },
    {
     "data": {
      "text/plain": [
       "0.66"
      ]
     },
     "execution_count": 98,
     "metadata": {},
     "output_type": "execute_result"
    }
   ],
   "source": [
    "bench('popcnt-lookup-16', n=2**15)"
   ]
  },
  {
   "cell_type": "code",
   "execution_count": 101,
   "metadata": {},
   "outputs": [
    {
     "name": "stdout",
     "output_type": "stream",
     "text": [
      "popcnt-pshufb 32768 ['7.35 GFLOPS', '938445458']\n"
     ]
    },
    {
     "data": {
      "text/plain": [
       "7.35"
      ]
     },
     "execution_count": 101,
     "metadata": {},
     "output_type": "execute_result"
    }
   ],
   "source": [
    "bench('popcnt-pshufb', n=2**15)"
   ]
  },
  {
   "cell_type": "code",
   "execution_count": 112,
   "metadata": {},
   "outputs": [
    {
     "name": "stdout",
     "output_type": "stream",
     "text": [
      "filter-simple 32768 ['0.33 GFLOPS', '16340 546219']\n"
     ]
    },
    {
     "data": {
      "text/plain": [
       "0.33"
      ]
     },
     "execution_count": 112,
     "metadata": {},
     "output_type": "execute_result"
    }
   ],
   "source": [
    "bench('filter-simple', n=2**15)"
   ]
  },
  {
   "cell_type": "code",
   "execution_count": 113,
   "metadata": {},
   "outputs": [
    {
     "name": "stdout",
     "output_type": "stream",
     "text": [
      "filter-simd 32768 ['4.48 GFLOPS', '16340 546219']\n"
     ]
    },
    {
     "data": {
      "text/plain": [
       "4.48"
      ]
     },
     "execution_count": 113,
     "metadata": {},
     "output_type": "execute_result"
    }
   ],
   "source": [
    "bench('filter-simd', n=2**15)"
   ]
  },
  {
   "cell_type": "code",
   "execution_count": 116,
   "metadata": {},
   "outputs": [],
   "source": [
    "def plot(title=None, ylabel=None, path=None, ch=None, legend=False, ylim=None, xlabel='Array size', loc='best'):\n",
    "    if ch:\n",
    "        lines = [\n",
    "            (2**13, \"32K\"),\n",
    "            (2**17, \"512K\"),\n",
    "            (2**20, \"4M\"),\n",
    "        ]\n",
    "\n",
    "        for x, t in lines:\n",
    "            plt.text(x * 1.2, ch, t)\n",
    "            plt.axvline(x=x, color='black', linestyle='--')\n",
    "\n",
    "    plt.xscale('log', basex=2)\n",
    "    plt.xlabel(xlabel)\n",
    "\n",
    "    if ylabel:\n",
    "        plt.ylabel(ylabel)\n",
    "\n",
    "    if title:\n",
    "        plt.title(title, pad=12)\n",
    "\n",
    "    if legend:\n",
    "        plt.legend(loc=loc)\n",
    "\n",
    "    plt.ylim(bottom=0, top=ylim)\n",
    "    plt.margins(0)\n",
    "\n",
    "    if path:\n",
    "        fig = plt.gcf()\n",
    "        fig.savefig(path)\n",
    "    plt.show()\n",
    "\n",
    "\n",
    "#plt.plot(ns, inc_res, color='darkred')\n",
    "#plot('for (int i = 0; i < n; i++) a[i]++', 'Increments per second ($10^9$)', 'inc.svg', 4.7)"
   ]
  },
  {
   "cell_type": "code",
   "execution_count": 119,
   "metadata": {},
   "outputs": [
    {
     "name": "stdout",
     "output_type": "stream",
     "text": [
      "queries-simple 2566 ['1.75 GFLOPS', '729550110']\n",
      "queries-simple 3002 ['1.77 GFLOPS', '1779150977']\n",
      "queries-simple 3512 ['1.76 GFLOPS', '1143932659']\n",
      "queries-simple 4110 ['1.76 GFLOPS', '-1382676554']\n",
      "queries-simple 4808 ['1.79 GFLOPS', '-801267149']\n",
      "queries-simple 5626 ['1.68 GFLOPS', '-1959817831']\n",
      "queries-simple 6582 ['1.68 GFLOPS', '-210017022']\n",
      "queries-simple 7701 ['1.72 GFLOPS', '2059185419']\n",
      "queries-simple 9011 ['1.68 GFLOPS', '567078052']\n",
      "queries-simple 10543 ['1.48 GFLOPS', '1053835611']\n",
      "queries-simple 12335 ['1.22 GFLOPS', '317248149']\n",
      "queries-simple 14432 ['1.14 GFLOPS', '628961850']\n",
      "queries-simple 16885 ['1.03 GFLOPS', '2136739020']\n",
      "queries-simple 19756 ['0.96 GFLOPS', '1150700932']\n",
      "queries-simple 23115 ['0.91 GFLOPS', '396520129']\n",
      "queries-simple 27044 ['0.88 GFLOPS', '639124620']\n",
      "queries-simple 31642 ['0.82 GFLOPS', '-1393643667']\n",
      "queries-simple 37021 ['0.82 GFLOPS', '-1831662348']\n",
      "queries-simple 43315 ['0.81 GFLOPS', '-1148373861']\n",
      "queries-simple 50678 ['0.79 GFLOPS', '-1456939516']\n",
      "queries-simple 59293 ['0.77 GFLOPS', '1383334765']\n",
      "queries-simple 69373 ['0.76 GFLOPS', '-1124496748']\n",
      "queries-simple 81167 ['0.76 GFLOPS', '-1674223312']\n",
      "queries-simple 94965 ['0.75 GFLOPS', '823381015']\n",
      "queries-simple 111110 ['0.73 GFLOPS', '-194853927']\n",
      "queries-simple 129998 ['0.66 GFLOPS', '1222735978']\n",
      "queries-simple 152098 ['0.61 GFLOPS', '1980403703']\n",
      "queries-simple 177955 ['0.56 GFLOPS', '-144190529']\n",
      "queries-simple 208207 ['0.53 GFLOPS', '1700826347']\n",
      "queries-simple 243603 ['0.51 GFLOPS', '-765371303']\n",
      "queries-simple 285015 ['0.47 GFLOPS', '901095233']\n",
      "queries-simple 333468 ['0.46 GFLOPS', '-898456066']\n",
      "queries-simple 390158 ['0.42 GFLOPS', '2033993357']\n",
      "queries-simple 456485 ['0.39 GFLOPS', '318904461']\n",
      "queries-simple 534087 ['0.42 GFLOPS', '-790555837']\n",
      "queries-simple 624882 ['0.38 GFLOPS', '-379205412']\n",
      "queries-simple 731112 ['0.31 GFLOPS', '729792320']\n",
      "queries-simple 855401 ['0.30 GFLOPS', '2075252721']\n",
      "queries-simple 1000819 ['0.20 GFLOPS', '-708833160']\n",
      "queries-simple 1170959 ['0.23 GFLOPS', '-523866283']\n",
      "queries-simple 1370022 ['0.23 GFLOPS', '1603694614']\n",
      "queries-simple 1602925 ['0.18 GFLOPS', '212338941']\n",
      "queries-simple 1875423 ['0.15 GFLOPS', '1189702830']\n",
      "queries-simple 2194245 ['0.18 GFLOPS', '-585460655']\n",
      "queries-simple 2567266 ['0.14 GFLOPS', '25043566']\n",
      "queries-simple 3003702 ['0.14 GFLOPS', '1362299631']\n",
      "queries-simple 3514331 ['0.14 GFLOPS', '-1552289661']\n",
      "queries-simple 4111767 ['0.12 GFLOPS', '523894579']\n",
      "queries-simple 4810768 ['0.15 GFLOPS', '-1820044779']\n",
      "queries-simple 5628599 ['0.15 GFLOPS', '-391139311']\n"
     ]
    }
   ],
   "source": [
    "queries_simple = [bench('queries-simple', n=n) for n in ns]"
   ]
  },
  {
   "cell_type": "code",
   "execution_count": 121,
   "metadata": {},
   "outputs": [
    {
     "name": "stdout",
     "output_type": "stream",
     "text": [
      "queries-gather 2566 ['0.94 GFLOPS', '729550110']\n",
      "queries-gather 3002 ['0.96 GFLOPS', '1779150977']\n",
      "queries-gather 3512 ['0.95 GFLOPS', '1143932659']\n",
      "queries-gather 4110 ['0.95 GFLOPS', '-1382676554']\n",
      "queries-gather 4808 ['0.95 GFLOPS', '-801267149']\n",
      "queries-gather 5626 ['0.96 GFLOPS', '-1959817831']\n",
      "queries-gather 6582 ['0.95 GFLOPS', '-210017022']\n",
      "queries-gather 7701 ['0.95 GFLOPS', '2059185419']\n",
      "queries-gather 9011 ['0.95 GFLOPS', '567078052']\n",
      "queries-gather 10543 ['0.96 GFLOPS', '1053835611']\n",
      "queries-gather 12335 ['0.95 GFLOPS', '317248149']\n",
      "queries-gather 14432 ['0.94 GFLOPS', '628961850']\n",
      "queries-gather 16885 ['0.96 GFLOPS', '2136739020']\n",
      "queries-gather 19756 ['0.95 GFLOPS', '1150700932']\n",
      "queries-gather 23115 ['0.96 GFLOPS', '396520129']\n",
      "queries-gather 27044 ['0.96 GFLOPS', '639124620']\n",
      "queries-gather 31642 ['0.96 GFLOPS', '-1393643667']\n",
      "queries-gather 37021 ['0.95 GFLOPS', '-1831662348']\n",
      "queries-gather 43315 ['0.93 GFLOPS', '-1148373861']\n",
      "queries-gather 50678 ['0.92 GFLOPS', '-1456939516']\n",
      "queries-gather 59293 ['0.92 GFLOPS', '1383334765']\n",
      "queries-gather 69373 ['0.85 GFLOPS', '-1124496748']\n",
      "queries-gather 81167 ['0.77 GFLOPS', '-1674223312']\n",
      "queries-gather 94965 ['0.75 GFLOPS', '823381015']\n",
      "queries-gather 111110 ['0.70 GFLOPS', '-194853927']\n",
      "queries-gather 129998 ['0.67 GFLOPS', '1222735978']\n",
      "queries-gather 152098 ['0.66 GFLOPS', '1980403703']\n",
      "queries-gather 177955 ['0.62 GFLOPS', '-144190529']\n",
      "queries-gather 208207 ['0.61 GFLOPS', '1700826347']\n",
      "queries-gather 243603 ['0.54 GFLOPS', '-765371303']\n",
      "queries-gather 285015 ['0.56 GFLOPS', '901095233']\n",
      "queries-gather 333468 ['0.50 GFLOPS', '-898456066']\n",
      "queries-gather 390158 ['0.52 GFLOPS', '2033993357']\n",
      "queries-gather 456485 ['0.46 GFLOPS', '318904461']\n",
      "queries-gather 534087 ['0.42 GFLOPS', '-790555837']\n",
      "queries-gather 624882 ['0.32 GFLOPS', '-379205412']\n",
      "queries-gather 731112 ['0.26 GFLOPS', '729792320']\n",
      "queries-gather 855401 ['0.23 GFLOPS', '2075252721']\n",
      "queries-gather 1000819 ['0.21 GFLOPS', '-708833160']\n",
      "queries-gather 1170959 ['0.19 GFLOPS', '-523866283']\n",
      "queries-gather 1370022 ['0.18 GFLOPS', '1603694614']\n",
      "queries-gather 1602925 ['0.16 GFLOPS', '212338941']\n",
      "queries-gather 1875423 ['0.17 GFLOPS', '1189702830']\n",
      "queries-gather 2194245 ['0.16 GFLOPS', '-585460655']\n",
      "queries-gather 2567266 ['0.15 GFLOPS', '25043566']\n",
      "queries-gather 3003702 ['0.14 GFLOPS', '1362299631']\n",
      "queries-gather 3514331 ['0.12 GFLOPS', '-1552289661']\n",
      "queries-gather 4111767 ['0.13 GFLOPS', '523894579']\n",
      "queries-gather 4810768 ['0.13 GFLOPS', '-1820044779']\n",
      "queries-gather 5628599 ['0.11 GFLOPS', '-391139311']\n"
     ]
    }
   ],
   "source": [
    "queries_gather = [bench('queries-gather', n=n) for n in ns]"
   ]
  },
  {
   "cell_type": "code",
   "execution_count": 126,
   "metadata": {},
   "outputs": [
    {
     "data": {
      "image/png": "[encoded data removed]",
      "text/plain": [
       "<Figure size 640x480 with 1 Axes>"
      ]
     },
     "metadata": {},
     "output_type": "display_data"
    }
   ],
   "source": [
    "plt.plot(ns, queries_simple, color='darkred', label='scalar')\n",
    "plt.plot(ns, queries_gather, color='darkblue', label='gather (avx2)')\n",
    "plot('Non-blocked reads', 'Reads per second ($10^9$)', 'gather.svg', 0.35, legend=True)"
   ]
  },
  {
   "cell_type": "code",
   "execution_count": 129,
   "metadata": {},
   "outputs": [
    {
     "name": "stdout",
     "output_type": "stream",
     "text": [
      "filter-simple 4096 ['1.55 GFLOPS', '0 0']\n",
      "filter-simple 4096 ['1.30 GFLOPS', '42 0']\n",
      "filter-simple 4096 ['1.16 GFLOPS', '76 80']\n",
      "filter-simple 4096 ['1.17 GFLOPS', '119 69']\n",
      "filter-simple 4096 ['1.21 GFLOPS', '157 94']\n",
      "filter-simple 4096 ['1.24 GFLOPS', '205 850']\n",
      "filter-simple 4096 ['1.23 GFLOPS', '246 179']\n",
      "filter-simple 4096 ['1.21 GFLOPS', '278 1849']\n",
      "filter-simple 4096 ['1.19 GFLOPS', '318 124']\n",
      "filter-simple 4096 ['1.18 GFLOPS', '361 457']\n",
      "filter-simple 4096 ['1.18 GFLOPS', '396 3584']\n",
      "filter-simple 4096 ['1.16 GFLOPS', '434 5228']\n",
      "filter-simple 4096 ['1.13 GFLOPS', '475 1461']\n",
      "filter-simple 4096 ['1.12 GFLOPS', '509 2701']\n",
      "filter-simple 4096 ['1.11 GFLOPS', '544 1696']\n",
      "filter-simple 4096 ['1.09 GFLOPS', '582 2105']\n",
      "filter-simple 4096 ['1.07 GFLOPS', '619 11048']\n",
      "filter-simple 4096 ['1.06 GFLOPS', '656 5333']\n",
      "filter-simple 4096 ['1.04 GFLOPS', '700 7584']\n",
      "filter-simple 4096 ['1.02 GFLOPS', '744 4977']\n",
      "filter-simple 4096 ['1.01 GFLOPS', '774 10996']\n",
      "filter-simple 4096 ['0.94 GFLOPS', '810 2172']\n",
      "filter-simple 4096 ['0.97 GFLOPS', '851 17362']\n",
      "filter-simple 4096 ['0.98 GFLOPS', '884 14306']\n",
      "filter-simple 4096 ['0.97 GFLOPS', '925 26460']\n",
      "filter-simple 4096 ['0.93 GFLOPS', '968 31291']\n",
      "filter-simple 4096 ['0.92 GFLOPS', '1016 21677']\n",
      "filter-simple 4096 ['0.90 GFLOPS', '1068 31978']\n",
      "filter-simple 4096 ['0.89 GFLOPS', '1104 8802']\n",
      "filter-simple 4096 ['0.87 GFLOPS', '1161 13077']\n",
      "filter-simple 4096 ['0.85 GFLOPS', '1211 63770']\n",
      "filter-simple 4096 ['0.84 GFLOPS', '1252 60093']\n",
      "filter-simple 4096 ['0.81 GFLOPS', '1286 26476']\n",
      "filter-simple 4096 ['0.82 GFLOPS', '1326 44838']\n",
      "filter-simple 4096 ['0.81 GFLOPS', '1365 28803']\n",
      "filter-simple 4096 ['0.79 GFLOPS', '1406 11930']\n",
      "filter-simple 4096 ['0.79 GFLOPS', '1452 19228']\n",
      "filter-simple 4096 ['0.78 GFLOPS', '1490 50629']\n",
      "filter-simple 4096 ['0.77 GFLOPS', '1533 10066']\n",
      "filter-simple 4096 ['0.70 GFLOPS', '1580 18181']\n",
      "filter-simple 4096 ['0.74 GFLOPS', '1630 21486']\n",
      "filter-simple 4096 ['0.73 GFLOPS', '1675 12594']\n",
      "filter-simple 4096 ['0.73 GFLOPS', '1711 76503']\n",
      "filter-simple 4096 ['0.73 GFLOPS', '1760 56781']\n",
      "filter-simple 4096 ['0.71 GFLOPS', '1798 128181']\n",
      "filter-simple 4096 ['0.71 GFLOPS', '1832 34181']\n",
      "filter-simple 4096 ['0.71 GFLOPS', '1856 123152']\n",
      "filter-simple 4096 ['0.70 GFLOPS', '1900 30360']\n",
      "filter-simple 4096 ['0.70 GFLOPS', '1945 81008']\n",
      "filter-simple 4096 ['0.70 GFLOPS', '1976 100547']\n",
      "filter-simple 4096 ['0.68 GFLOPS', '2018 127423']\n",
      "filter-simple 4096 ['0.73 GFLOPS', '2068 85129']\n",
      "filter-simple 4096 ['0.72 GFLOPS', '2117 17738']\n",
      "filter-simple 4096 ['0.73 GFLOPS', '2152 25691']\n",
      "filter-simple 4096 ['0.72 GFLOPS', '2193 1493']\n",
      "filter-simple 4096 ['0.74 GFLOPS', '2242 59930']\n",
      "filter-simple 4096 ['0.73 GFLOPS', '2286 32077']\n",
      "filter-simple 4096 ['0.75 GFLOPS', '2327 9980']\n",
      "filter-simple 4096 ['0.75 GFLOPS', '2380 156954']\n",
      "filter-simple 4096 ['0.76 GFLOPS', '2431 239978']\n",
      "filter-simple 4096 ['0.76 GFLOPS', '2472 128301']\n",
      "filter-simple 4096 ['0.78 GFLOPS', '2518 39358']\n",
      "filter-simple 4096 ['0.80 GFLOPS', '2558 34559']\n",
      "filter-simple 4096 ['0.76 GFLOPS', '2595 151927']\n",
      "filter-simple 4096 ['0.81 GFLOPS', '2640 87584']\n",
      "filter-simple 4096 ['0.83 GFLOPS', '2676 130730']\n",
      "filter-simple 4096 ['0.82 GFLOPS', '2707 192906']\n",
      "filter-simple 4096 ['0.84 GFLOPS', '2745 162806']\n",
      "filter-simple 4096 ['0.85 GFLOPS', '2786 38349']\n",
      "filter-simple 4096 ['0.86 GFLOPS', '2820 40645']\n",
      "filter-simple 4096 ['0.88 GFLOPS', '2876 18074']\n",
      "filter-simple 4096 ['0.90 GFLOPS', '2919 48272']\n",
      "filter-simple 4096 ['0.90 GFLOPS', '2957 118632']\n",
      "filter-simple 4096 ['0.92 GFLOPS', '3006 174164']\n",
      "filter-simple 4096 ['0.94 GFLOPS', '3039 101052']\n",
      "filter-simple 4096 ['0.89 GFLOPS', '3070 145667']\n",
      "filter-simple 4096 ['0.98 GFLOPS', '3106 255116']\n",
      "filter-simple 4096 ['0.99 GFLOPS', '3147 132392']\n",
      "filter-simple 4096 ['0.94 GFLOPS', '3187 158091']\n",
      "filter-simple 4096 ['1.01 GFLOPS', '3211 60967']\n",
      "filter-simple 4096 ['1.02 GFLOPS', '3247 84823']\n",
      "filter-simple 4096 ['1.05 GFLOPS', '3285 254857']\n",
      "filter-simple 4096 ['1.08 GFLOPS', '3330 519010']\n",
      "filter-simple 4096 ['1.11 GFLOPS', '3374 495303']\n",
      "filter-simple 4096 ['1.10 GFLOPS', '3420 327910']\n",
      "filter-simple 4096 ['1.17 GFLOPS', '3458 373130']\n",
      "filter-simple 4096 ['1.19 GFLOPS', '3485 469578']\n",
      "filter-simple 4096 ['1.21 GFLOPS', '3540 457061']\n",
      "filter-simple 4096 ['1.25 GFLOPS', '3584 376189']\n",
      "filter-simple 4096 ['1.29 GFLOPS', '3621 479136']\n",
      "filter-simple 4096 ['1.33 GFLOPS', '3665 261941']\n",
      "filter-simple 4096 ['1.37 GFLOPS', '3727 509982']\n",
      "filter-simple 4096 ['1.44 GFLOPS', '3760 16628']\n",
      "filter-simple 4096 ['1.47 GFLOPS', '3805 300474']\n",
      "filter-simple 4096 ['1.49 GFLOPS', '3846 18752']\n",
      "filter-simple 4096 ['1.52 GFLOPS', '3886 401623']\n",
      "filter-simple 4096 ['1.51 GFLOPS', '3924 59229']\n",
      "filter-simple 4096 ['1.51 GFLOPS', '3976 368767']\n",
      "filter-simple 4096 ['1.54 GFLOPS', '4018 40697']\n",
      "filter-simple 4096 ['1.53 GFLOPS', '4054 514280']\n",
      "filter-simple 4096 ['1.34 GFLOPS', '4096 94169']\n",
      "filter-simple 4096 ['1.55 GFLOPS', '0 0']\n",
      "filter-simple 4096 ['1.30 GFLOPS', '42 0']\n",
      "filter-simple 4096 ['1.15 GFLOPS', '76 80']\n",
      "filter-simple 4096 ['1.17 GFLOPS', '119 69']\n",
      "filter-simple 4096 ['1.22 GFLOPS', '157 94']\n",
      "filter-simple 4096 ['1.24 GFLOPS', '205 850']\n",
      "^C\n",
      "filter-simple 4096 []\n"
     ]
    },
    {
     "ename": "IndexError",
     "evalue": "list index out of range",
     "output_type": "error",
     "traceback": [
      "\u001b[0;31m---------------------------------------------------------------------------\u001b[0m",
      "\u001b[0;31mIndexError\u001b[0m                                Traceback (most recent call last)",
      "\u001b[0;32m<ipython-input-129-8f9cf0837cde>\u001b[0m in \u001b[0;36m<module>\u001b[0;34m\u001b[0m\n\u001b[1;32m      1\u001b[0m \u001b[0mps\u001b[0m \u001b[0;34m=\u001b[0m \u001b[0mlist\u001b[0m\u001b[0;34m(\u001b[0m\u001b[0mrange\u001b[0m\u001b[0;34m(\u001b[0m\u001b[0;36m101\u001b[0m\u001b[0;34m)\u001b[0m\u001b[0;34m)\u001b[0m\u001b[0;34m\u001b[0m\u001b[0;34m\u001b[0m\u001b[0m\n\u001b[1;32m      2\u001b[0m \u001b[0mfilter_simple\u001b[0m \u001b[0;34m=\u001b[0m \u001b[0;34m[\u001b[0m\u001b[0mbench\u001b[0m\u001b[0;34m(\u001b[0m\u001b[0;34m'filter-simple'\u001b[0m\u001b[0;34m,\u001b[0m \u001b[0mn\u001b[0m\u001b[0;34m=\u001b[0m\u001b[0;36m2\u001b[0m\u001b[0;34m**\u001b[0m\u001b[0;36m12\u001b[0m\u001b[0;34m,\u001b[0m \u001b[0mp\u001b[0m\u001b[0;34m=\u001b[0m\u001b[0mp\u001b[0m\u001b[0;34m)\u001b[0m \u001b[0;32mfor\u001b[0m \u001b[0mp\u001b[0m \u001b[0;32min\u001b[0m \u001b[0mps\u001b[0m\u001b[0;34m]\u001b[0m\u001b[0;34m\u001b[0m\u001b[0;34m\u001b[0m\u001b[0m\n\u001b[0;32m----> 3\u001b[0;31m \u001b[0mfilter_simd\u001b[0m \u001b[0;34m=\u001b[0m \u001b[0;34m[\u001b[0m\u001b[0mbench\u001b[0m\u001b[0;34m(\u001b[0m\u001b[0;34m'filter-simple'\u001b[0m\u001b[0;34m,\u001b[0m \u001b[0mn\u001b[0m\u001b[0;34m=\u001b[0m\u001b[0;36m2\u001b[0m\u001b[0;34m**\u001b[0m\u001b[0;36m12\u001b[0m\u001b[0;34m,\u001b[0m \u001b[0mp\u001b[0m\u001b[0;34m=\u001b[0m\u001b[0mp\u001b[0m\u001b[0;34m)\u001b[0m \u001b[0;32mfor\u001b[0m \u001b[0mp\u001b[0m \u001b[0;32min\u001b[0m \u001b[0mps\u001b[0m\u001b[0;34m]\u001b[0m\u001b[0;34m\u001b[0m\u001b[0;34m\u001b[0m\u001b[0m\n\u001b[0m",
      "\u001b[0;32m<ipython-input-129-8f9cf0837cde>\u001b[0m in \u001b[0;36m<listcomp>\u001b[0;34m(.0)\u001b[0m\n\u001b[1;32m      1\u001b[0m \u001b[0mps\u001b[0m \u001b[0;34m=\u001b[0m \u001b[0mlist\u001b[0m\u001b[0;34m(\u001b[0m\u001b[0mrange\u001b[0m\u001b[0;34m(\u001b[0m\u001b[0;36m101\u001b[0m\u001b[0;34m)\u001b[0m\u001b[0;34m)\u001b[0m\u001b[0;34m\u001b[0m\u001b[0;34m\u001b[0m\u001b[0m\n\u001b[1;32m      2\u001b[0m \u001b[0mfilter_simple\u001b[0m \u001b[0;34m=\u001b[0m \u001b[0;34m[\u001b[0m\u001b[0mbench\u001b[0m\u001b[0;34m(\u001b[0m\u001b[0;34m'filter-simple'\u001b[0m\u001b[0;34m,\u001b[0m \u001b[0mn\u001b[0m\u001b[0;34m=\u001b[0m\u001b[0;36m2\u001b[0m\u001b[0;34m**\u001b[0m\u001b[0;36m12\u001b[0m\u001b[0;34m,\u001b[0m \u001b[0mp\u001b[0m\u001b[0;34m=\u001b[0m\u001b[0mp\u001b[0m\u001b[0;34m)\u001b[0m \u001b[0;32mfor\u001b[0m \u001b[0mp\u001b[0m \u001b[0;32min\u001b[0m \u001b[0mps\u001b[0m\u001b[0;34m]\u001b[0m\u001b[0;34m\u001b[0m\u001b[0;34m\u001b[0m\u001b[0m\n\u001b[0;32m----> 3\u001b[0;31m \u001b[0mfilter_simd\u001b[0m \u001b[0;34m=\u001b[0m \u001b[0;34m[\u001b[0m\u001b[0mbench\u001b[0m\u001b[0;34m(\u001b[0m\u001b[0;34m'filter-simple'\u001b[0m\u001b[0;34m,\u001b[0m \u001b[0mn\u001b[0m\u001b[0;34m=\u001b[0m\u001b[0;36m2\u001b[0m\u001b[0;34m**\u001b[0m\u001b[0;36m12\u001b[0m\u001b[0;34m,\u001b[0m \u001b[0mp\u001b[0m\u001b[0;34m=\u001b[0m\u001b[0mp\u001b[0m\u001b[0;34m)\u001b[0m \u001b[0;32mfor\u001b[0m \u001b[0mp\u001b[0m \u001b[0;32min\u001b[0m \u001b[0mps\u001b[0m\u001b[0;34m]\u001b[0m\u001b[0;34m\u001b[0m\u001b[0;34m\u001b[0m\u001b[0m\n\u001b[0m",
      "\u001b[0;32m<ipython-input-128-a6ecc78ff773>\u001b[0m in \u001b[0;36mbench\u001b[0;34m(source, n, p, cc)\u001b[0m\n\u001b[1;32m      2\u001b[0m     \u001b[0mres\u001b[0m \u001b[0;34m=\u001b[0m \u001b[0mget_ipython\u001b[0m\u001b[0;34m(\u001b[0m\u001b[0;34m)\u001b[0m\u001b[0;34m.\u001b[0m\u001b[0mgetoutput\u001b[0m\u001b[0;34m(\u001b[0m\u001b[0;34m'{cc} -std=c++17 -O3 -funroll-loops -march=native -D N={n} -D P={p} {source}.cc -o run && ./run'\u001b[0m\u001b[0;34m)\u001b[0m\u001b[0;34m\u001b[0m\u001b[0;34m\u001b[0m\u001b[0m\n\u001b[1;32m      3\u001b[0m     \u001b[0mprint\u001b[0m\u001b[0;34m(\u001b[0m\u001b[0msource\u001b[0m\u001b[0;34m,\u001b[0m \u001b[0mn\u001b[0m\u001b[0;34m,\u001b[0m \u001b[0mres\u001b[0m\u001b[0;34m)\u001b[0m\u001b[0;34m\u001b[0m\u001b[0;34m\u001b[0m\u001b[0m\n\u001b[0;32m----> 4\u001b[0;31m     \u001b[0;32mreturn\u001b[0m \u001b[0mfloat\u001b[0m\u001b[0;34m(\u001b[0m\u001b[0mres\u001b[0m\u001b[0;34m[\u001b[0m\u001b[0;36m0\u001b[0m\u001b[0;34m]\u001b[0m\u001b[0;34m.\u001b[0m\u001b[0msplit\u001b[0m\u001b[0;34m(\u001b[0m\u001b[0;34m)\u001b[0m\u001b[0;34m[\u001b[0m\u001b[0;36m0\u001b[0m\u001b[0;34m]\u001b[0m\u001b[0;34m)\u001b[0m\u001b[0;34m\u001b[0m\u001b[0;34m\u001b[0m\u001b[0m\n\u001b[0m\u001b[1;32m      5\u001b[0m \u001b[0;34m\u001b[0m\u001b[0m\n\u001b[1;32m      6\u001b[0m \u001b[0mns\u001b[0m \u001b[0;34m=\u001b[0m \u001b[0mlist\u001b[0m\u001b[0;34m(\u001b[0m\u001b[0mint\u001b[0m\u001b[0;34m(\u001b[0m\u001b[0;36m1.17\u001b[0m\u001b[0;34m**\u001b[0m\u001b[0mk\u001b[0m\u001b[0;34m)\u001b[0m \u001b[0;32mfor\u001b[0m \u001b[0mk\u001b[0m \u001b[0;32min\u001b[0m \u001b[0mrange\u001b[0m\u001b[0;34m(\u001b[0m\u001b[0;36m50\u001b[0m\u001b[0;34m,\u001b[0m \u001b[0;36m100\u001b[0m\u001b[0;34m)\u001b[0m\u001b[0;34m)\u001b[0m\u001b[0;34m\u001b[0m\u001b[0;34m\u001b[0m\u001b[0m\n",
      "\u001b[0;31mIndexError\u001b[0m: list index out of range"
     ]
    }
   ],
   "source": [
    "ps = list(range(101))\n",
    "filter_simple = [bench('filter-simple', n=2**12, p=p) for p in ps]"
   ]
  },
  {
   "cell_type": "code",
   "execution_count": 131,
   "metadata": {},
   "outputs": [
    {
     "name": "stdout",
     "output_type": "stream",
     "text": [
      "filter-simd 4096 ['4.31 GFLOPS', '0 0']\n",
      "filter-simd 4096 ['4.26 GFLOPS', '42 0']\n",
      "filter-simd 4096 ['4.27 GFLOPS', '76 80']\n",
      "filter-simd 4096 ['4.27 GFLOPS', '119 69']\n",
      "filter-simd 4096 ['4.27 GFLOPS', '157 94']\n",
      "filter-simd 4096 ['4.26 GFLOPS', '205 850']\n",
      "filter-simd 4096 ['4.27 GFLOPS', '246 179']\n",
      "filter-simd 4096 ['4.26 GFLOPS', '278 1849']\n",
      "filter-simd 4096 ['4.26 GFLOPS', '318 124']\n",
      "filter-simd 4096 ['4.28 GFLOPS', '361 457']\n",
      "filter-simd 4096 ['4.26 GFLOPS', '396 3584']\n",
      "filter-simd 4096 ['4.24 GFLOPS', '434 5228']\n",
      "filter-simd 4096 ['4.27 GFLOPS', '475 1461']\n",
      "filter-simd 4096 ['4.25 GFLOPS', '509 2701']\n",
      "filter-simd 4096 ['4.26 GFLOPS', '544 1696']\n",
      "filter-simd 4096 ['4.27 GFLOPS', '582 2105']\n",
      "filter-simd 4096 ['4.27 GFLOPS', '619 11048']\n",
      "filter-simd 4096 ['4.20 GFLOPS', '656 5333']\n",
      "filter-simd 4096 ['4.26 GFLOPS', '700 7584']\n",
      "filter-simd 4096 ['4.26 GFLOPS', '744 4977']\n",
      "filter-simd 4096 ['4.27 GFLOPS', '774 10996']\n",
      "filter-simd 4096 ['4.26 GFLOPS', '810 2172']\n",
      "filter-simd 4096 ['4.27 GFLOPS', '851 17362']\n",
      "filter-simd 4096 ['4.25 GFLOPS', '884 14306']\n",
      "filter-simd 4096 ['4.27 GFLOPS', '925 26460']\n",
      "filter-simd 4096 ['4.28 GFLOPS', '968 31291']\n",
      "filter-simd 4096 ['4.21 GFLOPS', '1016 21677']\n",
      "filter-simd 4096 ['4.23 GFLOPS', '1068 31978']\n",
      "filter-simd 4096 ['4.21 GFLOPS', '1104 8802']\n",
      "filter-simd 4096 ['4.25 GFLOPS', '1161 13077']\n",
      "filter-simd 4096 ['4.18 GFLOPS', '1211 63770']\n",
      "filter-simd 4096 ['4.19 GFLOPS', '1252 60093']\n",
      "filter-simd 4096 ['4.21 GFLOPS', '1286 26476']\n",
      "filter-simd 4096 ['4.24 GFLOPS', '1326 44838']\n",
      "filter-simd 4096 ['4.13 GFLOPS', '1365 28803']\n",
      "filter-simd 4096 ['3.99 GFLOPS', '1406 11930']\n",
      "filter-simd 4096 ['4.27 GFLOPS', '1452 19228']\n",
      "filter-simd 4096 ['4.22 GFLOPS', '1490 50629']\n",
      "filter-simd 4096 ['4.24 GFLOPS', '1533 10066']\n",
      "filter-simd 4096 ['4.26 GFLOPS', '1580 18181']\n",
      "filter-simd 4096 ['4.27 GFLOPS', '1630 21486']\n",
      "filter-simd 4096 ['4.24 GFLOPS', '1675 12594']\n",
      "filter-simd 4096 ['4.24 GFLOPS', '1711 76503']\n",
      "filter-simd 4096 ['4.04 GFLOPS', '1760 56781']\n",
      "filter-simd 4096 ['4.26 GFLOPS', '1798 128181']\n",
      "filter-simd 4096 ['4.22 GFLOPS', '1832 34181']\n",
      "filter-simd 4096 ['4.23 GFLOPS', '1856 123152']\n",
      "filter-simd 4096 ['4.17 GFLOPS', '1900 30360']\n",
      "filter-simd 4096 ['4.24 GFLOPS', '1945 81008']\n",
      "filter-simd 4096 ['4.24 GFLOPS', '1976 100547']\n",
      "filter-simd 4096 ['4.30 GFLOPS', '2018 127423']\n",
      "filter-simd 4096 ['4.11 GFLOPS', '2068 85129']\n",
      "filter-simd 4096 ['4.22 GFLOPS', '2117 17738']\n",
      "filter-simd 4096 ['4.20 GFLOPS', '2152 25691']\n",
      "filter-simd 4096 ['4.26 GFLOPS', '2193 1493']\n",
      "filter-simd 4096 ['4.19 GFLOPS', '2242 59930']\n",
      "filter-simd 4096 ['4.22 GFLOPS', '2286 32077']\n",
      "filter-simd 4096 ['4.24 GFLOPS', '2327 9980']\n",
      "filter-simd 4096 ['4.24 GFLOPS', '2380 156954']\n",
      "filter-simd 4096 ['4.23 GFLOPS', '2431 239978']\n",
      "filter-simd 4096 ['4.00 GFLOPS', '2472 128301']\n",
      "filter-simd 4096 ['4.22 GFLOPS', '2518 39358']\n",
      "filter-simd 4096 ['4.21 GFLOPS', '2558 34559']\n",
      "filter-simd 4096 ['4.23 GFLOPS', '2595 151927']\n",
      "filter-simd 4096 ['4.24 GFLOPS', '2640 87584']\n",
      "filter-simd 4096 ['4.24 GFLOPS', '2676 130730']\n",
      "filter-simd 4096 ['4.21 GFLOPS', '2707 192906']\n",
      "filter-simd 4096 ['4.23 GFLOPS', '2745 162806']\n",
      "filter-simd 4096 ['4.21 GFLOPS', '2786 38349']\n",
      "filter-simd 4096 ['4.13 GFLOPS', '2820 40645']\n",
      "filter-simd 4096 ['4.17 GFLOPS', '2876 18074']\n",
      "filter-simd 4096 ['4.16 GFLOPS', '2919 48272']\n",
      "filter-simd 4096 ['4.23 GFLOPS', '2957 118632']\n",
      "filter-simd 4096 ['4.21 GFLOPS', '3006 174164']\n",
      "filter-simd 4096 ['4.21 GFLOPS', '3039 101052']\n",
      "filter-simd 4096 ['4.16 GFLOPS', '3070 145667']\n",
      "filter-simd 4096 ['4.19 GFLOPS', '3106 255116']\n",
      "filter-simd 4096 ['4.22 GFLOPS', '3147 132392']\n",
      "filter-simd 4096 ['4.24 GFLOPS', '3187 158091']\n",
      "filter-simd 4096 ['4.19 GFLOPS', '3211 60967']\n",
      "filter-simd 4096 ['4.24 GFLOPS', '3247 84823']\n",
      "filter-simd 4096 ['4.22 GFLOPS', '3285 254857']\n",
      "filter-simd 4096 ['4.22 GFLOPS', '3330 519010']\n",
      "filter-simd 4096 ['4.23 GFLOPS', '3374 495303']\n",
      "filter-simd 4096 ['4.22 GFLOPS', '3420 327910']\n",
      "filter-simd 4096 ['4.03 GFLOPS', '3458 373130']\n",
      "filter-simd 4096 ['4.22 GFLOPS', '3485 469578']\n",
      "filter-simd 4096 ['4.09 GFLOPS', '3540 457061']\n",
      "filter-simd 4096 ['4.24 GFLOPS', '3584 376189']\n",
      "filter-simd 4096 ['4.24 GFLOPS', '3621 479136']\n",
      "filter-simd 4096 ['4.25 GFLOPS', '3665 261941']\n",
      "filter-simd 4096 ['4.26 GFLOPS', '3727 509982']\n",
      "filter-simd 4096 ['4.05 GFLOPS', '3760 16628']\n",
      "filter-simd 4096 ['4.04 GFLOPS', '3805 300474']\n",
      "filter-simd 4096 ['4.25 GFLOPS', '3846 18752']\n",
      "filter-simd 4096 ['4.27 GFLOPS', '3886 401623']\n",
      "filter-simd 4096 ['4.26 GFLOPS', '3924 59229']\n",
      "filter-simd 4096 ['4.24 GFLOPS', '3976 368767']\n",
      "filter-simd 4096 ['4.05 GFLOPS', '4018 40697']\n",
      "filter-simd 4096 ['4.30 GFLOPS', '4054 514280']\n",
      "filter-simd 4096 ['4.30 GFLOPS', '4096 94169']\n"
     ]
    }
   ],
   "source": [
    "filter_simd = [bench('filter-simd', n=2**12, p=p) for p in ps]"
   ]
  },
  {
   "cell_type": "code",
   "execution_count": null,
   "metadata": {},
   "outputs": [],
   "source": [
    "import pickle\n",
    "\n",
    "with open('data.pkl', 'wb') as f:\n",
    "    pickle.dump([queries_simple, queries_gather, filter_simple, filter_simd], f)"
   ]
  },
  {
   "cell_type": "code",
   "execution_count": null,
   "metadata": {},
   "outputs": [],
   "source": [
    "plt.plot(ns, filter_simple, color='darkred', label='scalar')\n",
    "plt.plot(ns, filter_simd, color='darkblue', label='SIMD')\n",
    "plot('Filtering with SIMD', 'Processed elements per second ($10^9$)', 'filter.svg', 6.2, legend=True, xlabel='Predicate probability')"
   ]
  }
 ],
 "metadata": {
  "interpreter": {
   "hash": "e7370f93d1d0cde622a1f8e1c04877d8463912d04d973331ad4851f04de6915a"
  },
  "kernelspec": {
   "display_name": "Python 3.8.10 64-bit",
   "language": "python",
   "name": "python3"
  },
  "language_info": {
   "codemirror_mode": {
    "name": "ipython",
    "version": 3
   },
   "file_extension": ".py",
   "mimetype": "text/x-python",
   "name": "python",
   "nbconvert_exporter": "python",
   "pygments_lexer": "ipython3",
   "version": "3.8.10"
  },
  "orig_nbformat": 4
 },
 "nbformat": 4,
 "nbformat_minor": 2
}
