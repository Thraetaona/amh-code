{
 "cells": [
  {
   "cell_type": "code",
   "execution_count": 1,
   "metadata": {},
   "outputs": [],
   "source": [
    "import matplotlib.pyplot as plt\n",
    "import seaborn as sns\n",
    "\n",
    "sns.reset_defaults()\n",
    "sns.set_theme(style='whitegrid')"
   ]
  },
  {
   "cell_type": "code",
   "execution_count": 33,
   "metadata": {},
   "outputs": [],
   "source": [
    "def bench(source, n=2**20, cc='g++'):\n",
    "    res = !{cc} -std=c++17 -O3 -funroll-loops -march=native -D N={n} {source}.cc -o run && ./run\n",
    "    print(source, n, res)\n",
    "    return float(res[0].split()[0])\n",
    "\n",
    "ns = list(int(1.17**k) for k in range(50, 100))"
   ]
  },
  {
   "cell_type": "code",
   "execution_count": 42,
   "metadata": {},
   "outputs": [
    {
     "name": "stdout",
     "output_type": "stream",
     "text": [
      "blend-autovec 4096 ['12.98 GFLOPS', '1508481368']\n"
     ]
    },
    {
     "data": {
      "text/plain": [
       "12.98"
      ]
     },
     "execution_count": 42,
     "metadata": {},
     "output_type": "execute_result"
    }
   ],
   "source": [
    "bench('blend-autovec', n=2**12)"
   ]
  },
  {
   "cell_type": "code",
   "execution_count": 23,
   "metadata": {},
   "outputs": [
    {
     "name": "stdout",
     "output_type": "stream",
     "text": [
      "blend-simd 4096 ['8.95 GFLOPS', '1508481368']\n"
     ]
    },
    {
     "data": {
      "text/plain": [
       "8.95"
      ]
     },
     "execution_count": 23,
     "metadata": {},
     "output_type": "execute_result"
    }
   ],
   "source": [
    "bench('blend-simd', n=2**12)"
   ]
  },
  {
   "cell_type": "code",
   "execution_count": 41,
   "metadata": {},
   "outputs": [
    {
     "name": "stdout",
     "output_type": "stream",
     "text": [
      "blend-simd-and 4096 ['12.35 GFLOPS', '1404258952']\n"
     ]
    },
    {
     "data": {
      "text/plain": [
       "12.35"
      ]
     },
     "execution_count": 41,
     "metadata": {},
     "output_type": "execute_result"
    }
   ],
   "source": [
    "bench('blend-simd-and', n=2**12)"
   ]
  },
  {
   "cell_type": "code",
   "execution_count": 32,
   "metadata": {},
   "outputs": [
    {
     "name": "stdout",
     "output_type": "stream",
     "text": [
      "blend-extensions 4096 ['13.21 GFLOPS', '1508481368']\n"
     ]
    },
    {
     "data": {
      "text/plain": [
       "13.21"
      ]
     },
     "execution_count": 32,
     "metadata": {},
     "output_type": "execute_result"
    }
   ],
   "source": [
    "bench('blend-extensions', n=2**12)"
   ]
  },
  {
   "cell_type": "markdown",
   "metadata": {},
   "source": [
    "No idea why it doesn't vectorize optimally."
   ]
  },
  {
   "cell_type": "code",
   "execution_count": null,
   "metadata": {},
   "outputs": [],
   "source": [
    "def plot(title=None, ylabel=None, path=None, ch=None, legend=False, ylim=None, xlabel='Array size', loc='best'):\n",
    "    if ch:\n",
    "        lines = [\n",
    "            (2**13, \"32K\"),\n",
    "            (2**17, \"512K\"),\n",
    "            (2**20, \"4M\"),\n",
    "        ]\n",
    "\n",
    "        for x, t in lines:\n",
    "            plt.text(x * 1.2, ch, t)\n",
    "            plt.axvline(x=x, color='black', linestyle='--')\n",
    "\n",
    "    plt.xscale('log', basex=2)\n",
    "    plt.xlabel(xlabel)\n",
    "\n",
    "    if ylabel:\n",
    "        plt.ylabel(ylabel)\n",
    "\n",
    "    if title:\n",
    "        plt.title(title, pad=12)\n",
    "\n",
    "    if legend:\n",
    "        plt.legend(loc=loc)\n",
    "\n",
    "    plt.ylim(bottom=0, top=ylim)\n",
    "    plt.margins(0)\n",
    "\n",
    "    if path:\n",
    "        fig = plt.gcf()\n",
    "        fig.savefig(path)\n",
    "    plt.show()\n",
    "\n",
    "\n",
    "plt.plot(ns, inc_res, color='darkred')\n",
    "plot('for (int i = 0; i < n; i++) a[i]++', 'Increments per second ($10^9$)', 'inc.svg', 4.7)"
   ]
  },
  {
   "cell_type": "code",
   "execution_count": null,
   "metadata": {},
   "outputs": [],
   "source": [
    "plt.plot(ns, inc_res, color='darkred', label='2GHz')\n",
    "plt.plot(ns, inc_res_boost, color='darkblue', label='4.1GHz')\n",
    "plot('for (int i = 0; i < n; i++) a[i]++', 'Increments per second ($10^9$)', 'boost.svg', 6.2, legend=True)"
   ]
  }
 ],
 "metadata": {
  "interpreter": {
   "hash": "e7370f93d1d0cde622a1f8e1c04877d8463912d04d973331ad4851f04de6915a"
  },
  "kernelspec": {
   "display_name": "Python 3.8.10 64-bit",
   "language": "python",
   "name": "python3"
  },
  "language_info": {
   "codemirror_mode": {
    "name": "ipython",
    "version": 3
   },
   "file_extension": ".py",
   "mimetype": "text/x-python",
   "name": "python",
   "nbconvert_exporter": "python",
   "pygments_lexer": "ipython3",
   "version": "3.8.10"
  },
  "orig_nbformat": 4
 },
 "nbformat": 4,
 "nbformat_minor": 2
}
