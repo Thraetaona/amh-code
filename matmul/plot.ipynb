{
 "metadata": {
  "language_info": {
   "codemirror_mode": {
    "name": "ipython",
    "version": 3
   },
   "file_extension": ".py",
   "mimetype": "text/x-python",
   "name": "python",
   "nbconvert_exporter": "python",
   "pygments_lexer": "ipython3",
   "version": "3.9.4"
  },
  "orig_nbformat": 2,
  "kernelspec": {
   "name": "python3",
   "display_name": "Python 3",
   "language": "python"
  }
 },
 "nbformat": 4,
 "nbformat_minor": 2,
 "cells": [
  {
   "cell_type": "code",
   "execution_count": 1,
   "metadata": {},
   "outputs": [],
   "source": [
    "import os\n",
    "os.environ[\"OMP_NUM_THREADS\"] = \"1\" # export OMP_NUM_THREADS=4\n",
    "os.environ[\"OPENBLAS_NUM_THREADS\"] = \"1\" # export OPENBLAS_NUM_THREADS=4 \n",
    "os.environ[\"MKL_NUM_THREADS\"] = \"1\" # export MKL_NUM_THREADS=6\n",
    "os.environ[\"VECLIB_MAXIMUM_THREADS\"] = \"1\" # export VECLIB_MAXIMUM_THREADS=4\n",
    "os.environ[\"NUMEXPR_NUM_THREADS\"] = \"1\" # export NUMEXPR_NUM_THREADS=6"
   ]
  },
  {
   "cell_type": "code",
   "execution_count": 2,
   "metadata": {},
   "outputs": [],
   "source": [
    "import glob\n",
    "import time\n",
    "import numpy as np\n",
    "\n",
    "import matplotlib.pyplot as plt\n",
    "import seaborn as sns\n",
    "sns.set()"
   ]
  },
  {
   "cell_type": "code",
   "execution_count": 23,
   "metadata": {},
   "outputs": [
    {
     "output_type": "stream",
     "name": "stdout",
     "text": [
      "[246.0337  249.78099 261.10062 ... 250.86981 254.89777 253.85388] [246.03369 249.78099 261.10065 ... 250.86981 254.89775 253.85387]\n",
      "[246.0337  249.78099 261.10062 ... 250.86981 254.89777 253.85388] [246.03369 249.78099 261.10065 ... 250.86981 254.89775 253.85387]\n",
      "[246.0337  249.78099 261.10062 ... 250.86981 254.89777 253.85388] [246.03369 249.78099 261.10065 ... 250.86981 254.89775 253.85387]\n",
      "[246.0337  249.78099 261.10062 ... 250.86981 254.89777 253.85388] [246.03369 249.78099 261.10065 ... 250.86981 254.89775 253.85387]\n",
      "[246.0337  249.78099 261.10062 ... 250.86981 254.89777 253.85388] [246.03369 249.78099 261.10065 ... 250.86981 254.89775 253.85387]\n",
      "[246.0337  249.78099 261.10062 ... 250.86981 254.89777 253.85388] [246.03369 249.78099 261.10065 ... 250.86981 254.89775 253.85387]\n",
      "[246.0337  249.78099 261.10062 ... 250.86981 254.89777 253.85388] [246.03369 249.78099 261.10065 ... 250.86981 254.89775 253.85387]\n",
      "[246.0337  249.78099 261.10062 ... 250.86981 254.89777 253.85388] [246.03369 249.78099 261.10065 ... 250.86981 254.89775 253.85387]\n",
      "[246.0337  249.78099 261.10062 ... 250.86981 254.89777 253.85388] [246.03369 249.78099 261.10065 ... 250.86981 254.89775 253.85387]\n",
      "[246.0337  249.78099 261.10062 ... 250.86981 254.89777 253.85388] [246.03369 249.78099 261.10065 ... 250.86981 254.89775 253.85387]\n",
      "[246.0337  249.78099 261.10062 ... 250.86981 254.89777 253.85388] [246.03369 249.78099 261.10065 ... 250.86981 254.89775 253.85387]\n",
      "[1024] 0.273625 x 11\n"
     ]
    },
    {
     "output_type": "execute_result",
     "data": {
      "text/plain": [
       "0.27362548221241345"
      ]
     },
     "metadata": {},
     "execution_count": 23
    }
   ],
   "source": [
    "from scipy.linalg import get_blas_funcs\n",
    "\n",
    "def blasmul(n, testing_duration=1):\n",
    "    a = np.random.rand(n, n).astype('float32')\n",
    "    b = np.random.rand(n, n).astype('float32')\n",
    "    start = time.time()\n",
    "    cnt = 0\n",
    "    while time.time() - start < testing_duration:\n",
    "        gemm = get_blas_funcs(\"gemm\", [a, b])\n",
    "        c = gemm(1, a, b)\n",
    "        print(c[0], np.dot(a, b)[0])\n",
    "        #print(np.all(c == np.dot(a, b)))\n",
    "        cnt += 1\n",
    "    duration = (time.time() - start) / cnt\n",
    "    print(f'[{n}] {duration:6f} x {cnt}')\n",
    "    return duration\n",
    "\n",
    "blasmul(1024, 3)"
   ]
  },
  {
   "cell_type": "code",
   "execution_count": 16,
   "metadata": {},
   "outputs": [
    {
     "output_type": "stream",
     "name": "stdout",
     "text": [
      "[1024] 0.000002 x 1721918\n"
     ]
    },
    {
     "output_type": "execute_result",
     "data": {
      "text/plain": [
       "1.7422450427032694e-06"
      ]
     },
     "metadata": {},
     "execution_count": 16
    }
   ],
   "source": [
    "import torch\n",
    "\n",
    "torch.set_num_threads(1)\n",
    "\n",
    "def torchmul(n, testing_duration=1):\n",
    "    a = torch.rand(n, n)\n",
    "    b = torch.rand(n, n)\n",
    "    start = time.time()\n",
    "    cnt = 0\n",
    "    while time.time() - start < testing_duration:\n",
    "        c = torch.mm(a, b)\n",
    "        cnt += 1\n",
    "    duration = (time.time() - start) / cnt\n",
    "    print(f'[{n}] {duration:6f} x {cnt}')\n",
    "    return duration\n",
    "\n",
    "torchmul(1024, 3)"
   ]
  },
  {
   "cell_type": "code",
   "execution_count": 11,
   "metadata": {},
   "outputs": [
    {
     "output_type": "stream",
     "name": "stdout",
     "text": [
      "float32\n",
      "[1024] 0.055771 x 54\n"
     ]
    },
    {
     "output_type": "execute_result",
     "data": {
      "text/plain": [
       "0.055770551716839825"
      ]
     },
     "metadata": {},
     "execution_count": 11
    }
   ],
   "source": [
    "def matmul(n, testing_duration=1):\n",
    "    a = np.random.rand(n, n).astype('float32')\n",
    "    b = np.random.rand(n, n).astype('float32')\n",
    "    start = time.time()\n",
    "    cnt = 0\n",
    "    while time.time() - start < testing_duration:\n",
    "        c = np.dot(a, b)\n",
    "        cnt += 1\n",
    "    duration = (time.time() - start) / cnt\n",
    "    print(f'[{n}] {duration:6f} x {cnt}')\n",
    "    return duration\n",
    "\n",
    "matmul(1024, 3)"
   ]
  },
  {
   "cell_type": "code",
   "execution_count": 15,
   "metadata": {},
   "outputs": [],
   "source": [
    "def run(binary, n, duration):\n",
    "    print(f\"running with n={n}... \", end=\"\")\n",
    "    result = !./$binary $n $duration\n",
    "    print(result[0])\n",
    "    return float(result[0].split()[0])\n",
    "\n",
    "def benchmark(source, ns, duration=1):\n",
    "    binary = source.split('.')[0] + '.benchmark'\n",
    "    print(f\"compiling {source}\")\n",
    "    !g++ -std=c++17 -O3 -ffast-math -funroll-loops -march=native -Wall benchmark.cc $source -o $binary\n",
    "    return [run(binary, n, duration) for n in ns]"
   ]
  },
  {
   "cell_type": "code",
   "execution_count": 6,
   "metadata": {},
   "outputs": [
    {
     "output_type": "stream",
     "name": "stdout",
     "text": [
      "compiling v4.cc\n",
      "running with n=128... 0.000171 x 5848\n",
      "running with n=256... 0.001384 x 723\n",
      "running with n=1024... 0.238639 x 5\n"
     ]
    },
    {
     "output_type": "execute_result",
     "data": {
      "text/plain": [
       "[0.000171, 0.001384, 0.238639]"
      ]
     },
     "metadata": {},
     "execution_count": 6
    }
   ],
   "source": [
    "benchmark(\"v4.cc\", [128, 256, 1024])"
   ]
  },
  {
   "cell_type": "code",
   "execution_count": 7,
   "metadata": {},
   "outputs": [
    {
     "output_type": "stream",
     "name": "stdout",
     "text": [
      "compiling v3.cc\n",
      "v3.cc:17:23: optimized: loop vectorized using 32 byte vectors\n",
      "running with n=128... 0.000504 x 1986\n",
      "running with n=256... 0.003988 x 251\n",
      "running with n=1024... 0.379358 x 3\n"
     ]
    },
    {
     "output_type": "execute_result",
     "data": {
      "text/plain": [
       "[0.000504, 0.003988, 0.379358]"
      ]
     },
     "metadata": {},
     "execution_count": 7
    }
   ],
   "source": [
    "benchmark(\"v3.cc\", [128, 256, 1024])"
   ]
  },
  {
   "cell_type": "code",
   "execution_count": 11,
   "metadata": {},
   "outputs": [
    {
     "output_type": "stream",
     "name": "stdout",
     "text": [
      "0.000053 x 18959\n",
      "0.000292 x 3421\n",
      "0.014097 x 71\n"
     ]
    },
    {
     "output_type": "execute_result",
     "data": {
      "text/plain": [
       "[5.2751610252548984e-05, 0.0002923565836407155, 0.014097371571500537]"
      ]
     },
     "metadata": {},
     "execution_count": 11
    }
   ],
   "source": [
    "[matmul(n) for n in [128, 256, 1024]]"
   ]
  },
  {
   "cell_type": "code",
   "execution_count": 36,
   "metadata": {},
   "outputs": [
    {
     "output_type": "stream",
     "name": "stdout",
     "text": [
      "[1000] 3.007641 x 2\n"
     ]
    }
   ],
   "source": [
    "n = 1000\n",
    "a = np.random.zeros(n, n).astype('int32')\n",
    "b = np.random.rand(n, n).astype('int32')\n",
    "start = time.time()\n",
    "cnt = 0\n",
    "while time.time() - start < 5:\n",
    "    c = np.dot(a, b)\n",
    "    cnt += 1\n",
    "duration = (time.time() - start) / cnt\n",
    "print(f'[{n}] {duration:6f} x {cnt}')"
   ]
  },
  {
   "cell_type": "code",
   "execution_count": 43,
   "metadata": {},
   "outputs": [
    {
     "output_type": "execute_result",
     "data": {
      "text/plain": [
       "array([3, 0])"
      ]
     },
     "metadata": {},
     "execution_count": 43
    }
   ],
   "source": [
    "np.random.randint()"
   ]
  },
  {
   "cell_type": "code",
   "execution_count": 37,
   "metadata": {},
   "outputs": [
    {
     "output_type": "stream",
     "name": "stdout",
     "text": [
      "[1000] 0.051945 x 97\n"
     ]
    },
    {
     "output_type": "execute_result",
     "data": {
      "text/plain": [
       "0.05194487768350188"
      ]
     },
     "metadata": {},
     "execution_count": 37
    }
   ],
   "source": [
    "matmul(1000, 5)"
   ]
  },
  {
   "cell_type": "code",
   "execution_count": 9,
   "metadata": {},
   "outputs": [
    {
     "output_type": "stream",
     "name": "stdout",
     "text": [
      "compiling v4.cc\n",
      "running with n=96... 0.000059 x 34140\n",
      "running with n=240... 0.001107 x 1807\n",
      "running with n=960... 0.148153 x 14\n",
      "running with n=2000... 1.617119 x 2\n",
      "compiling v5.cc\n",
      "running with n=96... 0.000059 x 33822\n",
      "running with n=240... 0.001082 x 1849\n",
      "running with n=960... 0.062717 x 32\n",
      "running with n=2000... 0.532937 x 4\n",
      "0.000077 x 26028\n",
      "0.000901 x 2220\n",
      "0.047909 x 42\n",
      "0.409638 x 5\n"
     ]
    },
    {
     "output_type": "execute_result",
     "data": {
      "text/plain": [
       "[7.68426616235466e-05,\n",
       " 0.0009009764001176164,\n",
       " 0.047909413065229146,\n",
       " 0.4096375942230225]"
      ]
     },
     "metadata": {},
     "execution_count": 9
    }
   ],
   "source": [
    "ns = [48*2, 48*5, 48*20, 2000]\n",
    "benchmark(\"v4.cc\", ns, 2)\n",
    "benchmark(\"v5.cc\", ns, 2)\n",
    "[matmul(n, 2) for n in ns]"
   ]
  },
  {
   "cell_type": "code",
   "execution_count": 23,
   "metadata": {},
   "outputs": [
    {
     "output_type": "stream",
     "name": "stdout",
     "text": [
      "compiling v5.cc\n",
      "running with n=96... 0.000056 x 35853\n",
      "running with n=192... 0.000564 x 3544\n",
      "running with n=288... 0.001867 x 1072\n",
      "running with n=384... 0.004346 x 461\n",
      "running with n=480... 0.008054 x 249\n",
      "running with n=576... 0.013751 x 146\n",
      "running with n=672... 0.021356 x 94\n",
      "running with n=768... 0.032623 x 62\n",
      "running with n=864... 0.043853 x 46\n",
      "running with n=960... 0.058874 x 34\n",
      "running with n=1056... 0.079772 x 26\n",
      "running with n=1152... 0.104404 x 20\n",
      "running with n=1248... 0.131193 x 16\n",
      "running with n=1344... 0.163595 x 13\n",
      "running with n=1440... 0.195758 x 11\n",
      "running with n=1536... 0.322031 x 7\n",
      "running with n=1632... 0.282646 x 8\n",
      "running with n=1728... 0.347328 x 6\n",
      "running with n=1824... 0.401635 x 5\n",
      "running with n=1920... 0.475576 x 5\n",
      "compiling v6.cc\n",
      "running with n=96... 0.000074 x 27040\n",
      "running with n=192... 0.000615 x 3250\n",
      "running with n=288... 0.001954 x 1024\n",
      "running with n=384... 0.004365 x 459\n",
      "running with n=480... 0.008191 x 245\n",
      "running with n=576... 0.013925 x 144\n",
      "running with n=672... 0.021293 x 94\n",
      "running with n=768... 0.030895 x 65\n",
      "running with n=864... 0.042830 x 47\n",
      "running with n=960... 0.057053 x 36\n",
      "running with n=1056... 0.075497 x 27\n",
      "running with n=1152... 0.096368 x 21\n",
      "running with n=1248... 0.119874 x 17\n",
      "running with n=1344... 0.147457 x 14\n",
      "running with n=1440... 0.178864 x 12\n",
      "running with n=1536... 0.216878 x 10\n",
      "running with n=1632... 0.256048 x 8\n",
      "running with n=1728... 0.304202 x 7\n",
      "running with n=1824... 0.353009 x 6\n",
      "running with n=1920... 0.408018 x 5\n"
     ]
    }
   ],
   "source": [
    "#sources = sorted(glob.glob(\"v*.c*\"))\n",
    "#ns = [256, 256+128, 512, 512+256, 1024, 1024+256, 1024+512, 1024+512+256, 2048]\n",
    "#ns = [128, 256, 512, 1024]\n",
    "\n",
    "sources = ['v5.cc', 'v6.cc']\n",
    "ns = [96 * i for i in range(1, 21)]\n",
    "\n",
    "results = [benchmark(source, ns, 2) for source in sources]"
   ]
  },
  {
   "cell_type": "code",
   "execution_count": 25,
   "metadata": {},
   "outputs": [
    {
     "output_type": "stream",
     "name": "stdout",
     "text": [
      "[96] 0.000074 x 26849\n",
      "[192] 0.000470 x 4257\n",
      "[288] 0.001470 x 1361\n",
      "[384] 0.003285 x 609\n",
      "[480] 0.006114 x 328\n",
      "[576] 0.010308 x 195\n",
      "[672] 0.016464 x 122\n",
      "[768] 0.023658 x 85\n",
      "[864] 0.033364 x 60\n",
      "[960] 0.045965 x 44\n",
      "[1056] 0.059994 x 34\n",
      "[1152] 0.077512 x 26\n",
      "[1248] 0.098478 x 21\n",
      "[1344] 0.122740 x 17\n",
      "[1440] 0.148788 x 14\n",
      "[1536] 0.181200 x 12\n",
      "[1632] 0.217583 x 10\n",
      "[1728] 0.256233 x 8\n",
      "[1824] 0.299285 x 7\n",
      "[1920] 0.352238 x 6\n"
     ]
    },
    {
     "output_type": "execute_result",
     "data": {
      "text/plain": [
       "<matplotlib.legend.Legend at 0x7fccd00754c0>"
      ]
     },
     "metadata": {},
     "execution_count": 25
    },
    {
     "output_type": "display_data",
     "data": {
      "text/plain": "<Figure size 432x288 with 1 Axes>",
      "image/svg+xml": "<?xml version=\"1.0\" encoding=\"utf-8\" standalone=\"no\"?>\n<!DOCTYPE svg PUBLIC \"-//W3C//DTD SVG 1.1//EN\"\n  \"http://www.w3.org/Graphics/SVG/1.1/DTD/svg11.dtd\">\n<!-- Created with matplotlib (https://matplotlib.org/) -->\n<svg height=\"269.844375pt\" version=\"1.1\" viewBox=\"0 0 385.908437 269.844375\" width=\"385.908437pt\" xmlns=\"http://www.w3.org/2000/svg\" xmlns:xlink=\"http://www.w3.org/1999/xlink\">\n <metadata>\n  <rdf:RDF xmlns:cc=\"http://creativecommons.org/ns#\" xmlns:dc=\"http://purl.org/dc/elements/1.1/\" xmlns:rdf=\"http://www.w3.org/1999/02/22-rdf-syntax-ns#\">\n   <cc:Work>\n    <dc:type rdf:resource=\"http://purl.org/dc/dcmitype/StillImage\"/>\n    <dc:date>2021-04-04T06:23:18.299495</dc:date>\n    <dc:format>image/svg+xml</dc:format>\n    <dc:creator>\n     <cc:Agent>\n      <dc:title>Matplotlib v3.3.4, https://matplotlib.org/</dc:title>\n     </cc:Agent>\n    </dc:creator>\n   </cc:Work>\n  </rdf:RDF>\n </metadata>\n <defs>\n  <style type=\"text/css\">*{stroke-linecap:butt;stroke-linejoin:round;}</style>\n </defs>\n <g id=\"figure_1\">\n  <g id=\"patch_1\">\n   <path d=\"M 0 269.844375 \nL 385.908437 269.844375 \nL 385.908437 0 \nL 0 0 \nz\n\" style=\"fill:#ffffff;\"/>\n  </g>\n  <g id=\"axes_1\">\n   <g id=\"patch_2\">\n    <path d=\"M 43.908438 224.64 \nL 378.708438 224.64 \nL 378.708438 7.2 \nL 43.908438 7.2 \nz\n\" style=\"fill:#eaeaf2;\"/>\n   </g>\n   <g id=\"matplotlib.axis_1\">\n    <g id=\"xtick_1\">\n     <g id=\"line2d_1\">\n      <path clip-path=\"url(#pc32a364613)\" d=\"M 63.274096 224.64 \nL 63.274096 7.2 \n\" style=\"fill:none;stroke:#ffffff;stroke-linecap:round;\"/>\n     </g>\n     <g id=\"text_1\">\n      <!-- $\\mathdefault{10^{2}}$ -->\n      <g style=\"fill:#262626;\" transform=\"translate(54.639096 245.48375)scale(0.11 -0.11)\">\n       <defs>\n        <path d=\"M 37.25 0 \nL 28.46875 0 \nL 28.46875 56 \nQ 25.296875 52.984375 20.140625 49.953125 \nQ 14.984375 46.921875 10.890625 45.40625 \nL 10.890625 53.90625 \nQ 18.265625 57.375 23.78125 62.296875 \nQ 29.296875 67.234375 31.59375 71.875 \nL 37.25 71.875 \nz\n\" id=\"ArialMT-49\"/>\n        <path d=\"M 4.15625 35.296875 \nQ 4.15625 48 6.765625 55.734375 \nQ 9.375 63.484375 14.515625 67.671875 \nQ 19.671875 71.875 27.484375 71.875 \nQ 33.25 71.875 37.59375 69.546875 \nQ 41.9375 67.234375 44.765625 62.859375 \nQ 47.609375 58.5 49.21875 52.21875 \nQ 50.828125 45.953125 50.828125 35.296875 \nQ 50.828125 22.703125 48.234375 14.96875 \nQ 45.65625 7.234375 40.5 3 \nQ 35.359375 -1.21875 27.484375 -1.21875 \nQ 17.140625 -1.21875 11.234375 6.203125 \nQ 4.15625 15.140625 4.15625 35.296875 \nz\nM 13.1875 35.296875 \nQ 13.1875 17.671875 17.3125 11.828125 \nQ 21.4375 6 27.484375 6 \nQ 33.546875 6 37.671875 11.859375 \nQ 41.796875 17.71875 41.796875 35.296875 \nQ 41.796875 52.984375 37.671875 58.78125 \nQ 33.546875 64.59375 27.390625 64.59375 \nQ 21.34375 64.59375 17.71875 59.46875 \nQ 13.1875 52.9375 13.1875 35.296875 \nz\n\" id=\"ArialMT-48\"/>\n        <path d=\"M 50.34375 8.453125 \nL 50.34375 0 \nL 3.03125 0 \nQ 2.9375 3.171875 4.046875 6.109375 \nQ 5.859375 10.9375 9.828125 15.625 \nQ 13.8125 20.3125 21.34375 26.46875 \nQ 33.015625 36.03125 37.109375 41.625 \nQ 41.21875 47.21875 41.21875 52.203125 \nQ 41.21875 57.421875 37.46875 61 \nQ 33.734375 64.59375 27.734375 64.59375 \nQ 21.390625 64.59375 17.578125 60.78125 \nQ 13.765625 56.984375 13.71875 50.25 \nL 4.6875 51.171875 \nQ 5.609375 61.28125 11.65625 66.578125 \nQ 17.71875 71.875 27.9375 71.875 \nQ 38.234375 71.875 44.234375 66.15625 \nQ 50.25 60.453125 50.25 52 \nQ 50.25 47.703125 48.484375 43.546875 \nQ 46.734375 39.40625 42.65625 34.8125 \nQ 38.578125 30.21875 29.109375 22.21875 \nQ 21.1875 15.578125 18.9375 13.203125 \nQ 16.703125 10.84375 15.234375 8.453125 \nz\n\" id=\"ArialMT-50\"/>\n       </defs>\n       <use transform=\"translate(0 0.99375)\" xlink:href=\"#ArialMT-49\"/>\n       <use transform=\"translate(55.615234 0.99375)\" xlink:href=\"#ArialMT-48\"/>\n       <use transform=\"translate(112.972813 70.6875)scale(0.7)\" xlink:href=\"#ArialMT-50\"/>\n      </g>\n     </g>\n    </g>\n    <g id=\"xtick_2\">\n     <g id=\"line2d_2\">\n      <path clip-path=\"url(#pc32a364613)\" d=\"M 297.214618 224.64 \nL 297.214618 7.2 \n\" style=\"fill:none;stroke:#ffffff;stroke-linecap:round;\"/>\n     </g>\n     <g id=\"text_2\">\n      <!-- $\\mathdefault{10^{3}}$ -->\n      <g style=\"fill:#262626;\" transform=\"translate(288.579618 245.48375)scale(0.11 -0.11)\">\n       <defs>\n        <path d=\"M 4.203125 18.890625 \nL 12.984375 20.0625 \nQ 14.5 12.59375 18.140625 9.296875 \nQ 21.78125 6 27 6 \nQ 33.203125 6 37.46875 10.296875 \nQ 41.75 14.59375 41.75 20.953125 \nQ 41.75 27 37.796875 30.921875 \nQ 33.84375 34.859375 27.734375 34.859375 \nQ 25.25 34.859375 21.53125 33.890625 \nL 22.515625 41.609375 \nQ 23.390625 41.5 23.921875 41.5 \nQ 29.546875 41.5 34.03125 44.421875 \nQ 38.53125 47.359375 38.53125 53.46875 \nQ 38.53125 58.296875 35.25 61.46875 \nQ 31.984375 64.65625 26.8125 64.65625 \nQ 21.6875 64.65625 18.265625 61.421875 \nQ 14.84375 58.203125 13.875 51.765625 \nL 5.078125 53.328125 \nQ 6.6875 62.15625 12.390625 67.015625 \nQ 18.109375 71.875 26.609375 71.875 \nQ 32.46875 71.875 37.390625 69.359375 \nQ 42.328125 66.84375 44.9375 62.5 \nQ 47.5625 58.15625 47.5625 53.265625 \nQ 47.5625 48.640625 45.0625 44.828125 \nQ 42.578125 41.015625 37.703125 38.765625 \nQ 44.046875 37.3125 47.5625 32.6875 \nQ 51.078125 28.078125 51.078125 21.140625 \nQ 51.078125 11.765625 44.234375 5.25 \nQ 37.40625 -1.265625 26.953125 -1.265625 \nQ 17.53125 -1.265625 11.296875 4.34375 \nQ 5.078125 9.96875 4.203125 18.890625 \nz\n\" id=\"ArialMT-51\"/>\n       </defs>\n       <use transform=\"translate(0 0.99375)\" xlink:href=\"#ArialMT-49\"/>\n       <use transform=\"translate(55.615234 0.99375)\" xlink:href=\"#ArialMT-48\"/>\n       <use transform=\"translate(112.972813 70.6875)scale(0.7)\" xlink:href=\"#ArialMT-51\"/>\n      </g>\n     </g>\n    </g>\n    <g id=\"xtick_3\"/>\n    <g id=\"xtick_4\"/>\n    <g id=\"xtick_5\"/>\n    <g id=\"xtick_6\"/>\n    <g id=\"xtick_7\"/>\n    <g id=\"xtick_8\"/>\n    <g id=\"xtick_9\"/>\n    <g id=\"xtick_10\"/>\n    <g id=\"xtick_11\"/>\n    <g id=\"xtick_12\"/>\n    <g id=\"text_3\">\n     <!-- n -->\n     <g style=\"fill:#262626;\" transform=\"translate(207.971875 260.259375)scale(0.12 -0.12)\">\n      <defs>\n       <path d=\"M 6.59375 0 \nL 6.59375 51.859375 \nL 14.5 51.859375 \nL 14.5 44.484375 \nQ 20.21875 53.03125 31 53.03125 \nQ 35.6875 53.03125 39.625 51.34375 \nQ 43.5625 49.65625 45.515625 46.921875 \nQ 47.46875 44.1875 48.25 40.4375 \nQ 48.734375 37.984375 48.734375 31.890625 \nL 48.734375 0 \nL 39.9375 0 \nL 39.9375 31.546875 \nQ 39.9375 36.921875 38.90625 39.578125 \nQ 37.890625 42.234375 35.28125 43.8125 \nQ 32.671875 45.40625 29.15625 45.40625 \nQ 23.53125 45.40625 19.453125 41.84375 \nQ 15.375 38.28125 15.375 28.328125 \nL 15.375 0 \nz\n\" id=\"ArialMT-110\"/>\n      </defs>\n      <use xlink:href=\"#ArialMT-110\"/>\n     </g>\n    </g>\n   </g>\n   <g id=\"matplotlib.axis_2\">\n    <g id=\"ytick_1\">\n     <g id=\"line2d_3\">\n      <path clip-path=\"url(#pc32a364613)\" d=\"M 43.908438 198.395925 \nL 378.708438 198.395925 \n\" style=\"fill:none;stroke:#ffffff;stroke-linecap:round;\"/>\n     </g>\n     <g id=\"text_4\">\n      <!-- 12 -->\n      <g style=\"fill:#262626;\" transform=\"translate(22.174375 202.332722)scale(0.11 -0.11)\">\n       <use xlink:href=\"#ArialMT-49\"/>\n       <use x=\"55.615234\" xlink:href=\"#ArialMT-50\"/>\n      </g>\n     </g>\n    </g>\n    <g id=\"ytick_2\">\n     <g id=\"line2d_4\">\n      <path clip-path=\"url(#pc32a364613)\" d=\"M 43.908438 154.581253 \nL 378.708438 154.581253 \n\" style=\"fill:none;stroke:#ffffff;stroke-linecap:round;\"/>\n     </g>\n     <g id=\"text_5\">\n      <!-- 14 -->\n      <g style=\"fill:#262626;\" transform=\"translate(22.174375 158.51805)scale(0.11 -0.11)\">\n       <defs>\n        <path d=\"M 32.328125 0 \nL 32.328125 17.140625 \nL 1.265625 17.140625 \nL 1.265625 25.203125 \nL 33.9375 71.578125 \nL 41.109375 71.578125 \nL 41.109375 25.203125 \nL 50.78125 25.203125 \nL 50.78125 17.140625 \nL 41.109375 17.140625 \nL 41.109375 0 \nz\nM 32.328125 25.203125 \nL 32.328125 57.46875 \nL 9.90625 25.203125 \nz\n\" id=\"ArialMT-52\"/>\n       </defs>\n       <use xlink:href=\"#ArialMT-49\"/>\n       <use x=\"55.615234\" xlink:href=\"#ArialMT-52\"/>\n      </g>\n     </g>\n    </g>\n    <g id=\"ytick_3\">\n     <g id=\"line2d_5\">\n      <path clip-path=\"url(#pc32a364613)\" d=\"M 43.908438 110.766581 \nL 378.708438 110.766581 \n\" style=\"fill:none;stroke:#ffffff;stroke-linecap:round;\"/>\n     </g>\n     <g id=\"text_6\">\n      <!-- 16 -->\n      <g style=\"fill:#262626;\" transform=\"translate(22.174375 114.703378)scale(0.11 -0.11)\">\n       <defs>\n        <path d=\"M 49.75 54.046875 \nL 41.015625 53.375 \nQ 39.84375 58.546875 37.703125 60.890625 \nQ 34.125 64.65625 28.90625 64.65625 \nQ 24.703125 64.65625 21.53125 62.3125 \nQ 17.390625 59.28125 14.984375 53.46875 \nQ 12.59375 47.65625 12.5 36.921875 \nQ 15.671875 41.75 20.265625 44.09375 \nQ 24.859375 46.4375 29.890625 46.4375 \nQ 38.671875 46.4375 44.84375 39.96875 \nQ 51.03125 33.5 51.03125 23.25 \nQ 51.03125 16.5 48.125 10.71875 \nQ 45.21875 4.9375 40.140625 1.859375 \nQ 35.0625 -1.21875 28.609375 -1.21875 \nQ 17.625 -1.21875 10.6875 6.859375 \nQ 3.765625 14.9375 3.765625 33.5 \nQ 3.765625 54.25 11.421875 63.671875 \nQ 18.109375 71.875 29.4375 71.875 \nQ 37.890625 71.875 43.28125 67.140625 \nQ 48.6875 62.40625 49.75 54.046875 \nz\nM 13.875 23.1875 \nQ 13.875 18.65625 15.796875 14.5 \nQ 17.71875 10.359375 21.1875 8.171875 \nQ 24.65625 6 28.46875 6 \nQ 34.03125 6 38.03125 10.484375 \nQ 42.046875 14.984375 42.046875 22.703125 \nQ 42.046875 30.125 38.078125 34.390625 \nQ 34.125 38.671875 28.125 38.671875 \nQ 22.171875 38.671875 18.015625 34.390625 \nQ 13.875 30.125 13.875 23.1875 \nz\n\" id=\"ArialMT-54\"/>\n       </defs>\n       <use xlink:href=\"#ArialMT-49\"/>\n       <use x=\"55.615234\" xlink:href=\"#ArialMT-54\"/>\n      </g>\n     </g>\n    </g>\n    <g id=\"ytick_4\">\n     <g id=\"line2d_6\">\n      <path clip-path=\"url(#pc32a364613)\" d=\"M 43.908438 66.95191 \nL 378.708438 66.95191 \n\" style=\"fill:none;stroke:#ffffff;stroke-linecap:round;\"/>\n     </g>\n     <g id=\"text_7\">\n      <!-- 18 -->\n      <g style=\"fill:#262626;\" transform=\"translate(22.174375 70.888707)scale(0.11 -0.11)\">\n       <defs>\n        <path d=\"M 17.671875 38.8125 \nQ 12.203125 40.828125 9.5625 44.53125 \nQ 6.9375 48.25 6.9375 53.421875 \nQ 6.9375 61.234375 12.546875 66.546875 \nQ 18.171875 71.875 27.484375 71.875 \nQ 36.859375 71.875 42.578125 66.421875 \nQ 48.296875 60.984375 48.296875 53.171875 \nQ 48.296875 48.1875 45.671875 44.5 \nQ 43.0625 40.828125 37.75 38.8125 \nQ 44.34375 36.671875 47.78125 31.875 \nQ 51.21875 27.09375 51.21875 20.453125 \nQ 51.21875 11.28125 44.71875 5.03125 \nQ 38.234375 -1.21875 27.640625 -1.21875 \nQ 17.046875 -1.21875 10.546875 5.046875 \nQ 4.046875 11.328125 4.046875 20.703125 \nQ 4.046875 27.6875 7.59375 32.390625 \nQ 11.140625 37.109375 17.671875 38.8125 \nz\nM 15.921875 53.71875 \nQ 15.921875 48.640625 19.1875 45.40625 \nQ 22.46875 42.1875 27.6875 42.1875 \nQ 32.765625 42.1875 36.015625 45.375 \nQ 39.265625 48.578125 39.265625 53.21875 \nQ 39.265625 58.0625 35.90625 61.359375 \nQ 32.5625 64.65625 27.59375 64.65625 \nQ 22.5625 64.65625 19.234375 61.421875 \nQ 15.921875 58.203125 15.921875 53.71875 \nz\nM 13.09375 20.65625 \nQ 13.09375 16.890625 14.875 13.375 \nQ 16.65625 9.859375 20.171875 7.921875 \nQ 23.6875 6 27.734375 6 \nQ 34.03125 6 38.125 10.046875 \nQ 42.234375 14.109375 42.234375 20.359375 \nQ 42.234375 26.703125 38.015625 30.859375 \nQ 33.796875 35.015625 27.4375 35.015625 \nQ 21.234375 35.015625 17.15625 30.90625 \nQ 13.09375 26.8125 13.09375 20.65625 \nz\n\" id=\"ArialMT-56\"/>\n       </defs>\n       <use xlink:href=\"#ArialMT-49\"/>\n       <use x=\"55.615234\" xlink:href=\"#ArialMT-56\"/>\n      </g>\n     </g>\n    </g>\n    <g id=\"ytick_5\">\n     <g id=\"line2d_7\">\n      <path clip-path=\"url(#pc32a364613)\" d=\"M 43.908438 23.137238 \nL 378.708438 23.137238 \n\" style=\"fill:none;stroke:#ffffff;stroke-linecap:round;\"/>\n     </g>\n     <g id=\"text_8\">\n      <!-- 20 -->\n      <g style=\"fill:#262626;\" transform=\"translate(22.174375 27.074035)scale(0.11 -0.11)\">\n       <use xlink:href=\"#ArialMT-50\"/>\n       <use x=\"55.615234\" xlink:href=\"#ArialMT-48\"/>\n      </g>\n     </g>\n    </g>\n    <g id=\"text_9\">\n     <!-- GFLOPS -->\n     <g style=\"fill:#262626;\" transform=\"translate(15.789375 140.259375)rotate(-90)scale(0.12 -0.12)\">\n      <defs>\n       <path d=\"M 41.21875 28.078125 \nL 41.21875 36.46875 \nL 71.53125 36.53125 \nL 71.53125 9.96875 \nQ 64.546875 4.390625 57.125 1.578125 \nQ 49.703125 -1.21875 41.890625 -1.21875 \nQ 31.34375 -1.21875 22.71875 3.296875 \nQ 14.109375 7.8125 9.71875 16.359375 \nQ 5.328125 24.90625 5.328125 35.453125 \nQ 5.328125 45.90625 9.6875 54.953125 \nQ 14.0625 64.015625 22.265625 68.40625 \nQ 30.46875 72.796875 41.15625 72.796875 \nQ 48.921875 72.796875 55.1875 70.28125 \nQ 61.46875 67.78125 65.03125 63.28125 \nQ 68.609375 58.796875 70.453125 51.5625 \nL 61.921875 49.21875 \nQ 60.296875 54.6875 57.90625 57.8125 \nQ 55.515625 60.9375 51.0625 62.8125 \nQ 46.625 64.703125 41.21875 64.703125 \nQ 34.71875 64.703125 29.984375 62.71875 \nQ 25.25 60.75 22.34375 57.515625 \nQ 19.4375 54.296875 17.828125 50.4375 \nQ 15.09375 43.796875 15.09375 36.03125 \nQ 15.09375 26.46875 18.390625 20.015625 \nQ 21.6875 13.578125 27.984375 10.453125 \nQ 34.28125 7.328125 41.359375 7.328125 \nQ 47.515625 7.328125 53.375 9.6875 \nQ 59.234375 12.0625 62.25 14.75 \nL 62.25 28.078125 \nz\n\" id=\"ArialMT-71\"/>\n       <path d=\"M 8.203125 0 \nL 8.203125 71.578125 \nL 56.5 71.578125 \nL 56.5 63.140625 \nL 17.671875 63.140625 \nL 17.671875 40.96875 \nL 51.265625 40.96875 \nL 51.265625 32.515625 \nL 17.671875 32.515625 \nL 17.671875 0 \nz\n\" id=\"ArialMT-70\"/>\n       <path d=\"M 7.328125 0 \nL 7.328125 71.578125 \nL 16.796875 71.578125 \nL 16.796875 8.453125 \nL 52.046875 8.453125 \nL 52.046875 0 \nz\n\" id=\"ArialMT-76\"/>\n       <path d=\"M 4.828125 34.859375 \nQ 4.828125 52.6875 14.390625 62.765625 \nQ 23.96875 72.859375 39.109375 72.859375 \nQ 49.03125 72.859375 56.984375 68.109375 \nQ 64.9375 63.375 69.109375 54.90625 \nQ 73.296875 46.4375 73.296875 35.6875 \nQ 73.296875 24.8125 68.890625 16.21875 \nQ 64.5 7.625 56.4375 3.203125 \nQ 48.390625 -1.21875 39.0625 -1.21875 \nQ 28.953125 -1.21875 20.984375 3.65625 \nQ 13.03125 8.546875 8.921875 16.984375 \nQ 4.828125 25.4375 4.828125 34.859375 \nz\nM 14.59375 34.71875 \nQ 14.59375 21.78125 21.546875 14.328125 \nQ 28.515625 6.890625 39.015625 6.890625 \nQ 49.703125 6.890625 56.609375 14.40625 \nQ 63.53125 21.921875 63.53125 35.75 \nQ 63.53125 44.484375 60.578125 51 \nQ 57.625 57.515625 51.921875 61.109375 \nQ 46.234375 64.703125 39.15625 64.703125 \nQ 29.109375 64.703125 21.84375 57.78125 \nQ 14.59375 50.875 14.59375 34.71875 \nz\n\" id=\"ArialMT-79\"/>\n       <path d=\"M 7.71875 0 \nL 7.71875 71.578125 \nL 34.71875 71.578125 \nQ 41.84375 71.578125 45.609375 70.90625 \nQ 50.875 70.015625 54.4375 67.546875 \nQ 58.015625 65.09375 60.1875 60.640625 \nQ 62.359375 56.203125 62.359375 50.875 \nQ 62.359375 41.75 56.546875 35.421875 \nQ 50.734375 29.109375 35.546875 29.109375 \nL 17.1875 29.109375 \nL 17.1875 0 \nz\nM 17.1875 37.546875 \nL 35.6875 37.546875 \nQ 44.875 37.546875 48.734375 40.96875 \nQ 52.59375 44.390625 52.59375 50.59375 \nQ 52.59375 55.078125 50.3125 58.265625 \nQ 48.046875 61.46875 44.34375 62.5 \nQ 41.9375 63.140625 35.5 63.140625 \nL 17.1875 63.140625 \nz\n\" id=\"ArialMT-80\"/>\n       <path d=\"M 4.5 23 \nL 13.421875 23.78125 \nQ 14.0625 18.40625 16.375 14.96875 \nQ 18.703125 11.53125 23.578125 9.40625 \nQ 28.46875 7.28125 34.578125 7.28125 \nQ 39.984375 7.28125 44.140625 8.890625 \nQ 48.296875 10.5 50.3125 13.296875 \nQ 52.34375 16.109375 52.34375 19.4375 \nQ 52.34375 22.796875 50.390625 25.3125 \nQ 48.4375 27.828125 43.953125 29.546875 \nQ 41.0625 30.671875 31.203125 33.03125 \nQ 21.34375 35.40625 17.390625 37.5 \nQ 12.25 40.1875 9.734375 44.15625 \nQ 7.234375 48.140625 7.234375 53.078125 \nQ 7.234375 58.5 10.296875 63.203125 \nQ 13.375 67.921875 19.28125 70.359375 \nQ 25.203125 72.796875 32.421875 72.796875 \nQ 40.375 72.796875 46.453125 70.234375 \nQ 52.546875 67.671875 55.8125 62.6875 \nQ 59.078125 57.71875 59.328125 51.421875 \nL 50.25 50.734375 \nQ 49.515625 57.515625 45.28125 60.984375 \nQ 41.0625 64.453125 32.8125 64.453125 \nQ 24.21875 64.453125 20.28125 61.296875 \nQ 16.359375 58.15625 16.359375 53.71875 \nQ 16.359375 49.859375 19.140625 47.359375 \nQ 21.875 44.875 33.421875 42.265625 \nQ 44.96875 39.65625 49.265625 37.703125 \nQ 55.515625 34.8125 58.484375 30.390625 \nQ 61.46875 25.984375 61.46875 20.21875 \nQ 61.46875 14.5 58.203125 9.4375 \nQ 54.9375 4.390625 48.796875 1.578125 \nQ 42.671875 -1.21875 35.015625 -1.21875 \nQ 25.296875 -1.21875 18.71875 1.609375 \nQ 12.15625 4.4375 8.421875 10.125 \nQ 4.6875 15.828125 4.5 23 \nz\n\" id=\"ArialMT-83\"/>\n      </defs>\n      <use xlink:href=\"#ArialMT-71\"/>\n      <use x=\"77.783203\" xlink:href=\"#ArialMT-70\"/>\n      <use x=\"138.867188\" xlink:href=\"#ArialMT-76\"/>\n      <use x=\"194.482422\" xlink:href=\"#ArialMT-79\"/>\n      <use x=\"272.265625\" xlink:href=\"#ArialMT-80\"/>\n      <use x=\"338.964844\" xlink:href=\"#ArialMT-83\"/>\n     </g>\n    </g>\n   </g>\n   <g id=\"line2d_8\">\n    <path clip-path=\"url(#pc32a364613)\" d=\"M 59.126619 115.173086 \nL 129.549734 186.359009 \nL 170.744615 180.984204 \nL 199.972848 175.857964 \nL 222.644027 160.467456 \nL 241.167729 156.829219 \nL 256.829296 149.985136 \nL 270.395962 157.090875 \nL 282.36261 139.079542 \nL 293.067141 132.068874 \nL 302.750568 137.890787 \nL 311.590843 140.487275 \nL 319.723109 136.70328 \nL 327.25241 136.183673 \nL 334.262022 127.1216 \nL 340.819077 214.756364 \nL 346.978482 124.379165 \nL 352.785724 135.836421 \nL 358.278904 130.280508 \nL 363.490256 135.242125 \n\" style=\"fill:none;stroke:#4c72b0;stroke-linecap:round;stroke-width:1.5;\"/>\n   </g>\n   <g id=\"line2d_9\">\n    <path clip-path=\"url(#pc32a364613)\" d=\"M 59.126619 199.362216 \nL 129.549734 209.157663 \nL 170.744615 193.464285 \nL 199.972848 177.100368 \nL 222.644027 165.498815 \nL 241.167729 160.633537 \nL 256.829296 149.06409 \nL 270.395962 140.076936 \nL 282.36261 131.383648 \nL 293.067141 121.561089 \nL 302.750568 119.578725 \nL 311.590843 113.736464 \nL 319.723109 106.055027 \nL 327.25241 100.604024 \nL 334.262022 95.559414 \nL 340.819077 95.2278 \nL 346.978482 89.381846 \nL 352.785724 89.698492 \nL 358.278904 84.685711 \nL 363.490256 81.257413 \n\" style=\"fill:none;stroke:#dd8452;stroke-linecap:round;stroke-width:1.5;\"/>\n   </g>\n   <g id=\"line2d_10\">\n    <path clip-path=\"url(#pc32a364613)\" d=\"M 59.126619 201.091403 \nL 129.549734 131.249489 \nL 170.744615 105.297135 \nL 199.972848 83.659042 \nL 222.644027 65.004354 \nL 241.167729 55.135548 \nL 256.829296 57.476218 \nL 270.395962 41.817242 \nL 282.36261 37.782274 \nL 293.067141 39.611993 \nL 302.750568 31.275615 \nL 311.590843 29.187922 \nL 319.723109 28.874076 \nL 327.25241 27.971625 \nL 334.262022 21.631697 \nL 340.819077 23.152936 \nL 346.978482 23.635427 \nL 352.785724 20.133975 \nL 358.278904 17.083636 \nL 363.490256 21.076926 \n\" style=\"fill:none;stroke:#55a868;stroke-linecap:round;stroke-width:1.5;\"/>\n   </g>\n   <g id=\"patch_3\">\n    <path d=\"M 43.908438 224.64 \nL 43.908438 7.2 \n\" style=\"fill:none;stroke:#ffffff;stroke-linecap:square;stroke-linejoin:miter;stroke-width:1.25;\"/>\n   </g>\n   <g id=\"patch_4\">\n    <path d=\"M 378.708438 224.64 \nL 378.708438 7.2 \n\" style=\"fill:none;stroke:#ffffff;stroke-linecap:square;stroke-linejoin:miter;stroke-width:1.25;\"/>\n   </g>\n   <g id=\"patch_5\">\n    <path d=\"M 43.908437 224.64 \nL 378.708437 224.64 \n\" style=\"fill:none;stroke:#ffffff;stroke-linecap:square;stroke-linejoin:miter;stroke-width:1.25;\"/>\n   </g>\n   <g id=\"patch_6\">\n    <path d=\"M 43.908437 7.2 \nL 378.708437 7.2 \n\" style=\"fill:none;stroke:#ffffff;stroke-linecap:square;stroke-linejoin:miter;stroke-width:1.25;\"/>\n   </g>\n   <g id=\"legend_1\">\n    <g id=\"patch_7\">\n     <path d=\"M 51.608438 62.679531 \nL 112.481406 62.679531 \nQ 114.681406 62.679531 114.681406 60.479531 \nL 114.681406 14.9 \nQ 114.681406 12.7 112.481406 12.7 \nL 51.608438 12.7 \nQ 49.408438 12.7 49.408438 14.9 \nL 49.408438 60.479531 \nQ 49.408438 62.679531 51.608438 62.679531 \nz\n\" style=\"fill:#eaeaf2;opacity:0.8;stroke:#cccccc;stroke-linejoin:miter;\"/>\n    </g>\n    <g id=\"line2d_11\">\n     <path d=\"M 53.808438 21.123594 \nL 75.808437 21.123594 \n\" style=\"fill:none;stroke:#4c72b0;stroke-linecap:round;stroke-width:1.5;\"/>\n    </g>\n    <g id=\"line2d_12\"/>\n    <g id=\"text_10\">\n     <!-- v5.cc -->\n     <g style=\"fill:#262626;\" transform=\"translate(84.608438 24.973594)scale(0.11 -0.11)\">\n      <defs>\n       <path d=\"M 21 0 \nL 1.265625 51.859375 \nL 10.546875 51.859375 \nL 21.6875 20.796875 \nQ 23.484375 15.765625 25 10.359375 \nQ 26.171875 14.453125 28.265625 20.21875 \nL 39.796875 51.859375 \nL 48.828125 51.859375 \nL 29.203125 0 \nz\n\" id=\"ArialMT-118\"/>\n       <path d=\"M 4.15625 18.75 \nL 13.375 19.53125 \nQ 14.40625 12.796875 18.140625 9.390625 \nQ 21.875 6 27.15625 6 \nQ 33.5 6 37.890625 10.78125 \nQ 42.28125 15.578125 42.28125 23.484375 \nQ 42.28125 31 38.0625 35.34375 \nQ 33.84375 39.703125 27 39.703125 \nQ 22.75 39.703125 19.328125 37.765625 \nQ 15.921875 35.84375 13.96875 32.765625 \nL 5.71875 33.84375 \nL 12.640625 70.609375 \nL 48.25 70.609375 \nL 48.25 62.203125 \nL 19.671875 62.203125 \nL 15.828125 42.96875 \nQ 22.265625 47.46875 29.34375 47.46875 \nQ 38.71875 47.46875 45.15625 40.96875 \nQ 51.609375 34.46875 51.609375 24.265625 \nQ 51.609375 14.546875 45.953125 7.46875 \nQ 39.0625 -1.21875 27.15625 -1.21875 \nQ 17.390625 -1.21875 11.203125 4.25 \nQ 5.03125 9.71875 4.15625 18.75 \nz\n\" id=\"ArialMT-53\"/>\n       <path d=\"M 9.078125 0 \nL 9.078125 10.015625 \nL 19.09375 10.015625 \nL 19.09375 0 \nz\n\" id=\"ArialMT-46\"/>\n       <path d=\"M 40.4375 19 \nL 49.078125 17.875 \nQ 47.65625 8.9375 41.8125 3.875 \nQ 35.984375 -1.171875 27.484375 -1.171875 \nQ 16.84375 -1.171875 10.375 5.78125 \nQ 3.90625 12.75 3.90625 25.734375 \nQ 3.90625 34.125 6.6875 40.421875 \nQ 9.46875 46.734375 15.15625 49.875 \nQ 20.84375 53.03125 27.546875 53.03125 \nQ 35.984375 53.03125 41.359375 48.75 \nQ 46.734375 44.484375 48.25 36.625 \nL 39.703125 35.296875 \nQ 38.484375 40.53125 35.375 43.15625 \nQ 32.28125 45.796875 27.875 45.796875 \nQ 21.234375 45.796875 17.078125 41.03125 \nQ 12.9375 36.28125 12.9375 25.984375 \nQ 12.9375 15.53125 16.9375 10.796875 \nQ 20.953125 6.0625 27.390625 6.0625 \nQ 32.5625 6.0625 36.03125 9.234375 \nQ 39.5 12.40625 40.4375 19 \nz\n\" id=\"ArialMT-99\"/>\n      </defs>\n      <use xlink:href=\"#ArialMT-118\"/>\n      <use x=\"50\" xlink:href=\"#ArialMT-53\"/>\n      <use x=\"105.615234\" xlink:href=\"#ArialMT-46\"/>\n      <use x=\"133.398438\" xlink:href=\"#ArialMT-99\"/>\n      <use x=\"183.398438\" xlink:href=\"#ArialMT-99\"/>\n     </g>\n    </g>\n    <g id=\"line2d_13\">\n     <path d=\"M 53.808438 36.683437 \nL 75.808437 36.683437 \n\" style=\"fill:none;stroke:#dd8452;stroke-linecap:round;stroke-width:1.5;\"/>\n    </g>\n    <g id=\"line2d_14\"/>\n    <g id=\"text_11\">\n     <!-- v6.cc -->\n     <g style=\"fill:#262626;\" transform=\"translate(84.608438 40.533437)scale(0.11 -0.11)\">\n      <use xlink:href=\"#ArialMT-118\"/>\n      <use x=\"50\" xlink:href=\"#ArialMT-54\"/>\n      <use x=\"105.615234\" xlink:href=\"#ArialMT-46\"/>\n      <use x=\"133.398438\" xlink:href=\"#ArialMT-99\"/>\n      <use x=\"183.398438\" xlink:href=\"#ArialMT-99\"/>\n     </g>\n    </g>\n    <g id=\"line2d_15\">\n     <path d=\"M 53.808438 52.243281 \nL 75.808437 52.243281 \n\" style=\"fill:none;stroke:#55a868;stroke-linecap:round;stroke-width:1.5;\"/>\n    </g>\n    <g id=\"line2d_16\"/>\n    <g id=\"text_12\">\n     <!-- blas -->\n     <g style=\"fill:#262626;\" transform=\"translate(84.608438 56.093281)scale(0.11 -0.11)\">\n      <defs>\n       <path d=\"M 14.703125 0 \nL 6.546875 0 \nL 6.546875 71.578125 \nL 15.328125 71.578125 \nL 15.328125 46.046875 \nQ 20.90625 53.03125 29.546875 53.03125 \nQ 34.328125 53.03125 38.59375 51.09375 \nQ 42.875 49.171875 45.625 45.671875 \nQ 48.390625 42.1875 49.953125 37.25 \nQ 51.515625 32.328125 51.515625 26.703125 \nQ 51.515625 13.375 44.921875 6.09375 \nQ 38.328125 -1.171875 29.109375 -1.171875 \nQ 19.921875 -1.171875 14.703125 6.5 \nz\nM 14.59375 26.3125 \nQ 14.59375 17 17.140625 12.84375 \nQ 21.296875 6.0625 28.375 6.0625 \nQ 34.125 6.0625 38.328125 11.0625 \nQ 42.53125 16.0625 42.53125 25.984375 \nQ 42.53125 36.140625 38.5 40.96875 \nQ 34.46875 45.796875 28.765625 45.796875 \nQ 23 45.796875 18.796875 40.796875 \nQ 14.59375 35.796875 14.59375 26.3125 \nz\n\" id=\"ArialMT-98\"/>\n       <path d=\"M 6.390625 0 \nL 6.390625 71.578125 \nL 15.1875 71.578125 \nL 15.1875 0 \nz\n\" id=\"ArialMT-108\"/>\n       <path d=\"M 40.4375 6.390625 \nQ 35.546875 2.25 31.03125 0.53125 \nQ 26.515625 -1.171875 21.34375 -1.171875 \nQ 12.796875 -1.171875 8.203125 3 \nQ 3.609375 7.171875 3.609375 13.671875 \nQ 3.609375 17.484375 5.34375 20.625 \nQ 7.078125 23.78125 9.890625 25.6875 \nQ 12.703125 27.59375 16.21875 28.5625 \nQ 18.796875 29.25 24.03125 29.890625 \nQ 34.671875 31.15625 39.703125 32.90625 \nQ 39.75 34.71875 39.75 35.203125 \nQ 39.75 40.578125 37.25 42.78125 \nQ 33.890625 45.75 27.25 45.75 \nQ 21.046875 45.75 18.09375 43.578125 \nQ 15.140625 41.40625 13.71875 35.890625 \nL 5.125 37.0625 \nQ 6.296875 42.578125 8.984375 45.96875 \nQ 11.671875 49.359375 16.75 51.1875 \nQ 21.828125 53.03125 28.515625 53.03125 \nQ 35.15625 53.03125 39.296875 51.46875 \nQ 43.453125 49.90625 45.40625 47.53125 \nQ 47.359375 45.171875 48.140625 41.546875 \nQ 48.578125 39.3125 48.578125 33.453125 \nL 48.578125 21.734375 \nQ 48.578125 9.46875 49.140625 6.21875 \nQ 49.703125 2.984375 51.375 0 \nL 42.1875 0 \nQ 40.828125 2.734375 40.4375 6.390625 \nz\nM 39.703125 26.03125 \nQ 34.90625 24.078125 25.34375 22.703125 \nQ 19.921875 21.921875 17.671875 20.9375 \nQ 15.4375 19.96875 14.203125 18.09375 \nQ 12.984375 16.21875 12.984375 13.921875 \nQ 12.984375 10.40625 15.640625 8.0625 \nQ 18.3125 5.71875 23.4375 5.71875 \nQ 28.515625 5.71875 32.46875 7.9375 \nQ 36.421875 10.15625 38.28125 14.015625 \nQ 39.703125 17 39.703125 22.796875 \nz\n\" id=\"ArialMT-97\"/>\n       <path d=\"M 3.078125 15.484375 \nL 11.765625 16.84375 \nQ 12.5 11.625 15.84375 8.84375 \nQ 19.1875 6.0625 25.203125 6.0625 \nQ 31.25 6.0625 34.171875 8.515625 \nQ 37.109375 10.984375 37.109375 14.3125 \nQ 37.109375 17.28125 34.515625 19 \nQ 32.71875 20.171875 25.53125 21.96875 \nQ 15.875 24.421875 12.140625 26.203125 \nQ 8.40625 27.984375 6.46875 31.125 \nQ 4.546875 34.28125 4.546875 38.09375 \nQ 4.546875 41.546875 6.125 44.5 \nQ 7.71875 47.46875 10.453125 49.421875 \nQ 12.5 50.921875 16.03125 51.96875 \nQ 19.578125 53.03125 23.640625 53.03125 \nQ 29.734375 53.03125 34.34375 51.265625 \nQ 38.96875 49.515625 41.15625 46.5 \nQ 43.359375 43.5 44.1875 38.484375 \nL 35.59375 37.3125 \nQ 35.015625 41.3125 32.203125 43.546875 \nQ 29.390625 45.796875 24.265625 45.796875 \nQ 18.21875 45.796875 15.625 43.796875 \nQ 13.03125 41.796875 13.03125 39.109375 \nQ 13.03125 37.40625 14.109375 36.03125 \nQ 15.1875 34.625 17.484375 33.6875 \nQ 18.796875 33.203125 25.25 31.453125 \nQ 34.578125 28.953125 38.25 27.359375 \nQ 41.9375 25.78125 44.03125 22.75 \nQ 46.140625 19.734375 46.140625 15.234375 \nQ 46.140625 10.84375 43.578125 6.953125 \nQ 41.015625 3.078125 36.171875 0.953125 \nQ 31.34375 -1.171875 25.25 -1.171875 \nQ 15.140625 -1.171875 9.84375 3.03125 \nQ 4.546875 7.234375 3.078125 15.484375 \nz\n\" id=\"ArialMT-115\"/>\n      </defs>\n      <use xlink:href=\"#ArialMT-98\"/>\n      <use x=\"55.615234\" xlink:href=\"#ArialMT-108\"/>\n      <use x=\"77.832031\" xlink:href=\"#ArialMT-97\"/>\n      <use x=\"133.447266\" xlink:href=\"#ArialMT-115\"/>\n     </g>\n    </g>\n   </g>\n  </g>\n </g>\n <defs>\n  <clipPath id=\"pc32a364613\">\n   <rect height=\"217.44\" width=\"334.8\" x=\"43.908438\" y=\"7.2\"/>\n  </clipPath>\n </defs>\n</svg>\n",
      "image/png": "[encoded data removed]"
     },
     "metadata": {}
    }
   ],
   "source": [
    "sources.append('blas')\n",
    "results.append([matmul(n, 2) for n in ns])\n",
    "\n",
    "for r in results:\n",
    "    plt.plot(ns, [(n**3) / x / (10**9) for x, n in zip(r, ns)])\n",
    "\n",
    "plt.xlabel('n')\n",
    "plt.ylabel('GFLOPS')\n",
    "\n",
    "plt.xscale('log')\n",
    "plt.legend(sources)"
   ]
  },
  {
   "cell_type": "code",
   "execution_count": 56,
   "metadata": {},
   "outputs": [
    {
     "output_type": "stream",
     "name": "stdout",
     "text": [
      "65.6\n"
     ]
    }
   ],
   "source": [
    "ghz = 4.1\n",
    "fma = 2\n",
    "simd = 8\n",
    "print(ghz * fma * simd)"
   ]
  },
  {
   "cell_type": "code",
   "execution_count": null,
   "metadata": {},
   "outputs": [],
   "source": [
    "sources.append('blas')\n",
    "ns = []\n",
    "\n",
    "results.append([matmul(n) for n in ns])\n",
    "\n",
    "for r in results:\n",
    "    plt.plot(ns, [(n**3) / x / (10**9) for x, n in zip(r, ns)])"
   ]
  }
 ]
}