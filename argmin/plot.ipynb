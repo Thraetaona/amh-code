{
 "cells": [
  {
   "cell_type": "code",
   "execution_count": 1,
   "metadata": {},
   "outputs": [],
   "source": [
    "import matplotlib.pyplot as plt\n",
    "import seaborn as sns\n",
    "\n",
    "sns.reset_defaults()\n",
    "sns.set_theme(style='whitegrid')"
   ]
  },
  {
   "cell_type": "code",
   "execution_count": 79,
   "metadata": {},
   "outputs": [],
   "source": [
    "def bench(source, n=2**16, cc='g++', dec=False):\n",
    "    res = !{cc} -std=c++17 -O3 -funroll-loops -march=native -D N={n} {'-D DEC' if dec else ''} {source}.cc -o run && ./run\n",
    "    print(source, n, res)\n",
    "    return float(res[-1].split()[0])\n",
    "\n",
    "ns = list(int(2**k) for k in range(10, 21))"
   ]
  },
  {
   "cell_type": "code",
   "execution_count": 24,
   "metadata": {},
   "outputs": [
    {
     "name": "stdout",
     "output_type": "stream",
     "text": [
      "simple 65536 ['35545 3722', '0.00004148 x 32768', '1.58 GFLOPS']\n"
     ]
    },
    {
     "data": {
      "text/plain": [
       "1.58"
      ]
     },
     "execution_count": 24,
     "metadata": {},
     "output_type": "execute_result"
    }
   ],
   "source": [
    "bench('simple')"
   ]
  },
  {
   "cell_type": "code",
   "execution_count": 25,
   "metadata": {},
   "outputs": [
    {
     "name": "stdout",
     "output_type": "stream",
     "text": [
      "std 1024 ['35545 3722', '0.00023086 x 32768', '0.28 GFLOPS']\n",
      "std 2048 ['35545 3722', '0.00023119 x 32768', '0.28 GFLOPS']\n",
      "std 4096 ['35545 3722', '0.00023115 x 32768', '0.28 GFLOPS']\n",
      "std 8192 ['35545 3722', '0.00023077 x 32768', '0.28 GFLOPS']\n",
      "std 16384 ['35545 3722', '0.00023088 x 32768', '0.28 GFLOPS']\n",
      "std 32768 ['35545 3722', '0.00023105 x 32768', '0.28 GFLOPS']\n",
      "std 65536 ['35545 3722', '0.00023095 x 32768', '0.28 GFLOPS']\n",
      "std 131072 ['35545 3722', '0.00023054 x 32768', '0.28 GFLOPS']\n",
      "std 262144 ['35545 3722', '0.00023059 x 32768', '0.28 GFLOPS']\n",
      "std 524288 ['35545 3722', '0.00023129 x 32768', '0.28 GFLOPS']\n",
      "std 1048576 ['35545 3722', '0.00023096 x 32768', '0.28 GFLOPS']\n",
      "std 1024 ['65535 1', '0.00023060 x 32768', '0.28 GFLOPS']\n",
      "std 2048 ['65535 1', '0.00023070 x 32768', '0.28 GFLOPS']\n",
      "std 4096 ['65535 1', '0.00023063 x 32768', '0.28 GFLOPS']\n",
      "std 8192 ['65535 1', '0.00023118 x 32768', '0.28 GFLOPS']\n",
      "std 16384 ['65535 1', '0.00023055 x 32768', '0.28 GFLOPS']\n",
      "std 32768 ['65535 1', '0.00023060 x 32768', '0.28 GFLOPS']\n",
      "std 65536 ['65535 1', '0.00023062 x 32768', '0.28 GFLOPS']\n",
      "std 131072 ['65535 1', '0.00023101 x 32768', '0.28 GFLOPS']\n",
      "std 262144 ['65535 1', '0.00023088 x 32768', '0.28 GFLOPS']\n",
      "std 524288 ['65535 1', '0.00023138 x 32768', '0.28 GFLOPS']\n",
      "std 1048576 ['65535 1', '0.00023143 x 32768', '0.28 GFLOPS']\n",
      "simple 1024 ['35545 3722', '0.00004154 x 32768', '1.58 GFLOPS']\n",
      "simple 2048 ['35545 3722', '0.00004163 x 32768', '1.57 GFLOPS']\n",
      "simple 4096 ['35545 3722', '0.00004139 x 32768', '1.58 GFLOPS']\n",
      "simple 8192 ['35545 3722', '0.00004156 x 32768', '1.58 GFLOPS']\n",
      "simple 16384 ['35545 3722', '0.00004141 x 32768', '1.58 GFLOPS']\n",
      "simple 32768 ['35545 3722', '0.00004160 x 32768', '1.58 GFLOPS']\n",
      "simple 65536 ['35545 3722', '0.00004150 x 32768', '1.58 GFLOPS']\n",
      "simple 131072 ['35545 3722', '0.00004342 x 32768', '1.51 GFLOPS']\n",
      "simple 262144 ['35545 3722', '0.00004163 x 32768', '1.57 GFLOPS']\n",
      "simple 524288 ['35545 3722', '0.00004145 x 32768', '1.58 GFLOPS']\n",
      "simple 1048576 ['35545 3722', '0.00004203 x 32768', '1.56 GFLOPS']\n",
      "simple 1024 ['65535 1', '0.00003390 x 32768', '1.93 GFLOPS']\n",
      "simple 2048 ['65535 1', '0.00003385 x 32768', '1.94 GFLOPS']\n",
      "simple 4096 ['65535 1', '0.00003379 x 32768', '1.94 GFLOPS']\n",
      "simple 8192 ['65535 1', '0.00003386 x 32768', '1.94 GFLOPS']\n",
      "simple 16384 ['65535 1', '0.00003386 x 32768', '1.94 GFLOPS']\n",
      "simple 32768 ['65535 1', '0.00003383 x 32768', '1.94 GFLOPS']\n",
      "simple 65536 ['65535 1', '0.00003388 x 32768', '1.93 GFLOPS']\n",
      "simple 131072 ['65535 1', '0.00003385 x 32768', '1.94 GFLOPS']\n",
      "simple 262144 ['65535 1', '0.00003400 x 32768', '1.93 GFLOPS']\n",
      "simple 524288 ['65535 1', '0.00003390 x 32768', '1.93 GFLOPS']\n",
      "simple 1048576 ['65535 1', '0.00003392 x 32768', '1.93 GFLOPS']\n",
      "cmov 1024 ['35545 3722', '0.00004545 x 32768', '1.44 GFLOPS']\n",
      "cmov 2048 ['35545 3722', '0.00004567 x 32768', '1.44 GFLOPS']\n",
      "cmov 4096 ['35545 3722', '0.00004575 x 32768', '1.43 GFLOPS']\n",
      "cmov 8192 ['35545 3722', '0.00004553 x 32768', '1.44 GFLOPS']\n",
      "cmov 16384 ['35545 3722', '0.00004571 x 32768', '1.43 GFLOPS']\n",
      "cmov 32768 ['35545 3722', '0.00004553 x 32768', '1.44 GFLOPS']\n",
      "cmov 65536 ['35545 3722', '0.00004544 x 32768', '1.44 GFLOPS']\n",
      "cmov 131072 ['35545 3722', '0.00004551 x 32768', '1.44 GFLOPS']\n",
      "cmov 262144 ['35545 3722', '0.00004547 x 32768', '1.44 GFLOPS']\n",
      "cmov 524288 ['35545 3722', '0.00004572 x 32768', '1.43 GFLOPS']\n",
      "cmov 1048576 ['35545 3722', '0.00004575 x 32768', '1.43 GFLOPS']\n",
      "cmov 1024 ['65535 1', '0.00003392 x 32768', '1.93 GFLOPS']\n",
      "cmov 2048 ['65535 1', '0.00003387 x 32768', '1.94 GFLOPS']\n",
      "cmov 4096 ['65535 1', '0.00003390 x 32768', '1.93 GFLOPS']\n",
      "cmov 8192 ['65535 1', '0.00003395 x 32768', '1.93 GFLOPS']\n",
      "cmov 16384 ['65535 1', '0.00003392 x 32768', '1.93 GFLOPS']\n",
      "cmov 32768 ['65535 1', '0.00003382 x 32768', '1.94 GFLOPS']\n",
      "cmov 65536 ['65535 1', '0.00003400 x 32768', '1.93 GFLOPS']\n",
      "cmov 131072 ['65535 1', '0.00003389 x 32768', '1.93 GFLOPS']\n",
      "cmov 262144 ['65535 1', '0.00003414 x 32768', '1.92 GFLOPS']\n",
      "cmov 524288 ['65535 1', '0.00003389 x 32768', '1.93 GFLOPS']\n",
      "cmov 1048576 ['65535 1', '0.00003396 x 32768', '1.93 GFLOPS']\n",
      "hint 1024 ['35545 3722', '0.00002897 x 32768', '2.26 GFLOPS']\n",
      "hint 2048 ['35545 3722', '0.00002912 x 32768', '2.25 GFLOPS']\n",
      "hint 4096 ['35545 3722', '0.00002900 x 32768', '2.26 GFLOPS']\n",
      "hint 8192 ['35545 3722', '0.00002909 x 32768', '2.25 GFLOPS']\n",
      "hint 16384 ['35545 3722', '0.00002897 x 32768', '2.26 GFLOPS']\n",
      "hint 32768 ['35545 3722', '0.00002919 x 32768', '2.25 GFLOPS']\n",
      "hint 65536 ['35545 3722', '0.00002916 x 32768', '2.25 GFLOPS']\n",
      "hint 131072 ['35545 3722', '0.00002899 x 32768', '2.26 GFLOPS']\n",
      "hint 262144 ['35545 3722', '0.00002909 x 32768', '2.25 GFLOPS']\n",
      "hint 524288 ['35545 3722', '0.00002907 x 32768', '2.25 GFLOPS']\n",
      "hint 1048576 ['35545 3722', '0.00002906 x 32768', '2.26 GFLOPS']\n",
      "hint 1024 ['65535 1', '0.00004382 x 32768', '1.50 GFLOPS']\n",
      "hint 2048 ['65535 1', '0.00004381 x 32768', '1.50 GFLOPS']\n",
      "hint 4096 ['65535 1', '0.00004379 x 32768', '1.50 GFLOPS']\n",
      "hint 8192 ['65535 1', '0.00004386 x 32768', '1.49 GFLOPS']\n",
      "hint 16384 ['65535 1', '0.00004392 x 32768', '1.49 GFLOPS']\n",
      "hint 32768 ['65535 1', '0.00004381 x 32768', '1.50 GFLOPS']\n",
      "hint 65536 ['65535 1', '0.00004379 x 32768', '1.50 GFLOPS']\n",
      "hint 131072 ['65535 1', '0.00004375 x 32768', '1.50 GFLOPS']\n",
      "hint 262144 ['65535 1', '0.00004391 x 32768', '1.49 GFLOPS']\n",
      "hint 524288 ['65535 1', '0.00004385 x 32768', '1.49 GFLOPS']\n",
      "hint 1048576 ['65535 1', '0.00004376 x 32768', '1.50 GFLOPS']\n",
      "index 1024 ['35545 3722', '0.00001503 x 32768', '4.36 GFLOPS']\n",
      "index 2048 ['35545 3722', '0.00001506 x 32768', '4.35 GFLOPS']\n",
      "index 4096 ['35545 3722', '0.00001509 x 32768', '4.34 GFLOPS']\n",
      "index 8192 ['35545 3722', '0.00001504 x 32768', '4.36 GFLOPS']\n",
      "index 16384 ['35545 3722', '0.00001503 x 32768', '4.36 GFLOPS']\n",
      "index 32768 ['35545 3722', '0.00001513 x 32768', '4.33 GFLOPS']\n",
      "index 65536 ['35545 3722', '0.00001503 x 32768', '4.36 GFLOPS']\n",
      "index 131072 ['35545 3722', '0.00001505 x 32768', '4.35 GFLOPS']\n",
      "index 262144 ['35545 3722', '0.00001498 x 32768', '4.37 GFLOPS']\n",
      "index 524288 ['35545 3722', '0.00001497 x 32768', '4.38 GFLOPS']\n",
      "index 1048576 ['35545 3722', '0.00001513 x 32768', '4.33 GFLOPS']\n",
      "index 1024 ['65535 1', '0.00001510 x 32768', '4.34 GFLOPS']\n",
      "index 2048 ['65535 1', '0.00001532 x 32768', '4.28 GFLOPS']\n",
      "index 4096 ['65535 1', '0.00001506 x 32768', '4.35 GFLOPS']\n",
      "index 8192 ['65535 1', '0.00001537 x 32768', '4.26 GFLOPS']\n",
      "index 16384 ['65535 1', '0.00001502 x 32768', '4.36 GFLOPS']\n",
      "index 32768 ['65535 1', '0.00001502 x 32768', '4.36 GFLOPS']\n",
      "index 65536 ['65535 1', '0.00001506 x 32768', '4.35 GFLOPS']\n",
      "index 131072 ['65535 1', '0.00001497 x 32768', '4.38 GFLOPS']\n",
      "index 262144 ['65535 1', '0.00001506 x 32768', '4.35 GFLOPS']\n",
      "index 524288 ['65535 1', '0.00001504 x 32768', '4.36 GFLOPS']\n",
      "index 1048576 ['65535 1', '0.00001511 x 32768', '4.34 GFLOPS']\n",
      "simdmin-single 1024 ['35545 3722', '0.00000711 x 32768', '9.22 GFLOPS']\n",
      "simdmin-single 2048 ['35545 3722', '0.00000700 x 32768', '9.36 GFLOPS']\n",
      "simdmin-single 4096 ['35545 3722', '0.00000707 x 32768', '9.27 GFLOPS']\n",
      "simdmin-single 8192 ['35545 3722', '0.00000709 x 32768', '9.24 GFLOPS']\n",
      "simdmin-single 16384 ['35545 3722', '0.00000707 x 32768', '9.26 GFLOPS']\n",
      "simdmin-single 32768 ['35545 3722', '0.00000709 x 32768', '9.24 GFLOPS']\n",
      "simdmin-single 65536 ['35545 3722', '0.00000705 x 32768', '9.29 GFLOPS']\n",
      "simdmin-single 131072 ['35545 3722', '0.00000731 x 32768', '8.96 GFLOPS']\n",
      "simdmin-single 262144 ['35545 3722', '0.00000711 x 32768', '9.22 GFLOPS']\n",
      "simdmin-single 524288 ['35545 3722', '0.00000732 x 32768', '8.95 GFLOPS']\n",
      "simdmin-single 1048576 ['35545 3722', '0.00000729 x 32768', '8.99 GFLOPS']\n",
      "simdmin-single 1024 ['65535 1', '0.00012312 x 32768', '0.53 GFLOPS']\n",
      "simdmin-single 2048 ['65535 1', '0.00012319 x 32768', '0.53 GFLOPS']\n",
      "simdmin-single 4096 ['65535 1', '0.00012260 x 32768', '0.53 GFLOPS']\n",
      "simdmin-single 8192 ['65535 1', '0.00012158 x 32768', '0.54 GFLOPS']\n",
      "simdmin-single 16384 ['65535 1', '0.00012399 x 32768', '0.53 GFLOPS']\n",
      "simdmin-single 32768 ['65535 1', '0.00012316 x 32768', '0.53 GFLOPS']\n",
      "simdmin-single 65536 ['65535 1', '0.00012660 x 32768', '0.52 GFLOPS']\n",
      "simdmin-single 131072 ['65535 1', '0.00012225 x 32768', '0.54 GFLOPS']\n",
      "simdmin-single 262144 ['65535 1', '0.00012126 x 32768', '0.54 GFLOPS']\n",
      "simdmin-single 524288 ['65535 1', '0.00012222 x 32768', '0.54 GFLOPS']\n",
      "simdmin-single 1048576 ['65535 1', '0.00012475 x 32768', '0.53 GFLOPS']\n",
      "simdmin 1024 ['35545 3722', '0.00000461 x 32768', '14.20 GFLOPS']\n",
      "simdmin 2048 ['35545 3722', '0.00000486 x 32768', '13.49 GFLOPS']\n",
      "simdmin 4096 ['35545 3722', '0.00000459 x 32768', '14.28 GFLOPS']\n",
      "simdmin 8192 ['35545 3722', '0.00000505 x 32768', '12.97 GFLOPS']\n",
      "simdmin 16384 ['35545 3722', '0.00000461 x 32768', '14.22 GFLOPS']\n",
      "simdmin 32768 ['35545 3722', '0.00000447 x 32768', '14.65 GFLOPS']\n",
      "simdmin 65536 ['35545 3722', '0.00000467 x 32768', '14.02 GFLOPS']\n",
      "simdmin 131072 ['35545 3722', '0.00000452 x 32768', '14.49 GFLOPS']\n",
      "simdmin 262144 ['35545 3722', '0.00000454 x 32768', '14.44 GFLOPS']\n",
      "simdmin 524288 ['35545 3722', '0.00000462 x 32768', '14.18 GFLOPS']\n",
      "simdmin 1048576 ['35545 3722', '0.00000459 x 32768', '14.29 GFLOPS']\n",
      "simdmin 1024 ['65535 1', '0.00004717 x 32768', '1.39 GFLOPS']\n",
      "simdmin 2048 ['65535 1', '0.00004685 x 32768', '1.40 GFLOPS']\n",
      "simdmin 4096 ['65535 1', '0.00004675 x 32768', '1.40 GFLOPS']\n",
      "simdmin 8192 ['65535 1', '0.00004700 x 32768', '1.39 GFLOPS']\n",
      "simdmin 16384 ['65535 1', '0.00004783 x 32768', '1.37 GFLOPS']\n",
      "simdmin 32768 ['65535 1', '0.00004639 x 32768', '1.41 GFLOPS']\n",
      "simdmin 65536 ['65535 1', '0.00004666 x 32768', '1.40 GFLOPS']\n",
      "simdmin 131072 ['65535 1', '0.00004650 x 32768', '1.41 GFLOPS']\n",
      "simdmin 262144 ['65535 1', '0.00004648 x 32768', '1.41 GFLOPS']\n",
      "simdmin 524288 ['65535 1', '0.00004643 x 32768', '1.41 GFLOPS']\n",
      "simdmin 1048576 ['65535 1', '0.00004634 x 32768', '1.41 GFLOPS']\n",
      "simdmin-testz 1024 ['35545 3722', '0.00000517 x 32768', '12.68 GFLOPS']\n",
      "simdmin-testz 2048 ['35545 3722', '0.00000485 x 32768', '13.51 GFLOPS']\n",
      "simdmin-testz 4096 ['35545 3722', '0.00000486 x 32768', '13.49 GFLOPS']\n",
      "simdmin-testz 8192 ['35545 3722', '0.00000487 x 32768', '13.44 GFLOPS']\n",
      "simdmin-testz 16384 ['35545 3722', '0.00000485 x 32768', '13.51 GFLOPS']\n",
      "simdmin-testz 32768 ['35545 3722', '0.00000482 x 32768', '13.59 GFLOPS']\n",
      "simdmin-testz 65536 ['35545 3722', '0.00000512 x 32768', '12.79 GFLOPS']\n",
      "simdmin-testz 131072 ['35545 3722', '0.00000495 x 32768', '13.24 GFLOPS']\n",
      "simdmin-testz 262144 ['35545 3722', '0.00000499 x 32768', '13.14 GFLOPS']\n",
      "simdmin-testz 524288 ['35545 3722', '0.00000484 x 32768', '13.55 GFLOPS']\n",
      "simdmin-testz 1048576 ['35545 3722', '0.00000496 x 32768', '13.21 GFLOPS']\n",
      "simdmin-testz 1024 ['65535 1', '0.00004651 x 32768', '1.41 GFLOPS']\n",
      "simdmin-testz 2048 ['65535 1', '0.00004647 x 32768', '1.41 GFLOPS']\n",
      "simdmin-testz 4096 ['65535 1', '0.00004671 x 32768', '1.40 GFLOPS']\n",
      "simdmin-testz 8192 ['65535 1', '0.00004643 x 32768', '1.41 GFLOPS']\n",
      "simdmin-testz 16384 ['65535 1', '0.00004640 x 32768', '1.41 GFLOPS']\n",
      "simdmin-testz 32768 ['65535 1', '0.00004652 x 32768', '1.41 GFLOPS']\n",
      "simdmin-testz 65536 ['65535 1', '0.00004664 x 32768', '1.41 GFLOPS']\n",
      "simdmin-testz 131072 ['65535 1', '0.00004650 x 32768', '1.41 GFLOPS']\n",
      "simdmin-testz 262144 ['65535 1', '0.00004663 x 32768', '1.41 GFLOPS']\n",
      "simdmin-testz 524288 ['65535 1', '0.00004654 x 32768', '1.41 GFLOPS']\n",
      "simdmin-testz 1048576 ['65535 1', '0.00004653 x 32768', '1.41 GFLOPS']\n"
     ]
    }
   ],
   "source": [
    "results = {}\n",
    "results_dec = {}\n",
    "for source in ['std', 'simple', 'cmov', 'hint', 'index', 'simdmin-single', 'simdmin', 'simdmin-testz']:\n",
    "    results[source] = [bench(source, n=n) for n in ns]\n",
    "    results_dec[source] = [bench(source, n=n, dec=True) for n in ns]"
   ]
  },
  {
   "cell_type": "code",
   "execution_count": 26,
   "metadata": {},
   "outputs": [],
   "source": [
    "import pickle\n",
    "\n",
    "with open('results.pkl', 'wb') as f:\n",
    "    pickle.dump([results, results_dec], f)"
   ]
  },
  {
   "cell_type": "code",
   "execution_count": 38,
   "metadata": {},
   "outputs": [
    {
     "name": "stdout",
     "output_type": "stream",
     "text": [
      "simdmin-intrinsics 65536 ['35545 3722', '0.00000679 x 32768', '9.65 GFLOPS']\n"
     ]
    },
    {
     "data": {
      "text/plain": [
       "9.65"
      ]
     },
     "execution_count": 38,
     "metadata": {},
     "output_type": "execute_result"
    }
   ],
   "source": [
    "bench('simdmin-intrinsics')"
   ]
  },
  {
   "cell_type": "code",
   "execution_count": 40,
   "metadata": {},
   "outputs": [
    {
     "name": "stdout",
     "output_type": "stream",
     "text": [
      "std 0.28 0.28\n",
      "simple 1.58 1.94\n",
      "cmov 1.44 1.94\n",
      "hint 2.26 1.5\n",
      "index 4.38 4.38\n",
      "simdmin-single 9.36 0.54\n",
      "simdmin 14.65 1.41\n",
      "simdmin-testz 13.59 1.41\n"
     ]
    }
   ],
   "source": [
    "for source in results.keys():\n",
    "    print(source, max(results[source]), max(results_dec[source]))"
   ]
  },
  {
   "cell_type": "code",
   "execution_count": 81,
   "metadata": {},
   "outputs": [
    {
     "name": "stdout",
     "output_type": "stream",
     "text": [
      "std 65536 ['35545 3722', '0.28 GFLOPS']\n"
     ]
    },
    {
     "data": {
      "text/plain": [
       "0.28"
      ]
     },
     "execution_count": 81,
     "metadata": {},
     "output_type": "execute_result"
    }
   ],
   "source": [
    "bench('std', n=2**16)"
   ]
  },
  {
   "cell_type": "code",
   "execution_count": 86,
   "metadata": {},
   "outputs": [
    {
     "name": "stdout",
     "output_type": "stream",
     "text": [
      "simple 4096 ['1270 100669', '1.54 GFLOPS']\n"
     ]
    },
    {
     "data": {
      "text/plain": [
       "1.54"
      ]
     },
     "execution_count": 86,
     "metadata": {},
     "output_type": "execute_result"
    }
   ],
   "source": [
    "bench('simple', n=2**12)"
   ]
  },
  {
   "cell_type": "code",
   "execution_count": 83,
   "metadata": {},
   "outputs": [
    {
     "name": "stdout",
     "output_type": "stream",
     "text": [
      "hint 65536 ['35545 3722', '2.61 GFLOPS']\n"
     ]
    },
    {
     "data": {
      "text/plain": [
       "2.61"
      ]
     },
     "execution_count": 83,
     "metadata": {},
     "output_type": "execute_result"
    }
   ],
   "source": [
    "bench('hint', n=2**16)"
   ]
  },
  {
   "cell_type": "code",
   "execution_count": 87,
   "metadata": {},
   "outputs": [
    {
     "name": "stdout",
     "output_type": "stream",
     "text": [
      "cmov 4096 ['1270 100669', '1.51 GFLOPS']\n"
     ]
    },
    {
     "data": {
      "text/plain": [
       "1.51"
      ]
     },
     "execution_count": 87,
     "metadata": {},
     "output_type": "execute_result"
    }
   ],
   "source": [
    "bench('cmov', n=2**12)"
   ]
  },
  {
   "cell_type": "code",
   "execution_count": 92,
   "metadata": {},
   "outputs": [
    {
     "name": "stdout",
     "output_type": "stream",
     "text": [
      "simdmin-intrinsics-ilp 8192 ['1270 100669', '14.89 GFLOPS']\n"
     ]
    },
    {
     "data": {
      "text/plain": [
       "14.89"
      ]
     },
     "execution_count": 92,
     "metadata": {},
     "output_type": "execute_result"
    }
   ],
   "source": [
    "bench('simdmin-intrinsics-ilp', n=2**13)"
   ]
  },
  {
   "cell_type": "code",
   "execution_count": 11,
   "metadata": {},
   "outputs": [
    {
     "name": "stdout",
     "output_type": "stream",
     "text": [
      "simdmin 1024 ['35545 3722', '0.00000473 x 262144', '13.84 GFLOPS']\n",
      "simdmin 2048 ['35545 3722', '0.00000450 x 262144', '14.55 GFLOPS']\n",
      "simdmin 4096 ['35545 3722', '0.00000454 x 262144', '14.45 GFLOPS']\n",
      "simdmin 8192 ['35545 3722', '0.00000447 x 262144', '14.65 GFLOPS']\n",
      "simdmin 16384 ['35545 3722', '0.00000486 x 262144', '13.49 GFLOPS']\n",
      "simdmin 32768 ['35545 3722', '0.00000451 x 262144', '14.53 GFLOPS']\n",
      "simdmin 65536 ['35545 3722', '0.00000480 x 262144', '13.65 GFLOPS']\n",
      "simdmin 131072 ['35545 3722', '0.00000447 x 262144', '14.66 GFLOPS']\n",
      "simdmin 262144 ['35545 3722', '0.00000450 x 262144', '14.56 GFLOPS']\n",
      "simdmin 524288 ['35545 3722', '0.00000478 x 262144', '13.71 GFLOPS']\n",
      "simdmin 1048576 ['35545 3722', '0.00000480 x 262144', '13.66 GFLOPS']\n"
     ]
    },
    {
     "data": {
      "text/plain": [
       "[13.84, 14.55, 14.45, 14.65, 13.49, 14.53, 13.65, 14.66, 14.56, 13.71, 13.66]"
      ]
     },
     "execution_count": 11,
     "metadata": {},
     "output_type": "execute_result"
    }
   ],
   "source": [
    "[bench('simdmin', n=n) for n in ns]"
   ]
  },
  {
   "cell_type": "code",
   "execution_count": 7,
   "metadata": {},
   "outputs": [
    {
     "name": "stdout",
     "output_type": "stream",
     "text": [
      "cmov 65536 ['35545 3722', '0.00004547 x 262144', '1.44 GFLOPS']\n"
     ]
    },
    {
     "data": {
      "text/plain": [
       "1.44"
      ]
     },
     "execution_count": 7,
     "metadata": {},
     "output_type": "execute_result"
    }
   ],
   "source": [
    "bench('cmov')"
   ]
  },
  {
   "cell_type": "code",
   "execution_count": 8,
   "metadata": {},
   "outputs": [
    {
     "name": "stdout",
     "output_type": "stream",
     "text": [
      "simple 65536 ['35545 3722', '0.00004134 x 262144', '1.59 GFLOPS']\n"
     ]
    },
    {
     "data": {
      "text/plain": [
       "1.59"
      ]
     },
     "execution_count": 8,
     "metadata": {},
     "output_type": "execute_result"
    }
   ],
   "source": [
    "bench('simple')"
   ]
  },
  {
   "cell_type": "code",
   "execution_count": 9,
   "metadata": {},
   "outputs": [
    {
     "name": "stdout",
     "output_type": "stream",
     "text": [
      "simdmin-testz 65536 ['35545 3722', '0.00000514 x 262144', '12.75 GFLOPS']\n"
     ]
    },
    {
     "data": {
      "text/plain": [
       "12.75"
      ]
     },
     "execution_count": 9,
     "metadata": {},
     "output_type": "execute_result"
    }
   ],
   "source": [
    "bench('simdmin-testz')"
   ]
  },
  {
   "cell_type": "code",
   "execution_count": null,
   "metadata": {},
   "outputs": [],
   "source": [
    "def plot(title=None, ylabel=None, path=None, ch=None, legend=False, ylim=None, xlabel='Array size', loc='best'):\n",
    "    if ch:\n",
    "        lines = [\n",
    "            (2**13, \"32K\"),\n",
    "            (2**17, \"512K\"),\n",
    "            (2**20, \"4M\"),\n",
    "        ]\n",
    "\n",
    "        for x, t in lines:\n",
    "            plt.text(x * 1.2, ch, t)\n",
    "            plt.axvline(x=x, color='black', linestyle='--')\n",
    "\n",
    "    plt.xscale('log', basex=2)\n",
    "    plt.xlabel(xlabel)\n",
    "\n",
    "    if ylabel:\n",
    "        plt.ylabel(ylabel)\n",
    "\n",
    "    if title:\n",
    "        plt.title(title, pad=12)\n",
    "\n",
    "    if legend:\n",
    "        plt.legend(loc=loc)\n",
    "\n",
    "    plt.ylim(bottom=0, top=ylim)\n",
    "    plt.margins(0)\n",
    "\n",
    "    if path:\n",
    "        fig = plt.gcf()\n",
    "        fig.savefig(path)\n",
    "    plt.show()\n",
    "\n",
    "\n",
    "#plt.plot(ns, inc_res, color='darkred')\n",
    "#plot('for (int i = 0; i < n; i++) a[i]++', 'Increments per second ($10^9$)', 'inc.svg', 4.7)"
   ]
  }
 ],
 "metadata": {
  "kernelspec": {
   "display_name": "Python 3",
   "language": "python",
   "name": "python3"
  },
  "language_info": {
   "codemirror_mode": {
    "name": "ipython",
    "version": 3
   },
   "file_extension": ".py",
   "mimetype": "text/x-python",
   "name": "python",
   "nbconvert_exporter": "python",
   "pygments_lexer": "ipython3",
   "version": "3.8.10"
  },
  "orig_nbformat": 2
 },
 "nbformat": 4,
 "nbformat_minor": 2
}
